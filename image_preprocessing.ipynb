{
 "cells": [
  {
   "cell_type": "code",
   "execution_count": 25,
   "metadata": {},
   "outputs": [],
   "source": [
    "%matplotlib inline\n",
    "from PIL import Image\n",
    "import numpy as np\n",
    "import pandas as pd\n",
    "import statistics\n",
    "\n",
    "from ipywidgets import interact, widgets\n",
    "\n",
    "import skimage\n",
    "from skimage.io import imread, imshow\n",
    "from skimage.color import rgb2gray, rgb2hsv\n",
    "from skimage.measure import label, regionprops, regionprops_table\n",
    "from skimage.filters import threshold_otsu\n",
    "from scipy.ndimage import median_filter\n",
    "from matplotlib.patches import Rectangle\n",
    "from tqdm import tqdm"
   ]
  },
  {
   "cell_type": "markdown",
   "metadata": {},
   "source": [
    "## Preparing the Images"
   ]
  },
  {
   "cell_type": "code",
   "execution_count": 26,
   "metadata": {},
   "outputs": [],
   "source": [
    "#Scaling down Images if needed\n",
    "MAX_SIZE = (500,500)\n",
    "image = Image.open('img1.jpg')\n",
    "image.thumbnail(MAX_SIZE, Image.ANTIALIAS)"
   ]
  },
  {
   "cell_type": "code",
   "execution_count": 27,
   "metadata": {},
   "outputs": [],
   "source": [
    "#isolating color channels\n",
    "red,green,blue = image.split()\n",
    "#getting pixel data for channels\n",
    "red_val = list(red.getdata())\n",
    "green_val = list(green.getdata())\n",
    "blue_val = list(blue.getdata())"
   ]
  },
  {
   "cell_type": "code",
   "execution_count": 28,
   "metadata": {},
   "outputs": [],
   "source": [
    "#combine top and bottom row\n",
    "red_filter_pixels = red_val[:image.width] + red_val[-image.width:]\n",
    "green_filter_pixels = green_val[:image.width] + green_val[-image.width:]\n",
    "blue_filter_pixels = blue_val[:image.width] + blue_val[-image.width:]"
   ]
  },
  {
   "cell_type": "code",
   "execution_count": 29,
   "metadata": {},
   "outputs": [
    {
     "data": {
      "application/vnd.jupyter.widget-view+json": {
       "model_id": "d5d2bf2590a54a7a9985531489bd6fa2",
       "version_major": 2,
       "version_minor": 0
      },
      "text/plain": [
       "interactive(children=(FloatSlider(value=0.0, description='r', max=1.0, step=0.01), FloatSlider(value=0.0, desc…"
      ]
     },
     "metadata": {},
     "output_type": "display_data"
    }
   ],
   "source": [
    "#calculate mode for the filters\n",
    "red_mode = statistics.mode(red_filter_pixels)\n",
    "green_mode = statistics.mode(green_filter_pixels)\n",
    "blue_mode = statistics.mode(blue_filter_pixels)\n",
    "\n",
    "\n",
    "#calculate mode of red channel --> to determine water | DEFAULT VAL\n",
    "red_mode_range = 0.0\n",
    "green_mode_range = 0\n",
    "blue_mode_range = 0.0\n",
    "\n",
    "#getting range for filter\n",
    "@interact(r=(0.0,1.0,0.01),g=(0.0,1.0,0.01),b=(0.0,1.0,0.01))\n",
    "def adj_range(r=red_mode_range,g=green_mode_range,b=blue_mode_range):\n",
    "    red_range = (int(red_mode * (1-r)), int(red_mode * (1+r)))\n",
    "    green_range = (int(green_mode * (1-g)), int(green_mode * (1+g)))\n",
    "    blue_range = (int(blue_mode * (1-b)), int(blue_mode * (1+b)))\n",
    "    \n",
    "    \n",
    "    #blacken out pixels if they are in red range determined to be water\n",
    "    pixels = image.load()\n",
    "    for i in range(image.width):\n",
    "        for j in range(image.height):\n",
    "            if pixels[i,j][0] in range(red_range[0],red_range[1]) or \\\n",
    "               pixels[i,j][1] in range(green_range[0],green_range[1]) or \\\n",
    "               pixels[i,j][2] in range(blue_range[0],blue_range[1]):\n",
    "                pixels[i,j] = (255,255,255) #replaces filtered pixels with white\n",
    "    display(image)\n"
   ]
  },
  {
   "cell_type": "code",
   "execution_count": null,
   "metadata": {},
   "outputs": [],
   "source": []
  },
  {
   "cell_type": "code",
   "execution_count": null,
   "metadata": {},
   "outputs": [],
   "source": []
  }
 ],
 "metadata": {
  "kernelspec": {
   "display_name": "Python 3 (ipykernel)",
   "language": "python",
   "name": "python3"
  },
  "language_info": {
   "codemirror_mode": {
    "name": "ipython",
    "version": 3
   },
   "file_extension": ".py",
   "mimetype": "text/x-python",
   "name": "python",
   "nbconvert_exporter": "python",
   "pygments_lexer": "ipython3",
   "version": "3.10.2"
  }
 },
 "nbformat": 4,
 "nbformat_minor": 4
}
