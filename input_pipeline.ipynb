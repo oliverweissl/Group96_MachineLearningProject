{
 "cells": [
  {
   "cell_type": "code",
   "execution_count": 1,
   "id": "e771bafc",
   "metadata": {},
   "outputs": [],
   "source": [
    "import datetime\n",
    "import os\n",
    "import time\n",
    "import pickle\n",
    "import wandb\n",
    "import cv2\n",
    "\n",
    "import pandas as pd\n",
    "import matplotlib.pyplot as plt\n",
    "import tensorflow as tf\n",
    "import tensorflow_addons as tfa\n",
    "import tensorflow.compat.v1 as tfc\n",
    "import numpy as np\n",
    "\n",
    "from PIL import Image,ImageOps\n",
    "from tqdm import tqdm\n",
    "from tensorflow import keras\n",
    "from tensorflow.keras import layers\n",
    "from keras.utils.vis_utils import plot_model\n",
    "from keras.callbacks import TensorBoard\n",
    "from keras import callbacks\n",
    "from sklearn.metrics import confusion_matrix\n",
    "from wandb.keras import WandbCallback"
   ]
  },
  {
   "cell_type": "code",
   "execution_count": 2,
   "id": "e2a50b95",
   "metadata": {},
   "outputs": [
    {
     "name": "stdout",
     "output_type": "stream",
     "text": [
      "Num GPUs Available:  1\n",
      "Found GPU at: /device:GPU:0\n"
     ]
    },
    {
     "data": {
      "text/plain": [
       "True"
      ]
     },
     "execution_count": 2,
     "metadata": {},
     "output_type": "execute_result"
    }
   ],
   "source": [
    "print(\"Num GPUs Available: \", len(tf.config.list_physical_devices('GPU')))\n",
    "device_name = tf.test.gpu_device_name()\n",
    "if not device_name:\n",
    "  raise SystemError('GPU device not found')\n",
    "print('Found GPU at: {}'.format(device_name))\n",
    "gpu_options= tfc.GPUOptions(per_process_gpu_memory_fraction = 0.8)\n",
    "\n",
    "try: sess.close() \n",
    "except: pass\n",
    "sess = tfc.InteractiveSession(config=tfc.ConfigProto(gpu_options=gpu_options))\n",
    "tf.executing_eagerly()\n"
   ]
  },
  {
   "cell_type": "markdown",
   "id": "cc2df320",
   "metadata": {},
   "source": [
    "## CONSTANTS"
   ]
  },
  {
   "cell_type": "code",
   "execution_count": 3,
   "id": "6a15a792",
   "metadata": {},
   "outputs": [],
   "source": [
    "IMG_SIZE = 128\n",
    "CHANNELS = 1\n",
    "#INPUT_SHAPE = [IMG_SIZE,int(IMG_SIZE/2),3]\n",
    "INPUT_SHAPE = [IMG_SIZE,IMG_SIZE,CHANNELS]\n",
    "\n",
    "BATCH_SIZE = 64\n",
    "EPOCHS = 300\n",
    "\n",
    "ROT= 20\n",
    "\n",
    "\n",
    "NAME = f\"O_CNN{int(time.time())}\"\n",
    "SOURCE = \"train_images/\"\n",
    "RES = f\"train_images_res_{INPUT_SHAPE[0]}x{INPUT_SHAPE[1]}/\""
   ]
  },
  {
   "cell_type": "markdown",
   "id": "a0300819",
   "metadata": {},
   "source": [
    "### TensorBoard + Callbacks"
   ]
  },
  {
   "cell_type": "code",
   "execution_count": 4,
   "id": "568ec959",
   "metadata": {},
   "outputs": [],
   "source": [
    "#wandb.tensorboard.patch(root_logdir=\"logs/\")"
   ]
  },
  {
   "cell_type": "code",
   "execution_count": 5,
   "id": "2e0ffd78",
   "metadata": {
    "scrolled": true
   },
   "outputs": [],
   "source": [
    "#%load_ext tensorboard\n",
    "#%tensorboard --logdir logs\n",
    "\n",
    "earlystopping = callbacks.EarlyStopping(monitor =\"val_loss\", \n",
    "                                        mode =\"min\", patience = 15, \n",
    "                                        restore_best_weights = True)"
   ]
  },
  {
   "cell_type": "markdown",
   "id": "faf8d2aa",
   "metadata": {},
   "source": [
    "## Adjust CSV"
   ]
  },
  {
   "cell_type": "code",
   "execution_count": 15,
   "id": "164e9e7a",
   "metadata": {},
   "outputs": [
    {
     "data": {
      "text/html": [
       "<div>\n",
       "<style scoped>\n",
       "    .dataframe tbody tr th:only-of-type {\n",
       "        vertical-align: middle;\n",
       "    }\n",
       "\n",
       "    .dataframe tbody tr th {\n",
       "        vertical-align: top;\n",
       "    }\n",
       "\n",
       "    .dataframe thead th {\n",
       "        text-align: right;\n",
       "    }\n",
       "</style>\n",
       "<table border=\"1\" class=\"dataframe\">\n",
       "  <thead>\n",
       "    <tr style=\"text-align: right;\">\n",
       "      <th></th>\n",
       "      <th>image</th>\n",
       "      <th>species</th>\n",
       "      <th>individual_id</th>\n",
       "    </tr>\n",
       "  </thead>\n",
       "  <tbody>\n",
       "    <tr>\n",
       "      <th>0</th>\n",
       "      <td>00021adfb725ed.jpg</td>\n",
       "      <td>melon_headed_whale</td>\n",
       "      <td>cadddb1636b9</td>\n",
       "    </tr>\n",
       "    <tr>\n",
       "      <th>1</th>\n",
       "      <td>000562241d384d.jpg</td>\n",
       "      <td>humpback_whale</td>\n",
       "      <td>1a71fbb72250</td>\n",
       "    </tr>\n",
       "    <tr>\n",
       "      <th>2</th>\n",
       "      <td>0007c33415ce37.jpg</td>\n",
       "      <td>false_killer_whale</td>\n",
       "      <td>60008f293a2b</td>\n",
       "    </tr>\n",
       "    <tr>\n",
       "      <th>3</th>\n",
       "      <td>0007d9bca26a99.jpg</td>\n",
       "      <td>bottlenose_dolphin</td>\n",
       "      <td>4b00fe572063</td>\n",
       "    </tr>\n",
       "    <tr>\n",
       "      <th>4</th>\n",
       "      <td>00087baf5cef7a.jpg</td>\n",
       "      <td>humpback_whale</td>\n",
       "      <td>8e5253662392</td>\n",
       "    </tr>\n",
       "    <tr>\n",
       "      <th>...</th>\n",
       "      <td>...</td>\n",
       "      <td>...</td>\n",
       "      <td>...</td>\n",
       "    </tr>\n",
       "    <tr>\n",
       "      <th>51028</th>\n",
       "      <td>fff639a7a78b3f.jpg</td>\n",
       "      <td>beluga</td>\n",
       "      <td>5ac053677ed1</td>\n",
       "    </tr>\n",
       "    <tr>\n",
       "      <th>51029</th>\n",
       "      <td>fff8b32daff17e.jpg</td>\n",
       "      <td>cuviers_beaked_whale</td>\n",
       "      <td>1184686361b3</td>\n",
       "    </tr>\n",
       "    <tr>\n",
       "      <th>51030</th>\n",
       "      <td>fff94675cc1aef.jpg</td>\n",
       "      <td>blue_whale</td>\n",
       "      <td>5401612696b9</td>\n",
       "    </tr>\n",
       "    <tr>\n",
       "      <th>51031</th>\n",
       "      <td>fffbc5dd642d8c.jpg</td>\n",
       "      <td>beluga</td>\n",
       "      <td>4000b3d7c24e</td>\n",
       "    </tr>\n",
       "    <tr>\n",
       "      <th>51032</th>\n",
       "      <td>fffdcd42312777.jpg</td>\n",
       "      <td>bottlenose_dolphin</td>\n",
       "      <td>4ddb2eeb5efb</td>\n",
       "    </tr>\n",
       "  </tbody>\n",
       "</table>\n",
       "<p>51033 rows × 3 columns</p>\n",
       "</div>"
      ],
      "text/plain": [
       "                    image               species individual_id\n",
       "0      00021adfb725ed.jpg    melon_headed_whale  cadddb1636b9\n",
       "1      000562241d384d.jpg        humpback_whale  1a71fbb72250\n",
       "2      0007c33415ce37.jpg    false_killer_whale  60008f293a2b\n",
       "3      0007d9bca26a99.jpg    bottlenose_dolphin  4b00fe572063\n",
       "4      00087baf5cef7a.jpg        humpback_whale  8e5253662392\n",
       "...                   ...                   ...           ...\n",
       "51028  fff639a7a78b3f.jpg                beluga  5ac053677ed1\n",
       "51029  fff8b32daff17e.jpg  cuviers_beaked_whale  1184686361b3\n",
       "51030  fff94675cc1aef.jpg            blue_whale  5401612696b9\n",
       "51031  fffbc5dd642d8c.jpg                beluga  4000b3d7c24e\n",
       "51032  fffdcd42312777.jpg    bottlenose_dolphin  4ddb2eeb5efb\n",
       "\n",
       "[51033 rows x 3 columns]"
      ]
     },
     "execution_count": 15,
     "metadata": {},
     "output_type": "execute_result"
    }
   ],
   "source": [
    "#adjust names to fit\n",
    "train_csv = \"train.csv\"\n",
    "train_df = pd.read_csv(train_csv)\n",
    "train_df.species.replace({\"globis\": \"short_finned_pilot_whale\",\n",
    "                          \"pilot_whale\": \"short_finned_pilot_whale\",\n",
    "                          \"kiler_whale\": \"killer_whale\",\n",
    "                          \"bottlenose_dolpin\": \"bottlenose_dolphin\"}, inplace=True)\n",
    "\n",
    "species_labels = list(train_df.species.unique())\n",
    "images = train_df['image']\n",
    "sid = train_df['individual_id']\n",
    "train_df"
   ]
  },
  {
   "cell_type": "code",
   "execution_count": 16,
   "id": "6ae417ca",
   "metadata": {},
   "outputs": [
    {
     "name": "stdout",
     "output_type": "stream",
     "text": [
      "amount of species: 26\n"
     ]
    },
    {
     "data": {
      "image/png": "[encoded data removed]",
      "text/plain": [
       "<Figure size 864x504 with 1 Axes>"
      ]
     },
     "metadata": {
      "needs_background": "light"
     },
     "output_type": "display_data"
    }
   ],
   "source": [
    "print(f\"amount of species: {len(train_df.species.unique())}\")\n",
    "plt.figure(figsize=(12, 7))\n",
    "train_df.groupby(by='species').size().sort_values().plot.barh().set_xscale('log')"
   ]
  },
  {
   "cell_type": "markdown",
   "id": "4f5502b7",
   "metadata": {},
   "source": [
    "#### Adjust for class imbalance"
   ]
  },
  {
   "cell_type": "code",
   "execution_count": 17,
   "id": "eb2fc483",
   "metadata": {},
   "outputs": [],
   "source": [
    "thresh = 1000\n",
    "max_instances = 20000\n",
    "\n",
    "#train_df.species = train_df.species.apply(lambda x: 'other_dolphin' if ('dolphin' in x and not \"bottlenose\" in x) else x)\n",
    "species_counts = train_df['species'].value_counts()\n",
    "\n",
    "\n",
    "\n",
    "final_species = species_counts[species_counts > thresh].index.tolist()\n",
    "undersample_species = species_counts[species_counts > max_instances].index.tolist()\n",
    "mask = train_df.species.apply(lambda x: any(item for item in final_species if item in x))\n",
    "final_df = train_df[mask]"
   ]
  },
  {
   "cell_type": "code",
   "execution_count": 18,
   "id": "e6594956",
   "metadata": {},
   "outputs": [],
   "source": [
    "def undersample(df, index, max_instances):\n",
    "    sampled = df[df.species == index].sample(n=max_instances, random_state=101) if len(df[df.species == index]) > max_instances else df[df.species == index]\n",
    "    return  sampled\n",
    "\n",
    "dfs = []\n",
    "for species in final_species:\n",
    "    dfs.append(undersample(final_df,species,max_instances))\n",
    "\n",
    "final_train_df = pd.concat(dfs,axis=0).sort_index()\n",
    "final_train_df[\"species\"].value_counts()\n",
    "\n",
    "train_df=final_train_df"
   ]
  },
  {
   "cell_type": "code",
   "execution_count": 19,
   "id": "b87e44c3",
   "metadata": {},
   "outputs": [],
   "source": [
    "def get_id(sp):\n",
    "    return species_labels.index(sp)\n",
    "##encode species\n",
    "#train_df[\"species\"] = train_df.apply(lambda row :get_id(row[\"species\"]),axis = 1)\n",
    "#labels = train_df[\"species\"]\n",
    "\n",
    "##one-hot encode species\n",
    "labels = pd.get_dummies(train_df.species, prefix='species_')\n",
    "labels\n",
    "train_df = pd.concat([train_df,labels],axis = 1)"
   ]
  },
  {
   "cell_type": "code",
   "execution_count": 20,
   "id": "b5d78a65",
   "metadata": {},
   "outputs": [
    {
     "data": {
      "text/html": [
       "<div>\n",
       "<style scoped>\n",
       "    .dataframe tbody tr th:only-of-type {\n",
       "        vertical-align: middle;\n",
       "    }\n",
       "\n",
       "    .dataframe tbody tr th {\n",
       "        vertical-align: top;\n",
       "    }\n",
       "\n",
       "    .dataframe thead th {\n",
       "        text-align: right;\n",
       "    }\n",
       "</style>\n",
       "<table border=\"1\" class=\"dataframe\">\n",
       "  <thead>\n",
       "    <tr style=\"text-align: right;\">\n",
       "      <th></th>\n",
       "      <th>image</th>\n",
       "      <th>species</th>\n",
       "      <th>individual_id</th>\n",
       "      <th>species__beluga</th>\n",
       "      <th>species__blue_whale</th>\n",
       "      <th>species__bottlenose_dolphin</th>\n",
       "      <th>species__dusky_dolphin</th>\n",
       "      <th>species__false_killer_whale</th>\n",
       "      <th>species__fin_whale</th>\n",
       "      <th>species__gray_whale</th>\n",
       "      <th>species__humpback_whale</th>\n",
       "      <th>species__killer_whale</th>\n",
       "      <th>species__melon_headed_whale</th>\n",
       "      <th>species__minke_whale</th>\n",
       "      <th>species__spinner_dolphin</th>\n",
       "    </tr>\n",
       "  </thead>\n",
       "  <tbody>\n",
       "    <tr>\n",
       "      <th>0</th>\n",
       "      <td>00021adfb725ed.jpg</td>\n",
       "      <td>melon_headed_whale</td>\n",
       "      <td>cadddb1636b9</td>\n",
       "      <td>0</td>\n",
       "      <td>0</td>\n",
       "      <td>0</td>\n",
       "      <td>0</td>\n",
       "      <td>0</td>\n",
       "      <td>0</td>\n",
       "      <td>0</td>\n",
       "      <td>0</td>\n",
       "      <td>0</td>\n",
       "      <td>1</td>\n",
       "      <td>0</td>\n",
       "      <td>0</td>\n",
       "    </tr>\n",
       "    <tr>\n",
       "      <th>1</th>\n",
       "      <td>000562241d384d.jpg</td>\n",
       "      <td>humpback_whale</td>\n",
       "      <td>1a71fbb72250</td>\n",
       "      <td>0</td>\n",
       "      <td>0</td>\n",
       "      <td>0</td>\n",
       "      <td>0</td>\n",
       "      <td>0</td>\n",
       "      <td>0</td>\n",
       "      <td>0</td>\n",
       "      <td>1</td>\n",
       "      <td>0</td>\n",
       "      <td>0</td>\n",
       "      <td>0</td>\n",
       "      <td>0</td>\n",
       "    </tr>\n",
       "    <tr>\n",
       "      <th>2</th>\n",
       "      <td>0007c33415ce37.jpg</td>\n",
       "      <td>false_killer_whale</td>\n",
       "      <td>60008f293a2b</td>\n",
       "      <td>0</td>\n",
       "      <td>0</td>\n",
       "      <td>0</td>\n",
       "      <td>0</td>\n",
       "      <td>1</td>\n",
       "      <td>0</td>\n",
       "      <td>0</td>\n",
       "      <td>0</td>\n",
       "      <td>0</td>\n",
       "      <td>0</td>\n",
       "      <td>0</td>\n",
       "      <td>0</td>\n",
       "    </tr>\n",
       "    <tr>\n",
       "      <th>3</th>\n",
       "      <td>0007d9bca26a99.jpg</td>\n",
       "      <td>bottlenose_dolphin</td>\n",
       "      <td>4b00fe572063</td>\n",
       "      <td>0</td>\n",
       "      <td>0</td>\n",
       "      <td>1</td>\n",
       "      <td>0</td>\n",
       "      <td>0</td>\n",
       "      <td>0</td>\n",
       "      <td>0</td>\n",
       "      <td>0</td>\n",
       "      <td>0</td>\n",
       "      <td>0</td>\n",
       "      <td>0</td>\n",
       "      <td>0</td>\n",
       "    </tr>\n",
       "    <tr>\n",
       "      <th>4</th>\n",
       "      <td>00087baf5cef7a.jpg</td>\n",
       "      <td>humpback_whale</td>\n",
       "      <td>8e5253662392</td>\n",
       "      <td>0</td>\n",
       "      <td>0</td>\n",
       "      <td>0</td>\n",
       "      <td>0</td>\n",
       "      <td>0</td>\n",
       "      <td>0</td>\n",
       "      <td>0</td>\n",
       "      <td>1</td>\n",
       "      <td>0</td>\n",
       "      <td>0</td>\n",
       "      <td>0</td>\n",
       "      <td>0</td>\n",
       "    </tr>\n",
       "    <tr>\n",
       "      <th>...</th>\n",
       "      <td>...</td>\n",
       "      <td>...</td>\n",
       "      <td>...</td>\n",
       "      <td>...</td>\n",
       "      <td>...</td>\n",
       "      <td>...</td>\n",
       "      <td>...</td>\n",
       "      <td>...</td>\n",
       "      <td>...</td>\n",
       "      <td>...</td>\n",
       "      <td>...</td>\n",
       "      <td>...</td>\n",
       "      <td>...</td>\n",
       "      <td>...</td>\n",
       "      <td>...</td>\n",
       "    </tr>\n",
       "    <tr>\n",
       "      <th>51027</th>\n",
       "      <td>fff603f5af8614.jpg</td>\n",
       "      <td>fin_whale</td>\n",
       "      <td>40fe65946167</td>\n",
       "      <td>0</td>\n",
       "      <td>0</td>\n",
       "      <td>0</td>\n",
       "      <td>0</td>\n",
       "      <td>0</td>\n",
       "      <td>1</td>\n",
       "      <td>0</td>\n",
       "      <td>0</td>\n",
       "      <td>0</td>\n",
       "      <td>0</td>\n",
       "      <td>0</td>\n",
       "      <td>0</td>\n",
       "    </tr>\n",
       "    <tr>\n",
       "      <th>51028</th>\n",
       "      <td>fff639a7a78b3f.jpg</td>\n",
       "      <td>beluga</td>\n",
       "      <td>5ac053677ed1</td>\n",
       "      <td>1</td>\n",
       "      <td>0</td>\n",
       "      <td>0</td>\n",
       "      <td>0</td>\n",
       "      <td>0</td>\n",
       "      <td>0</td>\n",
       "      <td>0</td>\n",
       "      <td>0</td>\n",
       "      <td>0</td>\n",
       "      <td>0</td>\n",
       "      <td>0</td>\n",
       "      <td>0</td>\n",
       "    </tr>\n",
       "    <tr>\n",
       "      <th>51030</th>\n",
       "      <td>fff94675cc1aef.jpg</td>\n",
       "      <td>blue_whale</td>\n",
       "      <td>5401612696b9</td>\n",
       "      <td>0</td>\n",
       "      <td>1</td>\n",
       "      <td>0</td>\n",
       "      <td>0</td>\n",
       "      <td>0</td>\n",
       "      <td>0</td>\n",
       "      <td>0</td>\n",
       "      <td>0</td>\n",
       "      <td>0</td>\n",
       "      <td>0</td>\n",
       "      <td>0</td>\n",
       "      <td>0</td>\n",
       "    </tr>\n",
       "    <tr>\n",
       "      <th>51031</th>\n",
       "      <td>fffbc5dd642d8c.jpg</td>\n",
       "      <td>beluga</td>\n",
       "      <td>4000b3d7c24e</td>\n",
       "      <td>1</td>\n",
       "      <td>0</td>\n",
       "      <td>0</td>\n",
       "      <td>0</td>\n",
       "      <td>0</td>\n",
       "      <td>0</td>\n",
       "      <td>0</td>\n",
       "      <td>0</td>\n",
       "      <td>0</td>\n",
       "      <td>0</td>\n",
       "      <td>0</td>\n",
       "      <td>0</td>\n",
       "    </tr>\n",
       "    <tr>\n",
       "      <th>51032</th>\n",
       "      <td>fffdcd42312777.jpg</td>\n",
       "      <td>bottlenose_dolphin</td>\n",
       "      <td>4ddb2eeb5efb</td>\n",
       "      <td>0</td>\n",
       "      <td>0</td>\n",
       "      <td>1</td>\n",
       "      <td>0</td>\n",
       "      <td>0</td>\n",
       "      <td>0</td>\n",
       "      <td>0</td>\n",
       "      <td>0</td>\n",
       "      <td>0</td>\n",
       "      <td>0</td>\n",
       "      <td>0</td>\n",
       "      <td>0</td>\n",
       "    </tr>\n",
       "  </tbody>\n",
       "</table>\n",
       "<p>46810 rows × 15 columns</p>\n",
       "</div>"
      ],
      "text/plain": [
       "                    image             species individual_id  species__beluga  \\\n",
       "0      00021adfb725ed.jpg  melon_headed_whale  cadddb1636b9                0   \n",
       "1      000562241d384d.jpg      humpback_whale  1a71fbb72250                0   \n",
       "2      0007c33415ce37.jpg  false_killer_whale  60008f293a2b                0   \n",
       "3      0007d9bca26a99.jpg  bottlenose_dolphin  4b00fe572063                0   \n",
       "4      00087baf5cef7a.jpg      humpback_whale  8e5253662392                0   \n",
       "...                   ...                 ...           ...              ...   \n",
       "51027  fff603f5af8614.jpg           fin_whale  40fe65946167                0   \n",
       "51028  fff639a7a78b3f.jpg              beluga  5ac053677ed1                1   \n",
       "51030  fff94675cc1aef.jpg          blue_whale  5401612696b9                0   \n",
       "51031  fffbc5dd642d8c.jpg              beluga  4000b3d7c24e                1   \n",
       "51032  fffdcd42312777.jpg  bottlenose_dolphin  4ddb2eeb5efb                0   \n",
       "\n",
       "       species__blue_whale  species__bottlenose_dolphin  \\\n",
       "0                        0                            0   \n",
       "1                        0                            0   \n",
       "2                        0                            0   \n",
       "3                        0                            1   \n",
       "4                        0                            0   \n",
       "...                    ...                          ...   \n",
       "51027                    0                            0   \n",
       "51028                    0                            0   \n",
       "51030                    1                            0   \n",
       "51031                    0                            0   \n",
       "51032                    0                            1   \n",
       "\n",
       "       species__dusky_dolphin  species__false_killer_whale  \\\n",
       "0                           0                            0   \n",
       "1                           0                            0   \n",
       "2                           0                            1   \n",
       "3                           0                            0   \n",
       "4                           0                            0   \n",
       "...                       ...                          ...   \n",
       "51027                       0                            0   \n",
       "51028                       0                            0   \n",
       "51030                       0                            0   \n",
       "51031                       0                            0   \n",
       "51032                       0                            0   \n",
       "\n",
       "       species__fin_whale  species__gray_whale  species__humpback_whale  \\\n",
       "0                       0                    0                        0   \n",
       "1                       0                    0                        1   \n",
       "2                       0                    0                        0   \n",
       "3                       0                    0                        0   \n",
       "4                       0                    0                        1   \n",
       "...                   ...                  ...                      ...   \n",
       "51027                   1                    0                        0   \n",
       "51028                   0                    0                        0   \n",
       "51030                   0                    0                        0   \n",
       "51031                   0                    0                        0   \n",
       "51032                   0                    0                        0   \n",
       "\n",
       "       species__killer_whale  species__melon_headed_whale  \\\n",
       "0                          0                            1   \n",
       "1                          0                            0   \n",
       "2                          0                            0   \n",
       "3                          0                            0   \n",
       "4                          0                            0   \n",
       "...                      ...                          ...   \n",
       "51027                      0                            0   \n",
       "51028                      0                            0   \n",
       "51030                      0                            0   \n",
       "51031                      0                            0   \n",
       "51032                      0                            0   \n",
       "\n",
       "       species__minke_whale  species__spinner_dolphin  \n",
       "0                         0                         0  \n",
       "1                         0                         0  \n",
       "2                         0                         0  \n",
       "3                         0                         0  \n",
       "4                         0                         0  \n",
       "...                     ...                       ...  \n",
       "51027                     0                         0  \n",
       "51028                     0                         0  \n",
       "51030                     0                         0  \n",
       "51031                     0                         0  \n",
       "51032                     0                         0  \n",
       "\n",
       "[46810 rows x 15 columns]"
      ]
     },
     "execution_count": 20,
     "metadata": {},
     "output_type": "execute_result"
    }
   ],
   "source": [
    "train_df"
   ]
  },
  {
   "cell_type": "code",
   "execution_count": 21,
   "id": "8d1febcd",
   "metadata": {},
   "outputs": [],
   "source": [
    "val_counts = []\n",
    "for sp in labels.columns:\n",
    "    val_counts.append(labels[sp].value_counts()[1])"
   ]
  },
  {
   "cell_type": "code",
   "execution_count": 22,
   "id": "76d8597b",
   "metadata": {},
   "outputs": [],
   "source": [
    "AMT_CLASSES = labels.shape[1]"
   ]
  },
  {
   "cell_type": "markdown",
   "id": "339e1db3",
   "metadata": {},
   "source": [
    "## Resize Images\n",
    "This helps the model fitting --> picture preprocessing gets less intensive"
   ]
  },
  {
   "cell_type": "code",
   "execution_count": 23,
   "id": "2d01a94f",
   "metadata": {},
   "outputs": [],
   "source": [
    "def image_filet(im):\n",
    "    #Kernel exclusion and image processing\n",
    "    img = np.asarray(im)\n",
    "    gauss = cv2.GaussianBlur(img, (0, 0), 2.0)\n",
    "    img = cv2.addWeighted(img, 1, gauss, 0, 0)\n",
    "    \n",
    "    img = cv2.GaussianBlur(img,(9,9),2.0)\n",
    "    kernel = np.array([[0,-1,0], [-1,6,-1], [0,-1,0]])\n",
    "    img = cv2.filter2D(img, -1, kernel)\n",
    "    return Image.fromarray(img)\n",
    "\n",
    "\n",
    "if not os.path.exists(RES):\n",
    "    os.mkdir(RES)\n",
    "    for image in tqdm(images):\n",
    "        savePath = RES + image  \n",
    "        if not os.path.exists(savePath):\n",
    "            imgPath = SOURCE + image\n",
    "            im = Image.open(imgPath)\n",
    "            im = ImageOps.grayscale(im) if CHANNELS == 1 else im\n",
    "            \n",
    "            #im = image_filet(im)\n",
    "            \n",
    "            #im.thumbnail((IMG_SIZE,IMG_SIZE), Image.ANTIALIAS)\n",
    "            #im = ImageOps.pad(im, (IMG_SIZE,IMG_SIZE), color='black')\n",
    "            #im.save(savePath)\n",
    "            \n",
    "            resizedImage = im.resize((IMG_SIZE, IMG_SIZE), Image.ANTIALIAS)\n",
    "            resizedImage.save(savePath) \n",
    "            "
   ]
  },
  {
   "cell_type": "code",
   "execution_count": 24,
   "id": "61df9415",
   "metadata": {},
   "outputs": [],
   "source": [
    "full_img = list(map(RES.__add__,train_df['image']))"
   ]
  },
  {
   "cell_type": "markdown",
   "id": "34579eda",
   "metadata": {},
   "source": [
    "## Input Pipeline"
   ]
  },
  {
   "cell_type": "code",
   "execution_count": 25,
   "id": "32bfdbff",
   "metadata": {},
   "outputs": [],
   "source": [
    "@tf.function\n",
    "def process_tuple(image,label):\n",
    "    img = tf.io.read_file(image)\n",
    "    img = tf.image.decode_jpeg(img, channels=CHANNELS)\n",
    "    \n",
    "    img = tf.image.random_flip_left_right(img)\n",
    "    lower,upper = 0.1,0.5\n",
    "    img = tf.image.random_contrast(img, lower, upper, seed=None)\n",
    "\n",
    "    img = tf.image.convert_image_dtype(img, tf.float16)\n",
    "    return img, label"
   ]
  },
  {
   "cell_type": "code",
   "execution_count": 26,
   "id": "6af2b7da",
   "metadata": {},
   "outputs": [],
   "source": [
    "dataset = tf.data.Dataset.from_tensor_slices((full_img, labels)).shuffle(BATCH_SIZE).map(process_tuple,num_parallel_calls=tf.data.AUTOTUNE, deterministic=False)"
   ]
  },
  {
   "cell_type": "code",
   "execution_count": 27,
   "id": "a9c52304",
   "metadata": {},
   "outputs": [
    {
     "data": {
      "text/plain": [
       "'\\nimage_count = dataset.cardinality().numpy()\\ntrain_size = int(image_count*TRAIN_SPLIT)\\nval_test_size = int(image_count*VAL_TEST_SPLIT)\\n\\n\\ntrain_ds = dataset.take(train_size)\\nval_ds = dataset.skip(train_size).take(val_test_size)\\ntest_ds = dataset.skip(train_size).skip(val_test_size)\\n'"
      ]
     },
     "execution_count": 27,
     "metadata": {},
     "output_type": "execute_result"
    }
   ],
   "source": [
    "TRAIN_SPLIT = 0.7\n",
    "VAL_TEST_SPLIT = (1-TRAIN_SPLIT)/2\n",
    "\n",
    "\"\"\"\n",
    "image_count = dataset.cardinality().numpy()\n",
    "train_size = int(image_count*TRAIN_SPLIT)\n",
    "val_test_size = int(image_count*VAL_TEST_SPLIT)\n",
    "\n",
    "\n",
    "train_ds = dataset.take(train_size)\n",
    "val_ds = dataset.skip(train_size).take(val_test_size)\n",
    "test_ds = dataset.skip(train_size).skip(val_test_size)\n",
    "\"\"\""
   ]
  },
  {
   "cell_type": "code",
   "execution_count": 53,
   "id": "f94a4d8f",
   "metadata": {},
   "outputs": [],
   "source": [
    "label_dss = []\n",
    "val_ds,test_ds = None,None\n",
    "\n",
    "for label in labels.columns:\n",
    "    query = train_df.query(f\"{label} == 1\").sample(frac = 1)\n",
    "    \n",
    "    img_paths = list(map(RES.__add__,query['image']))\n",
    "    \n",
    "    tr_size = int(len(query)*TRAIN_SPLIT)\n",
    "    vt_size = int(len(query)*VAL_TEST_SPLIT)-1\n",
    "    \n",
    "    label_ds = tf.data.Dataset.from_tensor_slices((img_paths, query[labels.columns])).shuffle(BATCH_SIZE).map(process_tuple,num_parallel_calls=tf.data.AUTOTUNE, deterministic=False)\n",
    "    val_ds = label_ds.skip(tr_size).take(vt_size) if not val_ds else val_ds.concatenate(label_ds.skip(tr_size).take(vt_size))\n",
    "    test_ds = label_ds.skip(tr_size).skip(vt_size) if not test_ds else test_ds.concatenate(label_ds.skip(tr_size).skip(vt_size))\n",
    "\n",
    "    label_dss.append(label_ds.take(tr_size))\n",
    "\n",
    "    \n",
    "train_ds = tf.data.Dataset.sample_from_datasets(label_dss, weights=[1/len(label_dss)]*len(label_dss))        "
   ]
  },
  {
   "cell_type": "code",
   "execution_count": 54,
   "id": "7846ea80",
   "metadata": {},
   "outputs": [],
   "source": [
    "train_batched = train_ds.batch(batch_size=BATCH_SIZE).cache().prefetch(tf.data.AUTOTUNE)\n",
    "val_batched = val_ds.batch(batch_size=int(BATCH_SIZE*VAL_TEST_SPLIT)).cache().prefetch(tf.data.AUTOTUNE)\n",
    "test_batched = test_ds.batch(batch_size=BATCH_SIZE).cache().prefetch(tf.data.AUTOTUNE)"
   ]
  },
  {
   "cell_type": "markdown",
   "id": "8fecd46f",
   "metadata": {},
   "source": [
    "### Benchmark Dataset"
   ]
  },
  {
   "cell_type": "code",
   "execution_count": 43,
   "id": "0bd71d23",
   "metadata": {},
   "outputs": [],
   "source": [
    "#nocnn = new_cnn_oliver.create_model(INPUT_SHAPE, AMT_CLASSES)\n",
    "def benchmark(dataset, num_epochs=2):\n",
    "    start_time = time.perf_counter()\n",
    "    for epoch_num in range(num_epochs):\n",
    "        for sample in tqdm(dataset):\n",
    "            # Performing a training step\n",
    "            time.sleep(0.01)\n",
    "    print(\"Execution time:\", time.perf_counter() - start_time)"
   ]
  },
  {
   "cell_type": "code",
   "execution_count": 44,
   "id": "d3c1d31d",
   "metadata": {
    "scrolled": true
   },
   "outputs": [
    {
     "name": "stderr",
     "output_type": "stream",
     "text": [
      "100%|████████████████████████████████████████████████████████████████████████████████████| 1/1 [00:00<00:00, 15.14it/s]\n",
      "100%|████████████████████████████████████████████████████████████████████████████████████| 1/1 [00:00<00:00, 16.11it/s]"
     ]
    },
    {
     "name": "stdout",
     "output_type": "stream",
     "text": [
      "Execution time: 0.13253119999899354\n"
     ]
    },
    {
     "name": "stderr",
     "output_type": "stream",
     "text": [
      "\n"
     ]
    }
   ],
   "source": [
    "benchmark_ds = dataset.take(1)\n",
    "benchmark(benchmark_ds)"
   ]
  },
  {
   "cell_type": "markdown",
   "id": "8df53386",
   "metadata": {},
   "source": [
    "## Modelling"
   ]
  },
  {
   "cell_type": "markdown",
   "id": "7aaba605",
   "metadata": {},
   "source": [
    "#### WandB"
   ]
  },
  {
   "cell_type": "code",
   "execution_count": 45,
   "id": "6f36e5bf",
   "metadata": {},
   "outputs": [
    {
     "data": {
      "text/html": [
       "Finishing last run (ID:18kqibty) before initializing another..."
      ],
      "text/plain": [
       "<IPython.core.display.HTML object>"
      ]
     },
     "metadata": {},
     "output_type": "display_data"
    },
    {
     "data": {
      "text/html": [
       "<br/>Waiting for W&B process to finish, PID 3132... <strong style=\"color:green\">(success).</strong>"
      ],
      "text/plain": [
       "<IPython.core.display.HTML object>"
      ]
     },
     "metadata": {},
     "output_type": "display_data"
    },
    {
     "data": {
      "application/vnd.jupyter.widget-view+json": {
       "model_id": "",
       "version_major": 2,
       "version_minor": 0
      },
      "text/plain": [
       "VBox(children=(Label(value=' 0.01MB of 0.01MB uploaded (0.00MB deduped)\\r'), FloatProgress(value=1.0, max=1.0)…"
      ]
     },
     "metadata": {},
     "output_type": "display_data"
    },
    {
     "data": {
      "text/html": [
       "<style>\n",
       "    table.wandb td:nth-child(1) { padding: 0 10px; text-align: right }\n",
       "    .wandb-row { display: flex; flex-direction: row; flex-wrap: wrap; width: 100% }\n",
       "    .wandb-col { display: flex; flex-direction: column; flex-basis: 100%; flex: 1; padding: 10px; }\n",
       "    </style>\n",
       "<div class=\"wandb-row\"><div class=\"wandb-col\">\n",
       "</div><div class=\"wandb-col\">\n",
       "</div></div>\n",
       "Synced 5 W&B file(s), 0 media file(s), 0 artifact file(s) and 2 other file(s)\n",
       "<br/>Synced <strong style=\"color:#cdcd00\">desert-water-295</strong>: <a href=\"https://wandb.ai/dolphin_project/my-test-project/runs/18kqibty\" target=\"_blank\">https://wandb.ai/dolphin_project/my-test-project/runs/18kqibty</a><br/>\n",
       "Find logs at: <code>.\\wandb\\run-20220320_105929-18kqibty\\logs</code><br/>\n"
      ],
      "text/plain": [
       "<IPython.core.display.HTML object>"
      ]
     },
     "metadata": {},
     "output_type": "display_data"
    },
    {
     "data": {
      "text/html": [
       "Successfully finished last run (ID:18kqibty). Initializing new run:<br/>"
      ],
      "text/plain": [
       "<IPython.core.display.HTML object>"
      ]
     },
     "metadata": {},
     "output_type": "display_data"
    },
    {
     "name": "stderr",
     "output_type": "stream",
     "text": [
      "\u001b[34m\u001b[1mwandb\u001b[0m: wandb version 0.12.11 is available!  To upgrade, please run:\n",
      "\u001b[34m\u001b[1mwandb\u001b[0m:  $ pip install wandb --upgrade\n"
     ]
    },
    {
     "data": {
      "text/html": [
       "\n",
       "                    Syncing run <strong><a href=\"https://wandb.ai/dolphin_project/my-test-project/runs/3og1ljf7\" target=\"_blank\">grateful-hill-296</a></strong> to <a href=\"https://wandb.ai/dolphin_project/my-test-project\" target=\"_blank\">Weights & Biases</a> (<a href=\"https://docs.wandb.com/integrations/jupyter.html\" target=\"_blank\">docs</a>).<br/>\n",
       "\n",
       "                "
      ],
      "text/plain": [
       "<IPython.core.display.HTML object>"
      ]
     },
     "metadata": {},
     "output_type": "display_data"
    }
   ],
   "source": [
    "run = wandb.init(project=\"my-test-project\",\n",
    "           entity=\"dolphin_project\",\n",
    "           sync_tensorboard = True,\n",
    "           config={\n",
    "               \"learning_rate\": 0.005,\n",
    "               \"batch_size\": BATCH_SIZE,\n",
    "               \"epochs\": EPOCHS,\n",
    "               \"input_width\": INPUT_SHAPE[0],\n",
    "               \"input_height\": INPUT_SHAPE[1],\n",
    "               \"loss_function\": \"categorical_crossentropy\",\n",
    "               \"architecture\": \"CNN\",\n",
    "               \"dataset\": \"dolphin\",\n",
    "               #\"activation\": ACTIVATION_STR,\n",
    "               #\"conv_units\": [FIRST_CONV_UNITS, SECOND_CONV_UNITS] + CONV_UNITS_BODY,\n",
    "           })\n",
    "config = wandb.config"
   ]
  },
  {
   "cell_type": "markdown",
   "id": "5acd0432",
   "metadata": {},
   "source": [
    "#### Model Keras"
   ]
  },
  {
   "cell_type": "code",
   "execution_count": 46,
   "id": "c6bd11ab",
   "metadata": {},
   "outputs": [],
   "source": [
    "#import model generators\n",
    "import stefan_cnn_v3\n",
    "#import stefan_cnn_v2\n",
    "#import oliver_cnn_v1\n",
    "import sequential_nn\n",
    "import sequential_nn_c\n",
    "#import new_cnn_oliver\n",
    "#import berkan_cnn"
   ]
  },
  {
   "cell_type": "code",
   "execution_count": 55,
   "id": "a9b7bcf8",
   "metadata": {
    "scrolled": true
   },
   "outputs": [
    {
     "name": "stdout",
     "output_type": "stream",
     "text": [
      "Model: \"model\"\n",
      "__________________________________________________________________________________________________\n",
      " Layer (type)                   Output Shape         Param #     Connected to                     \n",
      "==================================================================================================\n",
      " input_1 (InputLayer)           [(None, 128, 128, 1  0           []                               \n",
      "                                )]                                                                \n",
      "                                                                                                  \n",
      " sequential (Sequential)        multiple             0           ['input_1[0][0]']                \n",
      "                                                                                                  \n",
      " conv2d (Conv2D)                (None, 64, 64, 32)   320         ['sequential[0][0]']             \n",
      "                                                                                                  \n",
      " batch_normalization (BatchNorm  (None, 64, 64, 32)  128         ['conv2d[0][0]']                 \n",
      " alization)                                                                                       \n",
      "                                                                                                  \n",
      " activation (Activation)        (None, 64, 64, 32)   0           ['batch_normalization[0][0]']    \n",
      "                                                                                                  \n",
      " conv2d_1 (Conv2D)              (None, 64, 64, 64)   18496       ['activation[0][0]']             \n",
      "                                                                                                  \n",
      " batch_normalization_1 (BatchNo  (None, 64, 64, 64)  256         ['conv2d_1[0][0]']               \n",
      " rmalization)                                                                                     \n",
      "                                                                                                  \n",
      " activation_1 (Activation)      (None, 64, 64, 64)   0           ['batch_normalization_1[0][0]']  \n",
      "                                                                                                  \n",
      " dropout (Dropout)              (None, 64, 64, 64)   0           ['activation_1[0][0]']           \n",
      "                                                                                                  \n",
      " activation_2 (Activation)      (None, 64, 64, 64)   0           ['dropout[0][0]']                \n",
      "                                                                                                  \n",
      " separable_conv2d (SeparableCon  (None, 64, 64, 64)  4736        ['activation_2[0][0]']           \n",
      " v2D)                                                                                             \n",
      "                                                                                                  \n",
      " batch_normalization_2 (BatchNo  (None, 64, 64, 64)  256         ['separable_conv2d[0][0]']       \n",
      " rmalization)                                                                                     \n",
      "                                                                                                  \n",
      " activation_3 (Activation)      (None, 64, 64, 64)   0           ['batch_normalization_2[0][0]']  \n",
      "                                                                                                  \n",
      " separable_conv2d_1 (SeparableC  (None, 64, 64, 64)  4736        ['activation_3[0][0]']           \n",
      " onv2D)                                                                                           \n",
      "                                                                                                  \n",
      " batch_normalization_3 (BatchNo  (None, 64, 64, 64)  256         ['separable_conv2d_1[0][0]']     \n",
      " rmalization)                                                                                     \n",
      "                                                                                                  \n",
      " max_pooling2d (MaxPooling2D)   (None, 32, 32, 64)   0           ['batch_normalization_3[0][0]']  \n",
      "                                                                                                  \n",
      " conv2d_2 (Conv2D)              (None, 32, 32, 64)   4160        ['dropout[0][0]']                \n",
      "                                                                                                  \n",
      " add (Add)                      (None, 32, 32, 64)   0           ['max_pooling2d[0][0]',          \n",
      "                                                                  'conv2d_2[0][0]']               \n",
      "                                                                                                  \n",
      " dropout_1 (Dropout)            (None, 32, 32, 64)   0           ['add[0][0]']                    \n",
      "                                                                                                  \n",
      " separable_conv2d_2 (SeparableC  (None, 32, 32, 128)  8896       ['dropout_1[0][0]']              \n",
      " onv2D)                                                                                           \n",
      "                                                                                                  \n",
      " batch_normalization_4 (BatchNo  (None, 32, 32, 128)  512        ['separable_conv2d_2[0][0]']     \n",
      " rmalization)                                                                                     \n",
      "                                                                                                  \n",
      " activation_4 (Activation)      (None, 32, 32, 128)  0           ['batch_normalization_4[0][0]']  \n",
      "                                                                                                  \n",
      " max_pooling2d_1 (MaxPooling2D)  (None, 16, 16, 128)  0          ['activation_4[0][0]']           \n",
      "                                                                                                  \n",
      " flatten (Flatten)              (None, 32768)        0           ['max_pooling2d_1[0][0]']        \n",
      "                                                                                                  \n",
      " dropout_2 (Dropout)            (None, 32768)        0           ['flatten[0][0]']                \n",
      "                                                                                                  \n",
      " dense (Dense)                  (None, 12)           393228      ['dropout_2[0][0]']              \n",
      "                                                                                                  \n",
      "==================================================================================================\n",
      "Total params: 435,980\n",
      "Trainable params: 435,276\n",
      "Non-trainable params: 704\n",
      "__________________________________________________________________________________________________\n"
     ]
    }
   ],
   "source": [
    "tf.keras.backend.clear_session()\n",
    "\n",
    "#ocnn = oliver_cnn_v1.create_model(INPUT_SHAPE, AMT_CLASSES)\n",
    "scnn = stefan_cnn_v3.create_model(INPUT_SHAPE, AMT_CLASSES)\n",
    "#nocnn = new_cnn_oliver.create_model(INPUT_SHAPE, AMT_CLASSES)\n",
    "seqnn = sequential_nn.create_model(INPUT_SHAPE, AMT_CLASSES)\n",
    "#nseqnn = sequential_nn.create_model(INPUT_SHAPE, AMT_CLASSES)\n",
    "#bcnn = berkan_cnn.create_model(INPUT_SHAPE, AMT_CLASSES)\n",
    "\n",
    "current_model = scnn\n",
    "    \n",
    "current_model.summary()\n",
    "current_model.compile(loss=config.loss_function,#tfa.losses.SigmoidFocalCrossEntropy()\n",
    "             optimizer=keras.optimizers.Adam(config.learning_rate),\n",
    "             metrics=['accuracy']) "
   ]
  },
  {
   "cell_type": "code",
   "execution_count": null,
   "id": "55d3a9fa",
   "metadata": {},
   "outputs": [
    {
     "name": "stderr",
     "output_type": "stream",
     "text": [
      "\u001b[34m\u001b[1mwandb\u001b[0m: \u001b[33mWARNING\u001b[0m When using several event log directories, please call wandb.tensorboard.patch(root_logdir=\"...\") before wandb.init\n"
     ]
    },
    {
     "name": "stdout",
     "output_type": "stream",
     "text": [
      "Epoch 1/300\n",
      "      6/Unknown - 6s 623ms/step - loss: 128.8278 - accuracy: 0.0990WARNING:tensorflow:Callback method `on_train_batch_end` is slow compared to the batch time (batch time: 0.2278s vs `on_train_batch_end` time: 0.3932s). Check your callbacks.\n",
      "     39/Unknown - 27s 629ms/step - loss: 95.9262 - accuracy: 0.1094"
     ]
    }
   ],
   "source": [
    "history = current_model.fit(train_batched,\n",
    "                   epochs = EPOCHS,\n",
    "                   validation_data = val_batched,\n",
    "                   callbacks=[WandbCallback(input_type=\"image\",  labels=list(labels.columns)),\n",
    "                              TensorBoard(log_dir=wandb.run.dir),\n",
    "                              #WandbClassificationCallback(log_confusion_matrix=True, validation_data=val_batched, labels=list(range(AMT_CLASSES))),\n",
    "                              earlystopping                           \n",
    "                             ])\n",
    "wandb.watch(history)"
   ]
  },
  {
   "cell_type": "code",
   "execution_count": 69,
   "id": "f7510919",
   "metadata": {},
   "outputs": [],
   "source": [
    "pr = current_model.predict(test_batched)"
   ]
  },
  {
   "cell_type": "code",
   "execution_count": 70,
   "id": "8eb51c30",
   "metadata": {},
   "outputs": [],
   "source": [
    "y_test = labels[int(image_count*TRAIN_SPLIT)+int(image_count*VAL_TEST_SPLIT):]\n",
    "y_pred = pr.argmax(axis=1)\n",
    "y_act = y_test.values.argmax(axis=1)"
   ]
  },
  {
   "cell_type": "code",
   "execution_count": 71,
   "id": "79abc6ac",
   "metadata": {},
   "outputs": [
    {
     "data": {
      "image/png": "[encoded data removed]",
      "text/plain": [
       "<Figure size 648x648 with 2 Axes>"
      ]
     },
     "metadata": {
      "needs_background": "light"
     },
     "output_type": "display_data"
    }
   ],
   "source": [
    "from sklearn.metrics import confusion_matrix\n",
    "import seaborn as sns\n",
    "import matplotlib.pyplot as plt\n",
    "\n",
    "sp_list = list(map(lambda x: x.split(\"species__\")[-1],labels))\n",
    "\n",
    "cm=confusion_matrix(y_act,y_pred)\n",
    "\n",
    "plt.figure(figsize=(9, 9))\n",
    "ax = sns.heatmap(cm/np.sum(cm), annot=True,fmt='.2%', cmap='Blues')\n",
    "\n",
    "ax.set_title('Confusion Matrix\\n\\n')\n",
    "ax.set_xlabel('\\nPredicted Species')\n",
    "ax.set_ylabel('Actual Species')\n",
    "\n",
    "ax.xaxis.set_ticklabels(sp_list,rotation = 90)\n",
    "ax.yaxis.set_ticklabels(sp_list, rotation = 360)\n",
    "\n",
    "\n",
    "plt.show()"
   ]
  },
  {
   "cell_type": "code",
   "execution_count": 46,
   "id": "27e9fbb7",
   "metadata": {},
   "outputs": [
    {
     "data": {
      "text/html": [
       "<br/>Waiting for W&B process to finish, PID 4840... <strong style=\"color:green\">(success).</strong>"
      ],
      "text/plain": [
       "<IPython.core.display.HTML object>"
      ]
     },
     "metadata": {},
     "output_type": "display_data"
    },
    {
     "data": {
      "application/vnd.jupyter.widget-view+json": {
       "model_id": "",
       "version_major": 2,
       "version_minor": 0
      },
      "text/plain": [
       "VBox(children=(Label(value=' 98.17MB of 98.17MB uploaded (0.00MB deduped)\\r'), FloatProgress(value=1.0, max=1.…"
      ]
     },
     "metadata": {},
     "output_type": "display_data"
    },
    {
     "data": {
      "text/html": [
       "<style>\n",
       "    table.wandb td:nth-child(1) { padding: 0 10px; text-align: right }\n",
       "    .wandb-row { display: flex; flex-direction: row; flex-wrap: wrap; width: 100% }\n",
       "    .wandb-col { display: flex; flex-direction: column; flex-basis: 100%; flex: 1; padding: 10px; }\n",
       "    </style>\n",
       "<div class=\"wandb-row\"><div class=\"wandb-col\">\n",
       "<h3>Run history:</h3><br/><table class=\"wandb\"><tr><td>categorical_accuracy</td><td>▁▄▄▅▅▆▆▆▆▇▇▇▇▇▇▇▇▇▇▇▇██▇████████████████</td></tr><tr><td>epoch</td><td>▁▁▁▂▂▂▂▂▂▃▃▃▃▃▃▄▄▄▄▄▅▅▅▅▅▅▆▆▆▆▆▇▇▇▇▇▇███</td></tr><tr><td>loss</td><td>█▅▅▄▄▄▃▃▃▃▂▂▂▂▂▂▂▂▂▂▂▂▂▂▁▁▁▁▁▁▁▁▁▁▁▁▁▁▁▁</td></tr><tr><td>test acc</td><td>▁▁▁▁</td></tr><tr><td>test error rate</td><td>▁▁▁▁</td></tr><tr><td>test loss</td><td>▁▁▁▁</td></tr><tr><td>val_categorical_accuracy</td><td>▁▃▄▄▅▅▆▆▆▆▆▆▇▇▇▇▇▇▇▇▇▇▇▇▇▇▇██▇▇█▇▇███▇▇█</td></tr><tr><td>val_loss</td><td>█▆▅▅▄▄▃▃▃▃▃▃▂▂▂▂▂▂▁▂▂▂▂▂▂▂▂▁▁▁▂▁▁▁▁▁▁▂▂▁</td></tr></table><br/></div><div class=\"wandb-col\">\n",
       "<h3>Run summary:</h3><br/><table class=\"wandb\"><tr><td>best_epoch</td><td>37</td></tr><tr><td>best_val_loss</td><td>1.40345</td></tr><tr><td>categorical_accuracy</td><td>0.51186</td></tr><tr><td>epoch</td><td>52</td></tr><tr><td>loss</td><td>1.34217</td></tr><tr><td>test acc</td><td>0.50311</td></tr><tr><td>test error rate</td><td>49.69</td></tr><tr><td>test loss</td><td>1.38635</td></tr><tr><td>val_categorical_accuracy</td><td>0.50093</td></tr><tr><td>val_loss</td><td>1.41121</td></tr></table>\n",
       "</div></div>\n",
       "Synced 5 W&B file(s), 478 media file(s), 0 artifact file(s) and 3 other file(s)\n",
       "<br/>Synced <strong style=\"color:#cdcd00\">charmed-music-261</strong>: <a href=\"https://wandb.ai/dolphin_project/my-test-project/runs/14cdukkk\" target=\"_blank\">https://wandb.ai/dolphin_project/my-test-project/runs/14cdukkk</a><br/>\n",
       "Find logs at: <code>.\\wandb\\run-20220317_174637-14cdukkk\\logs</code><br/>\n"
      ],
      "text/plain": [
       "<IPython.core.display.HTML object>"
      ]
     },
     "metadata": {},
     "output_type": "display_data"
    }
   ],
   "source": [
    "cval = current_model.evaluate(test_batched, verbose = 0)\n",
    "\n",
    "\n",
    "wandb.log({\"test loss\" : cval[0]})\n",
    "wandb.log({\"test acc\" : cval[1]})\n",
    "wandb.log({\"test error rate\" : round((1-cval[1])*100,2)})\n",
    "run.finish()\n"
   ]
  },
  {
   "cell_type": "code",
   "execution_count": null,
   "id": "cdbe1eaf",
   "metadata": {},
   "outputs": [],
   "source": []
  },
  {
   "cell_type": "code",
   "execution_count": null,
   "id": "26a51991",
   "metadata": {},
   "outputs": [],
   "source": []
  },
  {
   "cell_type": "code",
   "execution_count": null,
   "id": "f01382c4",
   "metadata": {},
   "outputs": [],
   "source": [
    "print(\"test loss, test acc:\", cval)"
   ]
  },
  {
   "cell_type": "code",
   "execution_count": null,
   "id": "9798fb39",
   "metadata": {},
   "outputs": [],
   "source": [
    "with open(f'seqnn.pkl', 'wb') as file:\n",
    "    pickle.dump(current_model,file)"
   ]
  },
  {
   "cell_type": "code",
   "execution_count": null,
   "id": "bfe0f859",
   "metadata": {},
   "outputs": [],
   "source": [
    "\"\"\"\n",
    "\n",
    "#visualize model performance\n",
    "accuracy = history.history['categorical_accuracy']\n",
    "val_accuracy = history.history['val_categorical_accuracy']\n",
    "\n",
    "loss = history.history['loss']\n",
    "val_loss = history.history['val_loss']\n",
    "fig, (ax1, ax2) = plt.subplots(1, 2)\n",
    "\n",
    "plt.figure(figsize=(15, 8))\n",
    "ax1.plot(range(87), accuracy, \"r\", label=\"Training Accuracy\")\n",
    "ax1.plot(range(87), val_accuracy, \"orange\", label=\"Validation Accuracy\")\n",
    "ax1.set_ylim(0, 1)\n",
    "ax1.grid(True)\n",
    "ax1.legend(loc=\"lower left\")\n",
    "\n",
    "ax2.plot(range(87), loss, \"b\", label=\"Training Loss\")\n",
    "ax2.plot(range(87), val_loss, \"g\", label=\"Validation Loss\")\n",
    "ax2.grid(True)\n",
    "ax2.legend(loc=\"lower left\")\n",
    "#plt.gca().set_ylim(0, 2)\n",
    "\"\"\""
   ]
  },
  {
   "cell_type": "code",
   "execution_count": null,
   "id": "8fe7b03b",
   "metadata": {},
   "outputs": [],
   "source": []
  }
 ],
 "metadata": {
  "kernelspec": {
   "display_name": "Python 3 (ipykernel)",
   "language": "python",
   "name": "python3"
  },
  "language_info": {
   "codemirror_mode": {
    "name": "ipython",
    "version": 3
   },
   "file_extension": ".py",
   "mimetype": "text/x-python",
   "name": "python",
   "nbconvert_exporter": "python",
   "pygments_lexer": "ipython3",
   "version": "3.10.2"
  }
 },
 "nbformat": 4,
 "nbformat_minor": 5
}
