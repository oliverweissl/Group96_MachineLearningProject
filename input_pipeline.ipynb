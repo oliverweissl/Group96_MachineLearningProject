{
 "cells": [
  {
   "cell_type": "code",
   "execution_count": 2,
   "id": "e771bafc",
   "metadata": {},
   "outputs": [],
   "source": [
    "import os\n",
    "import time\n",
    "import pickle\n",
    "import wandb\n",
    "import cv2\n",
    "\n",
    "import numpy as np\n",
    "import pandas as pd\n",
    "import matplotlib.pyplot as plt\n",
    "import tensorflow as tf\n",
    "import tensorflow.compat.v1 as tfc\n",
    "\n",
    "from PIL import Image,ImageOps\n",
    "from tqdm import tqdm\n",
    "from tensorflow import keras\n",
    "from keras.callbacks import TensorBoard\n",
    "from keras import callbacks\n",
    "from wandb.keras import WandbCallback"
   ]
  },
  {
   "cell_type": "code",
   "execution_count": 3,
   "id": "e2a50b95",
   "metadata": {},
   "outputs": [
    {
     "name": "stdout",
     "output_type": "stream",
     "text": [
      "Num GPUs Available:  1\n",
      "Found GPU at: /device:GPU:0\n",
      "eagely execution: True\n"
     ]
    }
   ],
   "source": [
    "tf.keras.backend.clear_session()\n",
    "print(\"Num GPUs Available: \", len(tf.config.list_physical_devices('GPU')))\n",
    "device_name = tf.test.gpu_device_name()\n",
    "if not device_name:\n",
    "  raise SystemError('GPU device not found')\n",
    "print('Found GPU at: {}'.format(device_name))\n",
    "try: sess.close() \n",
    "except: pass\n",
    "\n",
    "tfc.enable_eager_execution()\n",
    "print(f\"eagely execution: {tf.executing_eagerly()}\")\n",
    "\n",
    "gpu_options= tfc.GPUOptions(per_process_gpu_memory_fraction = 0.8)\n",
    "sess = tfc.InteractiveSession(config=tfc.ConfigProto(gpu_options=gpu_options))"
   ]
  },
  {
   "cell_type": "markdown",
   "id": "cc2df320",
   "metadata": {},
   "source": [
    "## CONSTANTS"
   ]
  },
  {
   "cell_type": "code",
   "execution_count": 4,
   "id": "6a15a792",
   "metadata": {},
   "outputs": [],
   "source": [
    "IMG_SIZE = 128\n",
    "CHANNELS = 1\n",
    "INPUT_SHAPE = [218,145,CHANNELS]\n",
    "#INPUT_SHAPE = [IMG_SIZE,IMG_SIZE,CHANNELS]\n",
    "\n",
    "BATCH_SIZE = 32\n",
    "EPOCHS = 85\n",
    "\n",
    "NAME = f\"O_CNN{int(time.time())}\"\n",
    "SOURCE = \"train_images/\"\n",
    "RES = f\"train_images_res_{INPUT_SHAPE[0]}x{INPUT_SHAPE[1]}/\""
   ]
  },
  {
   "cell_type": "markdown",
   "id": "a0300819",
   "metadata": {},
   "source": [
    "### Callbacks"
   ]
  },
  {
   "cell_type": "code",
   "execution_count": 5,
   "id": "2e0ffd78",
   "metadata": {
    "scrolled": true
   },
   "outputs": [],
   "source": [
    "earlystopping = callbacks.EarlyStopping(monitor =\"val_loss\", \n",
    "                                        mode =\"min\", patience = 15, \n",
    "                                        restore_best_weights = True)"
   ]
  },
  {
   "cell_type": "markdown",
   "id": "faf8d2aa",
   "metadata": {},
   "source": [
    "## Adjust CSV"
   ]
  },
  {
   "cell_type": "code",
   "execution_count": 6,
   "id": "164e9e7a",
   "metadata": {},
   "outputs": [
    {
     "data": {
      "text/html": [
       "<div>\n",
       "<style scoped>\n",
       "    .dataframe tbody tr th:only-of-type {\n",
       "        vertical-align: middle;\n",
       "    }\n",
       "\n",
       "    .dataframe tbody tr th {\n",
       "        vertical-align: top;\n",
       "    }\n",
       "\n",
       "    .dataframe thead th {\n",
       "        text-align: right;\n",
       "    }\n",
       "</style>\n",
       "<table border=\"1\" class=\"dataframe\">\n",
       "  <thead>\n",
       "    <tr style=\"text-align: right;\">\n",
       "      <th></th>\n",
       "      <th>image</th>\n",
       "      <th>species</th>\n",
       "      <th>individual_id</th>\n",
       "    </tr>\n",
       "  </thead>\n",
       "  <tbody>\n",
       "    <tr>\n",
       "      <th>0</th>\n",
       "      <td>00021adfb725ed.jpg</td>\n",
       "      <td>melon_headed_whale</td>\n",
       "      <td>cadddb1636b9</td>\n",
       "    </tr>\n",
       "    <tr>\n",
       "      <th>1</th>\n",
       "      <td>000562241d384d.jpg</td>\n",
       "      <td>humpback_whale</td>\n",
       "      <td>1a71fbb72250</td>\n",
       "    </tr>\n",
       "    <tr>\n",
       "      <th>2</th>\n",
       "      <td>0007c33415ce37.jpg</td>\n",
       "      <td>false_killer_whale</td>\n",
       "      <td>60008f293a2b</td>\n",
       "    </tr>\n",
       "    <tr>\n",
       "      <th>3</th>\n",
       "      <td>0007d9bca26a99.jpg</td>\n",
       "      <td>bottlenose_dolphin</td>\n",
       "      <td>4b00fe572063</td>\n",
       "    </tr>\n",
       "    <tr>\n",
       "      <th>4</th>\n",
       "      <td>00087baf5cef7a.jpg</td>\n",
       "      <td>humpback_whale</td>\n",
       "      <td>8e5253662392</td>\n",
       "    </tr>\n",
       "    <tr>\n",
       "      <th>...</th>\n",
       "      <td>...</td>\n",
       "      <td>...</td>\n",
       "      <td>...</td>\n",
       "    </tr>\n",
       "    <tr>\n",
       "      <th>51028</th>\n",
       "      <td>fff639a7a78b3f.jpg</td>\n",
       "      <td>beluga</td>\n",
       "      <td>5ac053677ed1</td>\n",
       "    </tr>\n",
       "    <tr>\n",
       "      <th>51029</th>\n",
       "      <td>fff8b32daff17e.jpg</td>\n",
       "      <td>cuviers_beaked_whale</td>\n",
       "      <td>1184686361b3</td>\n",
       "    </tr>\n",
       "    <tr>\n",
       "      <th>51030</th>\n",
       "      <td>fff94675cc1aef.jpg</td>\n",
       "      <td>blue_whale</td>\n",
       "      <td>5401612696b9</td>\n",
       "    </tr>\n",
       "    <tr>\n",
       "      <th>51031</th>\n",
       "      <td>fffbc5dd642d8c.jpg</td>\n",
       "      <td>beluga</td>\n",
       "      <td>4000b3d7c24e</td>\n",
       "    </tr>\n",
       "    <tr>\n",
       "      <th>51032</th>\n",
       "      <td>fffdcd42312777.jpg</td>\n",
       "      <td>bottlenose_dolphin</td>\n",
       "      <td>4ddb2eeb5efb</td>\n",
       "    </tr>\n",
       "  </tbody>\n",
       "</table>\n",
       "<p>51033 rows × 3 columns</p>\n",
       "</div>"
      ],
      "text/plain": [
       "                    image               species individual_id\n",
       "0      00021adfb725ed.jpg    melon_headed_whale  cadddb1636b9\n",
       "1      000562241d384d.jpg        humpback_whale  1a71fbb72250\n",
       "2      0007c33415ce37.jpg    false_killer_whale  60008f293a2b\n",
       "3      0007d9bca26a99.jpg    bottlenose_dolphin  4b00fe572063\n",
       "4      00087baf5cef7a.jpg        humpback_whale  8e5253662392\n",
       "...                   ...                   ...           ...\n",
       "51028  fff639a7a78b3f.jpg                beluga  5ac053677ed1\n",
       "51029  fff8b32daff17e.jpg  cuviers_beaked_whale  1184686361b3\n",
       "51030  fff94675cc1aef.jpg            blue_whale  5401612696b9\n",
       "51031  fffbc5dd642d8c.jpg                beluga  4000b3d7c24e\n",
       "51032  fffdcd42312777.jpg    bottlenose_dolphin  4ddb2eeb5efb\n",
       "\n",
       "[51033 rows x 3 columns]"
      ]
     },
     "execution_count": 6,
     "metadata": {},
     "output_type": "execute_result"
    }
   ],
   "source": [
    "train_csv = \"train.csv\"\n",
    "train_df = pd.read_csv(train_csv)\n",
    "train_df.species.replace({\"globis\": \"short_finned_pilot_whale\",\n",
    "                          \"pilot_whale\": \"short_finned_pilot_whale\",\n",
    "                          \"kiler_whale\": \"killer_whale\",\n",
    "                          \"bottlenose_dolpin\": \"bottlenose_dolphin\"}, inplace=True)\n",
    "\n",
    "\n",
    "images = train_df['image']\n",
    "train_df"
   ]
  },
  {
   "cell_type": "code",
   "execution_count": 7,
   "id": "6ae417ca",
   "metadata": {},
   "outputs": [
    {
     "name": "stdout",
     "output_type": "stream",
     "text": [
      "amount of species: 26\n"
     ]
    },
    {
     "data": {
      "image/png": "[encoded data removed]",
      "text/plain": [
       "<Figure size 864x504 with 1 Axes>"
      ]
     },
     "metadata": {
      "needs_background": "light"
     },
     "output_type": "display_data"
    }
   ],
   "source": [
    "print(f\"amount of species: {len(train_df.species.unique())}\")\n",
    "plt.figure(figsize=(12, 7))\n",
    "train_df.groupby(by='species').size().sort_values().plot.barh().set_xscale('log')"
   ]
  },
  {
   "cell_type": "markdown",
   "id": "4f5502b7",
   "metadata": {},
   "source": [
    "### Adjust for class imbalance"
   ]
  },
  {
   "cell_type": "code",
   "execution_count": 8,
   "id": "016ce249",
   "metadata": {},
   "outputs": [],
   "source": [
    "thresh = 200\n",
    "max_instances = None"
   ]
  },
  {
   "cell_type": "code",
   "execution_count": 9,
   "id": "5c3408cb",
   "metadata": {},
   "outputs": [],
   "source": [
    "def undersample(df, index, max_instances):\n",
    "    if max_instances is not None:\n",
    "        sampled = df[df.species == index].sample(n=max_instances, random_state=101) if len(df[df.species == index]) > max_instances else df[df.species == index]\n",
    "    else:\n",
    "        sampled = df[df.species == index]\n",
    "    return  sampled"
   ]
  },
  {
   "cell_type": "code",
   "execution_count": 10,
   "id": "eb2fc483",
   "metadata": {},
   "outputs": [],
   "source": [
    "#train_df.species = train_df.species.apply(lambda x: 'other_dolphin' if ('dolphin' in x and not \"bottlenose\" in x) else x)\n",
    "species_counts = train_df['species'].value_counts()\n",
    "\n",
    "\n",
    "final_species = species_counts[species_counts > thresh].index.tolist()\n",
    "mask = train_df.species.apply(lambda x: any(item for item in final_species if item in x))\n",
    "final_df = train_df[mask]"
   ]
  },
  {
   "cell_type": "code",
   "execution_count": 11,
   "id": "e6594956",
   "metadata": {},
   "outputs": [],
   "source": [
    "dfs = []\n",
    "for species in final_species:\n",
    "    dfs.append(undersample(final_df,species,max_instances))\n",
    "\n",
    "final_train_df = pd.concat(dfs,axis=0).sort_index()\n",
    "final_train_df[\"species\"].value_counts()\n",
    "\n",
    "train_df=final_train_df\n",
    "species_labels = list(train_df.species.unique())"
   ]
  },
  {
   "cell_type": "markdown",
   "id": "0faee730",
   "metadata": {},
   "source": [
    "### Encoding species"
   ]
  },
  {
   "cell_type": "code",
   "execution_count": 12,
   "id": "b87e44c3",
   "metadata": {},
   "outputs": [],
   "source": [
    "def get_id(sp,labels):\n",
    "    return labels.index(sp)\n",
    "\n",
    "\n",
    "names = train_df[\"species\"].unique()\n",
    "train_df[\"species\"] = train_df.apply(lambda row :get_id(row[\"species\"],species_labels),axis = 1)\n",
    "labels = train_df[\"species\"]\n",
    "\n",
    "AMT_CLASSES = len(labels.unique())"
   ]
  },
  {
   "cell_type": "code",
   "execution_count": 13,
   "id": "8d1febcd",
   "metadata": {},
   "outputs": [
    {
     "data": {
      "text/plain": [
       "\"\\nlabels = pd.get_dummies(train_df.species, prefix='species_')\\nlabels\\ntrain_df = pd.concat([train_df,labels],axis = 1)\\n\\nval_counts = []\\nfor sp in labels.columns:\\n    val_counts.append(labels[sp].value_counts()[1])\\nprint(val_counts)\\n\\nAMT_CLASSES = labels.shape[1]\\n\""
      ]
     },
     "execution_count": 13,
     "metadata": {},
     "output_type": "execute_result"
    }
   ],
   "source": [
    "##one-hot encode species\n",
    "\"\"\"\n",
    "labels = pd.get_dummies(train_df.species, prefix='species_')\n",
    "labels\n",
    "train_df = pd.concat([train_df,labels],axis = 1)\n",
    "\n",
    "val_counts = []\n",
    "for sp in labels.columns:\n",
    "    val_counts.append(labels[sp].value_counts()[1])\n",
    "print(val_counts)\n",
    "\n",
    "AMT_CLASSES = labels.shape[1]\n",
    "\"\"\""
   ]
  },
  {
   "cell_type": "code",
   "execution_count": 14,
   "id": "ecec93e6",
   "metadata": {},
   "outputs": [
    {
     "data": {
      "text/html": [
       "<div>\n",
       "<style scoped>\n",
       "    .dataframe tbody tr th:only-of-type {\n",
       "        vertical-align: middle;\n",
       "    }\n",
       "\n",
       "    .dataframe tbody tr th {\n",
       "        vertical-align: top;\n",
       "    }\n",
       "\n",
       "    .dataframe thead th {\n",
       "        text-align: right;\n",
       "    }\n",
       "</style>\n",
       "<table border=\"1\" class=\"dataframe\">\n",
       "  <thead>\n",
       "    <tr style=\"text-align: right;\">\n",
       "      <th></th>\n",
       "      <th>image</th>\n",
       "      <th>species</th>\n",
       "      <th>individual_id</th>\n",
       "    </tr>\n",
       "  </thead>\n",
       "  <tbody>\n",
       "    <tr>\n",
       "      <th>0</th>\n",
       "      <td>00021adfb725ed.jpg</td>\n",
       "      <td>0</td>\n",
       "      <td>cadddb1636b9</td>\n",
       "    </tr>\n",
       "    <tr>\n",
       "      <th>1</th>\n",
       "      <td>000562241d384d.jpg</td>\n",
       "      <td>1</td>\n",
       "      <td>1a71fbb72250</td>\n",
       "    </tr>\n",
       "    <tr>\n",
       "      <th>2</th>\n",
       "      <td>0007c33415ce37.jpg</td>\n",
       "      <td>2</td>\n",
       "      <td>60008f293a2b</td>\n",
       "    </tr>\n",
       "    <tr>\n",
       "      <th>3</th>\n",
       "      <td>0007d9bca26a99.jpg</td>\n",
       "      <td>3</td>\n",
       "      <td>4b00fe572063</td>\n",
       "    </tr>\n",
       "    <tr>\n",
       "      <th>4</th>\n",
       "      <td>00087baf5cef7a.jpg</td>\n",
       "      <td>1</td>\n",
       "      <td>8e5253662392</td>\n",
       "    </tr>\n",
       "    <tr>\n",
       "      <th>...</th>\n",
       "      <td>...</td>\n",
       "      <td>...</td>\n",
       "      <td>...</td>\n",
       "    </tr>\n",
       "    <tr>\n",
       "      <th>51028</th>\n",
       "      <td>fff639a7a78b3f.jpg</td>\n",
       "      <td>4</td>\n",
       "      <td>5ac053677ed1</td>\n",
       "    </tr>\n",
       "    <tr>\n",
       "      <th>51029</th>\n",
       "      <td>fff8b32daff17e.jpg</td>\n",
       "      <td>17</td>\n",
       "      <td>1184686361b3</td>\n",
       "    </tr>\n",
       "    <tr>\n",
       "      <th>51030</th>\n",
       "      <td>fff94675cc1aef.jpg</td>\n",
       "      <td>7</td>\n",
       "      <td>5401612696b9</td>\n",
       "    </tr>\n",
       "    <tr>\n",
       "      <th>51031</th>\n",
       "      <td>fffbc5dd642d8c.jpg</td>\n",
       "      <td>4</td>\n",
       "      <td>4000b3d7c24e</td>\n",
       "    </tr>\n",
       "    <tr>\n",
       "      <th>51032</th>\n",
       "      <td>fffdcd42312777.jpg</td>\n",
       "      <td>3</td>\n",
       "      <td>4ddb2eeb5efb</td>\n",
       "    </tr>\n",
       "  </tbody>\n",
       "</table>\n",
       "<p>50494 rows × 3 columns</p>\n",
       "</div>"
      ],
      "text/plain": [
       "                    image  species individual_id\n",
       "0      00021adfb725ed.jpg        0  cadddb1636b9\n",
       "1      000562241d384d.jpg        1  1a71fbb72250\n",
       "2      0007c33415ce37.jpg        2  60008f293a2b\n",
       "3      0007d9bca26a99.jpg        3  4b00fe572063\n",
       "4      00087baf5cef7a.jpg        1  8e5253662392\n",
       "...                   ...      ...           ...\n",
       "51028  fff639a7a78b3f.jpg        4  5ac053677ed1\n",
       "51029  fff8b32daff17e.jpg       17  1184686361b3\n",
       "51030  fff94675cc1aef.jpg        7  5401612696b9\n",
       "51031  fffbc5dd642d8c.jpg        4  4000b3d7c24e\n",
       "51032  fffdcd42312777.jpg        3  4ddb2eeb5efb\n",
       "\n",
       "[50494 rows x 3 columns]"
      ]
     },
     "execution_count": 14,
     "metadata": {},
     "output_type": "execute_result"
    }
   ],
   "source": [
    "train_df"
   ]
  },
  {
   "cell_type": "markdown",
   "id": "339e1db3",
   "metadata": {},
   "source": [
    "## Resize Images\n",
    "This helps the model fitting --> picture preprocessing gets less intensive"
   ]
  },
  {
   "cell_type": "code",
   "execution_count": 15,
   "id": "2d01a94f",
   "metadata": {},
   "outputs": [
    {
     "name": "stderr",
     "output_type": "stream",
     "text": [
      "100%|██████████████████████████████████████████████████████████████████████████| 51033/51033 [00:08<00:00, 6233.08it/s]\n"
     ]
    }
   ],
   "source": [
    "def image_filet(im):\n",
    "    #Kernel exclusion and image processing\n",
    "    img = np.asarray(im)\n",
    "    gauss = cv2.GaussianBlur(img, (0, 0), 2.0)\n",
    "    img = cv2.addWeighted(img, 1, gauss, 0, 0)\n",
    "    \n",
    "    img = cv2.GaussianBlur(img,(9,9),2.0)\n",
    "    kernel = np.array([[0,-1,0], [-1,6,-1], [0,-1,0]])\n",
    "    img = cv2.filter2D(img, -1, kernel)\n",
    "    return Image.fromarray(img)\n",
    "\n",
    "\n",
    "if not os.path.exists(RES):\n",
    "    os.mkdir(RES)\n",
    "for image in tqdm(images):\n",
    "    savePath = RES + image  \n",
    "    if not os.path.exists(savePath):\n",
    "        im = Image.open(SOURCE + image)\n",
    "        im = ImageOps.grayscale(im) if CHANNELS == 1 else im\n",
    "\n",
    "\n",
    "        im.thumbnail((INPUT_SHAPE[:2]), Image.ANTIALIAS)\n",
    "        im = ImageOps.pad(im, (INPUT_SHAPE[:2]), color='black')\n",
    "        im.save(savePath)\n",
    "\n",
    "        #im = image_filet(im)\n",
    "        #resizedImage = im.resize((IMG_SIZE, IMG_SIZE), Image.ANTIALIAS)\n",
    "        #resizedImage.save(savePath) \n",
    "            "
   ]
  },
  {
   "cell_type": "code",
   "execution_count": 16,
   "id": "61df9415",
   "metadata": {},
   "outputs": [],
   "source": [
    "full_img = list(map(RES.__add__,train_df['image']))"
   ]
  },
  {
   "cell_type": "markdown",
   "id": "34579eda",
   "metadata": {},
   "source": [
    "## Input Pipeline"
   ]
  },
  {
   "cell_type": "code",
   "execution_count": 17,
   "id": "32bfdbff",
   "metadata": {},
   "outputs": [],
   "source": [
    "@tf.function\n",
    "def process_tuple(image,label):\n",
    "    img = tf.io.read_file(image)\n",
    "    img = tf.image.decode_jpeg(img, channels=CHANNELS)\n",
    "    \n",
    "    img = tf.image.random_flip_left_right(img)\n",
    "    img = tf.image.random_contrast(img, 0.1, 0.5, seed=None)\n",
    "\n",
    "    img = tf.image.convert_image_dtype(img, tf.float16)\n",
    "    return img, label"
   ]
  },
  {
   "cell_type": "code",
   "execution_count": 18,
   "id": "a9c52304",
   "metadata": {},
   "outputs": [],
   "source": [
    "TRAIN_SPLIT = 0.8\n",
    "VAL_TEST_SPLIT = (1-TRAIN_SPLIT)/2"
   ]
  },
  {
   "cell_type": "code",
   "execution_count": 19,
   "id": "ac5c3def",
   "metadata": {},
   "outputs": [
    {
     "name": "stdout",
     "output_type": "stream",
     "text": [
      "train:40388 val:5037 test:5069\n"
     ]
    }
   ],
   "source": [
    "train_even_df, val_even_df, test_even_df = pd.read_pickle(\"train_ds.pickle\").sort_index(), pd.read_pickle(\"val_ds.pickle\").sort_index(), pd.read_pickle(\"test_ds.pickle\").sort_index()\n",
    "print(f\"train:{len(train_even_df)} val:{len(val_even_df)} test:{len(test_even_df)}\")"
   ]
  },
  {
   "cell_type": "code",
   "execution_count": 20,
   "id": "baaa44f8",
   "metadata": {},
   "outputs": [],
   "source": [
    "#train_label = list(train_even_df[\"species\"].values)\n",
    "#train_img = list(map(RES.__add__,train_even_df[\"image\"]))\n",
    "#train_ds = tf.data.Dataset.from_tensor_slices((train_img,train_label)).shuffle(1000, seed = 1337).map(process_tuple,num_parallel_calls=tf.data.AUTOTUNE, deterministic=False)\n",
    "\n",
    "val_label = list(val_even_df[\"species\"].values)\n",
    "val_img = list(map(RES.__add__,val_even_df[\"image\"]))\n",
    "val_ds = tf.data.Dataset.from_tensor_slices((val_img,val_label)).shuffle(1000, seed = 1337).map(process_tuple,num_parallel_calls=tf.data.AUTOTUNE, deterministic=False)\n",
    "\n",
    "test_label = list(test_even_df[\"species\"].values)\n",
    "test_img = list(map(RES.__add__,test_even_df[\"image\"]))\n",
    "test_ds = tf.data.Dataset.from_tensor_slices((test_img,test_label)).map(process_tuple,num_parallel_calls=tf.data.AUTOTUNE, deterministic=False)"
   ]
  },
  {
   "cell_type": "code",
   "execution_count": 21,
   "id": "22c90af0",
   "metadata": {},
   "outputs": [],
   "source": [
    "train_datasets_by_label = []\n",
    "for label in range(len(train_even_df.species.unique())):\n",
    "    query = train_even_df.query(f'species == {label}').sample(frac=1)\n",
    "    full_img = list(map(RES.__add__, query[\"image\"]))\n",
    "    label_dataset = tf.data.Dataset.from_tensor_slices((full_img, list(query[\"species\"].values))).map(process_tuple,num_parallel_calls=tf.data.AUTOTUNE, deterministic=False)\n",
    "    train_datasets_by_label.append(label_dataset)\n",
    "\n",
    "train_ds = tf.data.Dataset.sample_from_datasets(train_datasets_by_label, weights=[1/len(train_datasets_by_label)]*len(train_datasets_by_label)).shuffle(10000, seed=1337)"
   ]
  },
  {
   "cell_type": "code",
   "execution_count": 22,
   "id": "23f75edf",
   "metadata": {},
   "outputs": [],
   "source": [
    "train_batched = train_ds.batch(batch_size=BATCH_SIZE).cache().prefetch(tf.data.AUTOTUNE)\n",
    "val_batched = val_ds.batch(batch_size=BATCH_SIZE).cache().prefetch(tf.data.AUTOTUNE)\n",
    "test_batched = test_ds.batch(batch_size=BATCH_SIZE).cache().prefetch(tf.data.AUTOTUNE)"
   ]
  },
  {
   "cell_type": "markdown",
   "id": "8fecd46f",
   "metadata": {},
   "source": [
    "### Benchmark Dataset"
   ]
  },
  {
   "cell_type": "code",
   "execution_count": null,
   "id": "0bd71d23",
   "metadata": {},
   "outputs": [],
   "source": [
    "def benchmark(dataset, num=2):\n",
    "    start_time = time.perf_counter()\n",
    "    for n in range(num):\n",
    "        for sample in tqdm(dataset):\n",
    "            time.sleep(0.01)\n",
    "    print(\"Execution time:\", time.perf_counter() - start_time)"
   ]
  },
  {
   "cell_type": "code",
   "execution_count": 23,
   "id": "d3c1d31d",
   "metadata": {
    "scrolled": true
   },
   "outputs": [
    {
     "name": "stderr",
     "output_type": "stream",
     "text": [
      "1it [00:45, 45.95s/it]\n",
      "1it [00:05,  6.00s/it]\n"
     ]
    },
    {
     "name": "stdout",
     "output_type": "stream",
     "text": [
      "Execution time: 51.96106230000001\n"
     ]
    },
    {
     "name": "stderr",
     "output_type": "stream",
     "text": [
      "1it [00:05,  5.87s/it]\n",
      "1it [00:05,  5.87s/it]\n"
     ]
    },
    {
     "name": "stdout",
     "output_type": "stream",
     "text": [
      "Execution time: 11.742258599999985\n"
     ]
    },
    {
     "name": "stderr",
     "output_type": "stream",
     "text": [
      "1it [00:06,  6.04s/it]\n",
      "1it [00:06,  6.23s/it]"
     ]
    },
    {
     "name": "stdout",
     "output_type": "stream",
     "text": [
      "Execution time: 12.2741082\n"
     ]
    },
    {
     "name": "stderr",
     "output_type": "stream",
     "text": [
      "\n"
     ]
    }
   ],
   "source": [
    "if tf.executing_eagerly(): \n",
    "    benchmark_tr = train_ds.take(1)\n",
    "    benchmark(benchmark_tr)\n",
    "\n",
    "\n",
    "    benchmark_val = val_ds.take(1)\n",
    "    benchmark(benchmark_tr)\n",
    "\n",
    "    benchmark_test = test_ds.take(1)\n",
    "    benchmark(benchmark_tr)"
   ]
  },
  {
   "cell_type": "markdown",
   "id": "8df53386",
   "metadata": {},
   "source": [
    "## Modelling"
   ]
  },
  {
   "cell_type": "markdown",
   "id": "7aaba605",
   "metadata": {},
   "source": [
    "#### WandB"
   ]
  },
  {
   "cell_type": "code",
   "execution_count": 23,
   "id": "6f36e5bf",
   "metadata": {},
   "outputs": [
    {
     "name": "stderr",
     "output_type": "stream",
     "text": [
      "\u001b[34m\u001b[1mwandb\u001b[0m: Currently logged in as: \u001b[33mdolphin_project\u001b[0m (use `wandb login --relogin` to force relogin)\n",
      "\u001b[34m\u001b[1mwandb\u001b[0m: wandb version 0.12.11 is available!  To upgrade, please run:\n",
      "\u001b[34m\u001b[1mwandb\u001b[0m:  $ pip install wandb --upgrade\n"
     ]
    },
    {
     "data": {
      "text/html": [
       "\n",
       "                    Syncing run <strong><a href=\"https://wandb.ai/dolphin_project/my-test-project/runs/3a1kx4g0\" target=\"_blank\">helpful-water-380</a></strong> to <a href=\"https://wandb.ai/dolphin_project/my-test-project\" target=\"_blank\">Weights & Biases</a> (<a href=\"https://docs.wandb.com/integrations/jupyter.html\" target=\"_blank\">docs</a>).<br/>\n",
       "\n",
       "                "
      ],
      "text/plain": [
       "<IPython.core.display.HTML object>"
      ]
     },
     "metadata": {},
     "output_type": "display_data"
    }
   ],
   "source": [
    "run = wandb.init(project=\"my-test-project\",\n",
    "           entity=\"dolphin_project\",\n",
    "           sync_tensorboard = True,\n",
    "           config={\n",
    "               \"learning_rate\": 0.0001,\n",
    "               \"batch_size\": BATCH_SIZE,\n",
    "               \"epochs\": EPOCHS,\n",
    "               \"input_width\": INPUT_SHAPE[0],\n",
    "               \"input_height\": INPUT_SHAPE[1],\n",
    "               \"loss_function\": \"sparse_categorical_crossentropy\",\n",
    "               \"architecture\": \"CNN-global-pooling\",\n",
    "               \"dataset\": \"dolphin\",\n",
    "               #\"activation\": ACTIVATION_STR,\n",
    "               #\"conv_units\": [FIRST_CONV_UNITS, SECOND_CONV_UNITS] + CONV_UNITS_BODY,\n",
    "           })\n",
    "config = wandb.config"
   ]
  },
  {
   "cell_type": "markdown",
   "id": "5acd0432",
   "metadata": {},
   "source": [
    "#### Compute Class-Weights"
   ]
  },
  {
   "cell_type": "code",
   "execution_count": 27,
   "id": "d05c8a33",
   "metadata": {},
   "outputs": [],
   "source": [
    "from sklearn.utils.class_weight import compute_class_weight\n",
    "\n",
    "class_weights = compute_class_weight(class_weight = 'balanced', classes = labels.unique(), y=labels)\n",
    "class_weights = dict(enumerate(class_weights))"
   ]
  },
  {
   "cell_type": "markdown",
   "id": "f9cdd113",
   "metadata": {},
   "source": [
    "#### Model Keras"
   ]
  },
  {
   "cell_type": "code",
   "execution_count": 24,
   "id": "c6bd11ab",
   "metadata": {},
   "outputs": [],
   "source": [
    "import stefan_cnn_v3fcc"
   ]
  },
  {
   "cell_type": "code",
   "execution_count": 25,
   "id": "a9b7bcf8",
   "metadata": {
    "scrolled": true
   },
   "outputs": [
    {
     "name": "stdout",
     "output_type": "stream",
     "text": [
      "Model: \"model\"\n",
      "__________________________________________________________________________________________________\n",
      " Layer (type)                   Output Shape         Param #     Connected to                     \n",
      "==================================================================================================\n",
      " input_1 (InputLayer)           [(None, 145, 218, 1  0           []                               \n",
      "                                )]                                                                \n",
      "                                                                                                  \n",
      " sequential (Sequential)        (None, 145, 218, 1)  0           ['input_1[0][0]']                \n",
      "                                                                                                  \n",
      " conv2d (Conv2D)                (None, 73, 109, 16)  160         ['sequential[0][0]']             \n",
      "                                                                                                  \n",
      " batch_normalization (BatchNorm  (None, 73, 109, 16)  64         ['conv2d[0][0]']                 \n",
      " alization)                                                                                       \n",
      "                                                                                                  \n",
      " activation (Activation)        (None, 73, 109, 16)  0           ['batch_normalization[0][0]']    \n",
      "                                                                                                  \n",
      " conv2d_1 (Conv2D)              (None, 73, 109, 32)  4640        ['activation[0][0]']             \n",
      "                                                                                                  \n",
      " batch_normalization_1 (BatchNo  (None, 73, 109, 32)  128        ['conv2d_1[0][0]']               \n",
      " rmalization)                                                                                     \n",
      "                                                                                                  \n",
      " activation_1 (Activation)      (None, 73, 109, 32)  0           ['batch_normalization_1[0][0]']  \n",
      "                                                                                                  \n",
      " dropout (Dropout)              (None, 73, 109, 32)  0           ['activation_1[0][0]']           \n",
      "                                                                                                  \n",
      " activation_2 (Activation)      (None, 73, 109, 32)  0           ['dropout[0][0]']                \n",
      "                                                                                                  \n",
      " separable_conv2d (SeparableCon  (None, 73, 109, 64)  2400       ['activation_2[0][0]']           \n",
      " v2D)                                                                                             \n",
      "                                                                                                  \n",
      " batch_normalization_2 (BatchNo  (None, 73, 109, 64)  256        ['separable_conv2d[0][0]']       \n",
      " rmalization)                                                                                     \n",
      "                                                                                                  \n",
      " activation_3 (Activation)      (None, 73, 109, 64)  0           ['batch_normalization_2[0][0]']  \n",
      "                                                                                                  \n",
      " separable_conv2d_1 (SeparableC  (None, 73, 109, 64)  4736       ['activation_3[0][0]']           \n",
      " onv2D)                                                                                           \n",
      "                                                                                                  \n",
      " batch_normalization_3 (BatchNo  (None, 73, 109, 64)  256        ['separable_conv2d_1[0][0]']     \n",
      " rmalization)                                                                                     \n",
      "                                                                                                  \n",
      " max_pooling2d (MaxPooling2D)   (None, 37, 55, 64)   0           ['batch_normalization_3[0][0]']  \n",
      "                                                                                                  \n",
      " conv2d_2 (Conv2D)              (None, 37, 55, 64)   2112        ['dropout[0][0]']                \n",
      "                                                                                                  \n",
      " add (Add)                      (None, 37, 55, 64)   0           ['max_pooling2d[0][0]',          \n",
      "                                                                  'conv2d_2[0][0]']               \n",
      "                                                                                                  \n",
      " dropout_1 (Dropout)            (None, 37, 55, 64)   0           ['add[0][0]']                    \n",
      "                                                                                                  \n",
      " activation_4 (Activation)      (None, 37, 55, 64)   0           ['dropout_1[0][0]']              \n",
      "                                                                                                  \n",
      " separable_conv2d_2 (SeparableC  (None, 37, 55, 128)  8896       ['activation_4[0][0]']           \n",
      " onv2D)                                                                                           \n",
      "                                                                                                  \n",
      " batch_normalization_4 (BatchNo  (None, 37, 55, 128)  512        ['separable_conv2d_2[0][0]']     \n",
      " rmalization)                                                                                     \n",
      "                                                                                                  \n",
      " activation_5 (Activation)      (None, 37, 55, 128)  0           ['batch_normalization_4[0][0]']  \n",
      "                                                                                                  \n",
      " separable_conv2d_3 (SeparableC  (None, 37, 55, 128)  17664      ['activation_5[0][0]']           \n",
      " onv2D)                                                                                           \n",
      "                                                                                                  \n",
      " batch_normalization_5 (BatchNo  (None, 37, 55, 128)  512        ['separable_conv2d_3[0][0]']     \n",
      " rmalization)                                                                                     \n",
      "                                                                                                  \n",
      " max_pooling2d_1 (MaxPooling2D)  (None, 19, 28, 128)  0          ['batch_normalization_5[0][0]']  \n",
      "                                                                                                  \n",
      " conv2d_3 (Conv2D)              (None, 19, 28, 128)  8320        ['dropout_1[0][0]']              \n",
      "                                                                                                  \n",
      " add_1 (Add)                    (None, 19, 28, 128)  0           ['max_pooling2d_1[0][0]',        \n",
      "                                                                  'conv2d_3[0][0]']               \n",
      "                                                                                                  \n",
      " dropout_2 (Dropout)            (None, 19, 28, 128)  0           ['add_1[0][0]']                  \n",
      "                                                                                                  \n",
      " separable_conv2d_4 (SeparableC  (None, 19, 28, 128)  17664      ['dropout_2[0][0]']              \n",
      " onv2D)                                                                                           \n",
      "                                                                                                  \n",
      " batch_normalization_6 (BatchNo  (None, 19, 28, 128)  512        ['separable_conv2d_4[0][0]']     \n",
      " rmalization)                                                                                     \n",
      "                                                                                                  \n",
      " activation_6 (Activation)      (None, 19, 28, 128)  0           ['batch_normalization_6[0][0]']  \n",
      "                                                                                                  \n",
      " max_pooling2d_2 (MaxPooling2D)  (None, 10, 14, 128)  0          ['activation_6[0][0]']           \n"
     ]
    },
    {
     "name": "stdout",
     "output_type": "stream",
     "text": [
      "                                                                                                  \n",
      " flatten (Flatten)              (None, 17920)        0           ['max_pooling2d_2[0][0]']        \n",
      "                                                                                                  \n",
      " dense (Dense)                  (None, 1024)         18351104    ['flatten[0][0]']                \n",
      "                                                                                                  \n",
      " dropout_3 (Dropout)            (None, 1024)         0           ['dense[0][0]']                  \n",
      "                                                                                                  \n",
      " dense_1 (Dense)                (None, 20)           20500       ['dropout_3[0][0]']              \n",
      "                                                                                                  \n",
      "==================================================================================================\n",
      "Total params: 18,440,436\n",
      "Trainable params: 18,439,316\n",
      "Non-trainable params: 1,120\n",
      "__________________________________________________________________________________________________\n"
     ]
    }
   ],
   "source": [
    "scnn = stefan_cnn_v3fcc.create_model(INPUT_SHAPE, AMT_CLASSES)\n",
    "\n",
    "current_model = scnn\n",
    "    \n",
    "current_model.summary()\n",
    "current_model.compile(loss=config.loss_function,\n",
    "             optimizer=keras.optimizers.Adam(config.learning_rate),\n",
    "             metrics=['accuracy'])"
   ]
  },
  {
   "cell_type": "code",
   "execution_count": 26,
   "id": "55d3a9fa",
   "metadata": {
    "scrolled": true
   },
   "outputs": [
    {
     "name": "stdout",
     "output_type": "stream",
     "text": [
      "Epoch 1/85\n",
      "      6/Unknown - 43s 256ms/step - loss: 6.6929 - accuracy: 0.0469WARNING:tensorflow:Callback method `on_train_batch_end` is slow compared to the batch time (batch time: 0.0755s vs `on_train_batch_end` time: 0.1717s). Check your callbacks.\n",
      "   1263/Unknown - 368s 259ms/step - loss: 2.0209 - accuracy: 0.4420"
     ]
    },
    {
     "name": "stderr",
     "output_type": "stream",
     "text": [
      "\u001b[34m\u001b[1mwandb\u001b[0m: \u001b[33mWARNING\u001b[0m When using several event log directories, please call wandb.tensorboard.patch(root_logdir=\"...\") before wandb.init\n"
     ]
    },
    {
     "name": "stdout",
     "output_type": "stream",
     "text": [
      "1/1 [==============================] - 0s 270ms/step\n",
      "1263/1263 [==============================] - 385s 272ms/step - loss: 2.0209 - accuracy: 0.4420 - val_loss: 2.0807 - val_accuracy: 0.4644\n",
      "Epoch 2/85\n",
      "1/1 [==============================] - 0s 21ms/steps - loss: 1.7346 - accuracy: 0.52\n",
      "1263/1263 [==============================] - 335s 265ms/step - loss: 1.7346 - accuracy: 0.5224 - val_loss: 1.8544 - val_accuracy: 0.5259\n",
      "Epoch 3/85\n",
      "1/1 [==============================] - 0s 20ms/steps - loss: 1.5629 - accuracy: 0.56\n",
      "1263/1263 [==============================] - 335s 266ms/step - loss: 1.5629 - accuracy: 0.5681 - val_loss: 1.7206 - val_accuracy: 0.5309\n",
      "Epoch 4/85\n",
      "1/1 [==============================] - 0s 21ms/steps - loss: 1.4368 - accuracy: 0.59\n",
      "1263/1263 [==============================] - 336s 266ms/step - loss: 1.4368 - accuracy: 0.5998 - val_loss: 1.5645 - val_accuracy: 0.5827\n",
      "Epoch 5/85\n",
      "1/1 [==============================] - 0s 20ms/steps - loss: 1.3456 - accuracy: 0.62\n",
      "1263/1263 [==============================] - 336s 266ms/step - loss: 1.3456 - accuracy: 0.6228 - val_loss: 1.4339 - val_accuracy: 0.6103\n",
      "Epoch 6/85\n",
      "1/1 [==============================] - 0s 21ms/steps - loss: 1.2637 - accuracy: 0.64\n",
      "1263/1263 [==============================] - 339s 268ms/step - loss: 1.2637 - accuracy: 0.6436 - val_loss: 1.3782 - val_accuracy: 0.6246\n",
      "Epoch 7/85\n",
      "1/1 [==============================] - 0s 20ms/steps - loss: 1.1948 - accuracy: 0.66\n",
      "1263/1263 [==============================] - 342s 271ms/step - loss: 1.1948 - accuracy: 0.6615 - val_loss: 1.4022 - val_accuracy: 0.6176\n",
      "Epoch 8/85\n",
      "1/1 [==============================] - 0s 20ms/steps - loss: 1.1373 - accuracy: 0.67\n",
      "1263/1263 [==============================] - 342s 270ms/step - loss: 1.1373 - accuracy: 0.6769 - val_loss: 1.3089 - val_accuracy: 0.6301\n",
      "Epoch 9/85\n",
      "1/1 [==============================] - 0s 20ms/steps - loss: 1.0873 - accuracy: 0.69\n",
      "1263/1263 [==============================] - 343s 271ms/step - loss: 1.0873 - accuracy: 0.6916 - val_loss: 1.2252 - val_accuracy: 0.6528\n",
      "Epoch 10/85\n",
      "1/1 [==============================] - 0s 21ms/steps - loss: 1.0397 - accuracy: 0.70\n",
      "1263/1263 [==============================] - 334s 265ms/step - loss: 1.0397 - accuracy: 0.7056 - val_loss: 1.1496 - val_accuracy: 0.6700\n",
      "Epoch 11/85\n",
      "1/1 [==============================] - 0s 21ms/steps - loss: 1.0055 - accuracy: 0.71\n",
      "1263/1263 [==============================] - 332s 263ms/step - loss: 1.0055 - accuracy: 0.7158 - val_loss: 1.1777 - val_accuracy: 0.6595\n",
      "Epoch 12/85\n",
      "1/1 [==============================] - 0s 21ms/steps - loss: 0.9654 - accuracy: 0.72\n",
      "1263/1263 [==============================] - 335s 265ms/step - loss: 0.9654 - accuracy: 0.7272 - val_loss: 1.1364 - val_accuracy: 0.6772\n",
      "Epoch 13/85\n",
      "1/1 [==============================] - 0s 21ms/steps - loss: 0.9392 - accuracy: 0.73\n",
      "1263/1263 [==============================] - 336s 266ms/step - loss: 0.9392 - accuracy: 0.7370 - val_loss: 1.0864 - val_accuracy: 0.6829\n",
      "Epoch 14/85\n",
      "1/1 [==============================] - 0s 20ms/steps - loss: 0.9061 - accuracy: 0.74\n",
      "1263/1263 [==============================] - 338s 268ms/step - loss: 0.9061 - accuracy: 0.7450 - val_loss: 1.1913 - val_accuracy: 0.6534\n",
      "Epoch 15/85\n",
      "1/1 [==============================] - 0s 20ms/steps - loss: 0.8818 - accuracy: 0.75\n",
      "1263/1263 [==============================] - 338s 268ms/step - loss: 0.8818 - accuracy: 0.7524 - val_loss: 1.0403 - val_accuracy: 0.7030\n",
      "Epoch 16/85\n",
      "1/1 [==============================] - 0s 20ms/steps - loss: 0.8643 - accuracy: 0.75\n",
      "1263/1263 [==============================] - 336s 266ms/step - loss: 0.8643 - accuracy: 0.7587 - val_loss: 1.0730 - val_accuracy: 0.6953\n",
      "Epoch 17/85\n",
      "1/1 [==============================] - 0s 20ms/steps - loss: 0.8430 - accuracy: 0.76\n",
      "1263/1263 [==============================] - 333s 264ms/step - loss: 0.8430 - accuracy: 0.7670 - val_loss: 1.0221 - val_accuracy: 0.7008\n",
      "Epoch 18/85\n",
      "1/1 [==============================] - 0s 21ms/steps - loss: 0.8207 - accuracy: 0.77\n",
      "1263/1263 [==============================] - 335s 265ms/step - loss: 0.8207 - accuracy: 0.7744 - val_loss: 1.0630 - val_accuracy: 0.7020\n",
      "Epoch 19/85\n",
      "1/1 [==============================] - 0s 20ms/steps - loss: 0.7994 - accuracy: 0.77\n",
      "1263/1263 [==============================] - 332s 263ms/step - loss: 0.7994 - accuracy: 0.7798 - val_loss: 1.0005 - val_accuracy: 0.7195\n",
      "Epoch 20/85\n",
      "1/1 [==============================] - 0s 20ms/steps - loss: 0.7871 - accuracy: 0.78\n",
      "1263/1263 [==============================] - 334s 264ms/step - loss: 0.7871 - accuracy: 0.7854 - val_loss: 1.1961 - val_accuracy: 0.6649\n",
      "Epoch 21/85\n",
      "1/1 [==============================] - 0s 20ms/steps - loss: 0.7724 - accuracy: 0.79\n",
      "1263/1263 [==============================] - 331s 262ms/step - loss: 0.7724 - accuracy: 0.7912 - val_loss: 1.0460 - val_accuracy: 0.7056\n",
      "Epoch 22/85\n",
      "1/1 [==============================] - 0s 20ms/steps - loss: 0.7540 - accuracy: 0.79\n",
      "1263/1263 [==============================] - 332s 263ms/step - loss: 0.7540 - accuracy: 0.7972 - val_loss: 0.9384 - val_accuracy: 0.7497\n",
      "Epoch 23/85\n",
      "1/1 [==============================] - 0s 21ms/steps - loss: 0.7447 - accuracy: 0.79\n",
      "1263/1263 [==============================] - 332s 263ms/step - loss: 0.7447 - accuracy: 0.7992 - val_loss: 0.9267 - val_accuracy: 0.7433\n",
      "Epoch 24/85\n",
      "1/1 [==============================] - 0s 20ms/steps - loss: 0.7270 - accuracy: 0.80\n",
      "1263/1263 [==============================] - 330s 261ms/step - loss: 0.7270 - accuracy: 0.8057 - val_loss: 0.9695 - val_accuracy: 0.7459\n",
      "Epoch 25/85\n",
      "1/1 [==============================] - 0s 20ms/steps - loss: 0.7142 - accuracy: 0.81\n",
      "1263/1263 [==============================] - 332s 263ms/step - loss: 0.7142 - accuracy: 0.8107 - val_loss: 1.0001 - val_accuracy: 0.7284\n",
      "Epoch 26/85\n",
      "1/1 [==============================] - 0s 20ms/steps - loss: 0.7031 - accuracy: 0.81\n",
      "1263/1263 [==============================] - 333s 263ms/step - loss: 0.7031 - accuracy: 0.8167 - val_loss: 0.9674 - val_accuracy: 0.7493\n",
      "Epoch 27/85\n",
      "1/1 [==============================] - 0s 21ms/steps - loss: 0.6884 - accuracy: 0.82\n",
      "1263/1263 [==============================] - 334s 265ms/step - loss: 0.6884 - accuracy: 0.8211 - val_loss: 0.9576 - val_accuracy: 0.7528\n",
      "Epoch 28/85\n",
      "1/1 [==============================] - 0s 20ms/steps - loss: 0.6773 - accuracy: 0.82\n",
      "1263/1263 [==============================] - 350s 277ms/step - loss: 0.6773 - accuracy: 0.8254 - val_loss: 1.0273 - val_accuracy: 0.7213\n",
      "Epoch 29/85\n",
      "1/1 [==============================] - 0s 20ms/steps - loss: 0.6704 - accuracy: 0.82\n",
      "1263/1263 [==============================] - 343s 271ms/step - loss: 0.6704 - accuracy: 0.8277 - val_loss: 1.0114 - val_accuracy: 0.7344\n",
      "Epoch 30/85\n",
      "1/1 [==============================] - 0s 20ms/steps - loss: 0.6580 - accuracy: 0.83\n",
      "1263/1263 [==============================] - 332s 263ms/step - loss: 0.6580 - accuracy: 0.8343 - val_loss: 1.0507 - val_accuracy: 0.7215\n",
      "Epoch 31/85\n",
      "1/1 [==============================] - 0s 22ms/steps - loss: 0.6474 - accuracy: 0.83\n",
      "1263/1263 [==============================] - 329s 260ms/step - loss: 0.6474 - accuracy: 0.8370 - val_loss: 1.0091 - val_accuracy: 0.7358\n",
      "Epoch 32/85\n",
      "1/1 [==============================] - 0s 20ms/steps - loss: 0.6413 - accuracy: 0.83\n",
      "1263/1263 [==============================] - 329s 260ms/step - loss: 0.6413 - accuracy: 0.8386 - val_loss: 0.9616 - val_accuracy: 0.7562\n",
      "Epoch 33/85\n",
      "1/1 [==============================] - 0s 23ms/steps - loss: 0.6301 - accuracy: 0.84\n",
      "1263/1263 [==============================] - 331s 262ms/step - loss: 0.6301 - accuracy: 0.8432 - val_loss: 0.9883 - val_accuracy: 0.7465\n",
      "Epoch 34/85\n",
      "1/1 [==============================] - 0s 20ms/steps - loss: 0.6217 - accuracy: 0.84\n",
      "1263/1263 [==============================] - 332s 263ms/step - loss: 0.6217 - accuracy: 0.8467 - val_loss: 1.0458 - val_accuracy: 0.7276\n",
      "Epoch 35/85\n",
      "1/1 [==============================] - 0s 21ms/steps - loss: 0.6135 - accuracy: 0.85\n",
      "1263/1263 [==============================] - 334s 264ms/step - loss: 0.6135 - accuracy: 0.8509 - val_loss: 0.9265 - val_accuracy: 0.7733\n",
      "Epoch 36/85\n"
     ]
    },
    {
     "name": "stdout",
     "output_type": "stream",
     "text": [
      "1/1 [==============================] - 0s 21ms/steps - loss: 0.6049 - accuracy: 0.85\n",
      "1263/1263 [==============================] - 347s 275ms/step - loss: 0.6049 - accuracy: 0.8548 - val_loss: 0.9973 - val_accuracy: 0.7586\n",
      "Epoch 37/85\n",
      "1/1 [==============================] - 0s 22ms/steps - loss: 0.5976 - accuracy: 0.85\n",
      "1263/1263 [==============================] - 347s 275ms/step - loss: 0.5976 - accuracy: 0.8588 - val_loss: 0.9681 - val_accuracy: 0.7715\n",
      "Epoch 38/85\n",
      "1/1 [==============================] - 0s 21ms/steps - loss: 0.5888 - accuracy: 0.86\n",
      "1263/1263 [==============================] - 334s 265ms/step - loss: 0.5888 - accuracy: 0.8606 - val_loss: 0.9327 - val_accuracy: 0.7715\n",
      "Epoch 39/85\n",
      "1/1 [==============================] - 0s 28ms/steps - loss: 0.5819 - accuracy: 0.86\n",
      "1263/1263 [==============================] - 335s 265ms/step - loss: 0.5819 - accuracy: 0.8640 - val_loss: 0.9683 - val_accuracy: 0.7552\n",
      "Epoch 40/85\n",
      "1/1 [==============================] - 0s 21ms/steps - loss: 0.5768 - accuracy: 0.86\n",
      "1263/1263 [==============================] - 332s 263ms/step - loss: 0.5768 - accuracy: 0.8663 - val_loss: 0.9381 - val_accuracy: 0.7806\n",
      "Epoch 41/85\n",
      "1/1 [==============================] - 0s 22ms/steps - loss: 0.5689 - accuracy: 0.86\n",
      "1263/1263 [==============================] - 341s 270ms/step - loss: 0.5689 - accuracy: 0.8686 - val_loss: 0.9724 - val_accuracy: 0.7568\n",
      "Epoch 42/85\n",
      "1/1 [==============================] - 0s 21ms/steps - loss: 0.5630 - accuracy: 0.87\n",
      "1263/1263 [==============================] - 336s 266ms/step - loss: 0.5630 - accuracy: 0.8722 - val_loss: 1.3059 - val_accuracy: 0.6875\n",
      "Epoch 43/85\n",
      "1/1 [==============================] - 0s 21ms/steps - loss: 0.5518 - accuracy: 0.87\n",
      "1263/1263 [==============================] - 339s 268ms/step - loss: 0.5518 - accuracy: 0.8753 - val_loss: 0.9627 - val_accuracy: 0.7753\n",
      "Epoch 44/85\n",
      "1/1 [==============================] - 0s 22ms/steps - loss: 0.5484 - accuracy: 0.87\n",
      "1263/1263 [==============================] - 352s 279ms/step - loss: 0.5484 - accuracy: 0.8776 - val_loss: 0.9507 - val_accuracy: 0.7770\n",
      "Epoch 45/85\n",
      "1/1 [==============================] - 0s 24ms/steps - loss: 0.5463 - accuracy: 0.87\n",
      "1263/1263 [==============================] - 353s 279ms/step - loss: 0.5463 - accuracy: 0.8785 - val_loss: 1.0027 - val_accuracy: 0.7560\n",
      "Epoch 46/85\n",
      "1/1 [==============================] - 0s 22ms/steps - loss: 0.5373 - accuracy: 0.88\n",
      "1263/1263 [==============================] - 334s 265ms/step - loss: 0.5373 - accuracy: 0.8832 - val_loss: 0.9107 - val_accuracy: 0.7919\n",
      "Epoch 47/85\n",
      "1/1 [==============================] - 0s 21ms/steps - loss: 0.5264 - accuracy: 0.88\n",
      "1263/1263 [==============================] - 330s 261ms/step - loss: 0.5264 - accuracy: 0.8880 - val_loss: 0.9105 - val_accuracy: 0.7961\n",
      "Epoch 48/85\n",
      "1/1 [==============================] - 0s 21ms/steps - loss: 0.5321 - accuracy: 0.88\n",
      "1263/1263 [==============================] - 328s 260ms/step - loss: 0.5321 - accuracy: 0.8866 - val_loss: 0.9876 - val_accuracy: 0.7719\n",
      "Epoch 49/85\n",
      "1/1 [==============================] - 0s 22ms/steps - loss: 0.5219 - accuracy: 0.89\n",
      "1263/1263 [==============================] - 329s 261ms/step - loss: 0.5219 - accuracy: 0.8901 - val_loss: 1.0002 - val_accuracy: 0.7723\n",
      "Epoch 50/85\n",
      "1/1 [==============================] - 0s 21ms/steps - loss: 0.5217 - accuracy: 0.88\n",
      "1263/1263 [==============================] - 330s 261ms/step - loss: 0.5217 - accuracy: 0.8895 - val_loss: 0.9646 - val_accuracy: 0.7905\n",
      "Epoch 51/85\n",
      "1/1 [==============================] - 0s 22ms/steps - loss: 0.5076 - accuracy: 0.89\n",
      "1263/1263 [==============================] - 333s 263ms/step - loss: 0.5076 - accuracy: 0.8943 - val_loss: 0.9694 - val_accuracy: 0.7852\n",
      "Epoch 52/85\n",
      "1/1 [==============================] - 0s 21ms/steps - loss: 0.5079 - accuracy: 0.89\n",
      "1263/1263 [==============================] - 337s 267ms/step - loss: 0.5079 - accuracy: 0.8959 - val_loss: 0.9215 - val_accuracy: 0.7937\n",
      "Epoch 53/85\n",
      "1/1 [==============================] - 0s 22ms/steps - loss: 0.5031 - accuracy: 0.89\n",
      "1263/1263 [==============================] - 339s 268ms/step - loss: 0.5031 - accuracy: 0.8974 - val_loss: 1.0702 - val_accuracy: 0.7610\n",
      "Epoch 54/85\n",
      "1/1 [==============================] - 0s 22ms/steps - loss: 0.4991 - accuracy: 0.90\n",
      "1263/1263 [==============================] - 330s 261ms/step - loss: 0.4991 - accuracy: 0.9014 - val_loss: 1.1648 - val_accuracy: 0.7270\n",
      "Epoch 55/85\n",
      "1/1 [==============================] - 0s 22ms/steps - loss: 0.4936 - accuracy: 0.90\n",
      "1263/1263 [==============================] - 329s 260ms/step - loss: 0.4936 - accuracy: 0.9027 - val_loss: 1.1647 - val_accuracy: 0.7387\n",
      "Epoch 56/85\n",
      "1/1 [==============================] - 0s 21ms/steps - loss: 0.4879 - accuracy: 0.90\n",
      "1263/1263 [==============================] - 328s 260ms/step - loss: 0.4879 - accuracy: 0.9044 - val_loss: 1.0868 - val_accuracy: 0.7459\n",
      "Epoch 57/85\n",
      "1/1 [==============================] - 0s 21ms/steps - loss: 0.4901 - accuracy: 0.90\n",
      "1263/1263 [==============================] - 329s 261ms/step - loss: 0.4901 - accuracy: 0.9044 - val_loss: 1.2575 - val_accuracy: 0.7268\n",
      "Epoch 58/85\n",
      "1/1 [==============================] - 0s 21ms/steps - loss: 0.4864 - accuracy: 0.90\n",
      "1263/1263 [==============================] - 331s 262ms/step - loss: 0.4864 - accuracy: 0.9057 - val_loss: 0.9487 - val_accuracy: 0.7800\n",
      "Epoch 59/85\n",
      "1/1 [==============================] - 0s 21ms/steps - loss: 0.4832 - accuracy: 0.90\n",
      "1263/1263 [==============================] - 332s 263ms/step - loss: 0.4832 - accuracy: 0.9075 - val_loss: 0.9700 - val_accuracy: 0.7995\n",
      "Epoch 60/85\n",
      "1/1 [==============================] - 0s 21ms/steps - loss: 0.4758 - accuracy: 0.91\n",
      "1263/1263 [==============================] - 336s 266ms/step - loss: 0.4758 - accuracy: 0.9101 - val_loss: 1.0508 - val_accuracy: 0.7697\n",
      "Epoch 61/85\n",
      "1/1 [==============================] - 0s 21ms/steps - loss: 0.4720 - accuracy: 0.91\n",
      "1263/1263 [==============================] - 349s 277ms/step - loss: 0.4720 - accuracy: 0.9108 - val_loss: 1.1280 - val_accuracy: 0.7554\n",
      "Epoch 62/85\n",
      "1/1 [==============================] - 0s 21ms/steps - loss: 0.4708 - accuracy: 0.91\n",
      "1263/1263 [==============================] - 339s 268ms/step - loss: 0.4708 - accuracy: 0.9123 - val_loss: 0.9877 - val_accuracy: 0.7886\n"
     ]
    },
    {
     "ename": "Error",
     "evalue": "wandb.watch only works with pytorch, couldn't import torch.",
     "output_type": "error",
     "traceback": [
      "\u001b[1;31m---------------------------------------------------------------------------\u001b[0m",
      "\u001b[1;31mError\u001b[0m                                     Traceback (most recent call last)",
      "Input \u001b[1;32mIn [26]\u001b[0m, in \u001b[0;36m<module>\u001b[1;34m\u001b[0m\n\u001b[0;32m      1\u001b[0m history \u001b[38;5;241m=\u001b[39m current_model\u001b[38;5;241m.\u001b[39mfit(train_batched,\n\u001b[0;32m      2\u001b[0m                     \u001b[38;5;66;03m#class_weight = class_weights,\u001b[39;00m\n\u001b[0;32m      3\u001b[0m                     epochs \u001b[38;5;241m=\u001b[39m EPOCHS,\n\u001b[1;32m   (...)\u001b[0m\n\u001b[0;32m      7\u001b[0m                               earlystopping                           \n\u001b[0;32m      8\u001b[0m                              ])\n\u001b[1;32m----> 9\u001b[0m \u001b[43mwandb\u001b[49m\u001b[38;5;241;43m.\u001b[39;49m\u001b[43mwatch\u001b[49m\u001b[43m(\u001b[49m\u001b[43mhistory\u001b[49m\u001b[43m)\u001b[49m\n",
      "File \u001b[1;32m~\\AppData\\Local\\Programs\\Python\\Python310\\lib\\site-packages\\wandb\\sdk\\wandb_watch.py:66\u001b[0m, in \u001b[0;36mwatch\u001b[1;34m(models, criterion, log, log_freq, idx, log_graph)\u001b[0m\n\u001b[0;32m     63\u001b[0m \u001b[38;5;28;01mif\u001b[39;00m \u001b[38;5;129;01mnot\u001b[39;00m \u001b[38;5;28misinstance\u001b[39m(models, (\u001b[38;5;28mtuple\u001b[39m, \u001b[38;5;28mlist\u001b[39m)):\n\u001b[0;32m     64\u001b[0m     models \u001b[38;5;241m=\u001b[39m (models,)\n\u001b[1;32m---> 66\u001b[0m torch \u001b[38;5;241m=\u001b[39m \u001b[43mwandb\u001b[49m\u001b[38;5;241;43m.\u001b[39;49m\u001b[43mutil\u001b[49m\u001b[38;5;241;43m.\u001b[39;49m\u001b[43mget_module\u001b[49m\u001b[43m(\u001b[49m\n\u001b[0;32m     67\u001b[0m \u001b[43m    \u001b[49m\u001b[38;5;124;43m\"\u001b[39;49m\u001b[38;5;124;43mtorch\u001b[39;49m\u001b[38;5;124;43m\"\u001b[39;49m\u001b[43m,\u001b[49m\u001b[43m \u001b[49m\u001b[43mrequired\u001b[49m\u001b[38;5;241;43m=\u001b[39;49m\u001b[38;5;124;43m\"\u001b[39;49m\u001b[38;5;124;43mwandb.watch only works with pytorch, couldn\u001b[39;49m\u001b[38;5;124;43m'\u001b[39;49m\u001b[38;5;124;43mt import torch.\u001b[39;49m\u001b[38;5;124;43m\"\u001b[39;49m\n\u001b[0;32m     68\u001b[0m \u001b[43m\u001b[49m\u001b[43m)\u001b[49m\n\u001b[0;32m     70\u001b[0m \u001b[38;5;28;01mfor\u001b[39;00m model \u001b[38;5;129;01min\u001b[39;00m models:\n\u001b[0;32m     71\u001b[0m     \u001b[38;5;28;01mif\u001b[39;00m \u001b[38;5;129;01mnot\u001b[39;00m \u001b[38;5;28misinstance\u001b[39m(model, torch\u001b[38;5;241m.\u001b[39mnn\u001b[38;5;241m.\u001b[39mModule):\n",
      "File \u001b[1;32m~\\AppData\\Local\\Programs\\Python\\Python310\\lib\\site-packages\\wandb\\util.py:189\u001b[0m, in \u001b[0;36mget_module\u001b[1;34m(name, required)\u001b[0m\n\u001b[0;32m    187\u001b[0m             logger\u001b[38;5;241m.\u001b[39mexception(msg)\n\u001b[0;32m    188\u001b[0m \u001b[38;5;28;01mif\u001b[39;00m required \u001b[38;5;129;01mand\u001b[39;00m name \u001b[38;5;129;01min\u001b[39;00m _not_importable:\n\u001b[1;32m--> 189\u001b[0m     \u001b[38;5;28;01mraise\u001b[39;00m wandb\u001b[38;5;241m.\u001b[39mError(required)\n",
      "\u001b[1;31mError\u001b[0m: wandb.watch only works with pytorch, couldn't import torch."
     ]
    }
   ],
   "source": [
    "history = current_model.fit(train_batched,\n",
    "                    #class_weight = class_weights,\n",
    "                    epochs = EPOCHS,\n",
    "                    validation_data = val_batched,\n",
    "                    callbacks=[WandbCallback(input_type=\"image\",  labels=names),\n",
    "                              TensorBoard(log_dir=wandb.run.dir),\n",
    "                              earlystopping                           \n",
    "                             ])\n",
    "wandb.watch(history)"
   ]
  },
  {
   "cell_type": "code",
   "execution_count": 27,
   "id": "35f0386b",
   "metadata": {},
   "outputs": [
    {
     "name": "stderr",
     "output_type": "stream",
     "text": [
      "WARNING:absl:Found untraced functions such as _jit_compiled_convolution_op, _jit_compiled_convolution_op, _jit_compiled_convolution_op, _jit_compiled_convolution_op, _jit_compiled_convolution_op while saving (showing 5 of 9). These functions will not be directly callable after loading.\n"
     ]
    },
    {
     "name": "stdout",
     "output_type": "stream",
     "text": [
      "INFO:tensorflow:Assets written to: didi_final_oversampeling_lr01-2\\assets\n"
     ]
    },
    {
     "name": "stderr",
     "output_type": "stream",
     "text": [
      "INFO:tensorflow:Assets written to: didi_final_oversampeling_lr01-2\\assets\n"
     ]
    }
   ],
   "source": [
    "current_model.save(\"didi_final_oversampeling_lr01-2\")"
   ]
  },
  {
   "cell_type": "markdown",
   "id": "130554b3",
   "metadata": {},
   "source": [
    "### Predict + Evaluate Model"
   ]
  },
  {
   "cell_type": "code",
   "execution_count": 28,
   "id": "f7510919",
   "metadata": {},
   "outputs": [
    {
     "name": "stdout",
     "output_type": "stream",
     "text": [
      "  1/159 [..............................] - ETA: 1:03WARNING:tensorflow:From C:\\Users\\Oliver\\AppData\\Roaming\\Python\\Python310\\site-packages\\tensorflow\\python\\eager\\function.py:113: TypeSpec.most_specific_compatible_type (from tensorflow.python.framework.type_spec) is deprecated and will be removed in a future version.\n",
      "Instructions for updating:\n",
      "Use most_specific_common_supertype instead.\n"
     ]
    },
    {
     "name": "stderr",
     "output_type": "stream",
     "text": [
      "WARNING:tensorflow:From C:\\Users\\Oliver\\AppData\\Roaming\\Python\\Python310\\site-packages\\tensorflow\\python\\eager\\function.py:113: TypeSpec.most_specific_compatible_type (from tensorflow.python.framework.type_spec) is deprecated and will be removed in a future version.\n",
      "Instructions for updating:\n",
      "Use most_specific_common_supertype instead.\n"
     ]
    },
    {
     "name": "stdout",
     "output_type": "stream",
     "text": [
      "159/159 [==============================] - 8s 49ms/step\n"
     ]
    }
   ],
   "source": [
    "pr = current_model.predict(test_batched)"
   ]
  },
  {
   "cell_type": "code",
   "execution_count": 29,
   "id": "8eb51c30",
   "metadata": {},
   "outputs": [],
   "source": [
    "y_test = np.array(test_label)\n",
    "y_pred = pr.argmax(axis=1)\n",
    "\n",
    "#y_act = y_test.values.argmax(axis=1)  #--> used if one-hot encoded\n",
    "y_act = y_test"
   ]
  },
  {
   "cell_type": "code",
   "execution_count": 30,
   "id": "79abc6ac",
   "metadata": {},
   "outputs": [
    {
     "data": {
      "image/png": "[encoded data removed]",
      "text/plain": [
       "<Figure size 792x792 with 2 Axes>"
      ]
     },
     "metadata": {
      "needs_background": "light"
     },
     "output_type": "display_data"
    }
   ],
   "source": [
    "from sklearn.metrics import confusion_matrix\n",
    "import seaborn as sns\n",
    "\n",
    "#sp_list = list(map(lambda x: x.split(\"species__\")[-1],labels))#--> used if one-hot encoded\n",
    "\n",
    "cm=confusion_matrix(y_act,y_pred)\n",
    "cm_sum = np.sum(cm, axis=1, keepdims=True)\n",
    "cm_perc = cm / cm_sum.astype(float) * 100\n",
    "\n",
    "plt.figure(figsize=(11, 11))\n",
    "\n",
    "annot = np.empty_like(cm).astype(str)\n",
    "nrows, ncols = cm.shape\n",
    "for i in range(nrows):\n",
    "    for j in range(ncols):\n",
    "        c = cm[i, j]\n",
    "        p = cm_perc[i, j]\n",
    "        if i == j:\n",
    "            s = cm_sum[i]\n",
    "            annot[i, j] = '%.2f%%\\n%d/%d' % (p, c, s)\n",
    "        else:\n",
    "            annot[i, j] = '%d' % (c)\n",
    "            \n",
    "cm=confusion_matrix(y_act,y_pred,normalize='true')            \n",
    "cm = pd.DataFrame(cm, index=names, columns=names)\n",
    "\n",
    "ax = sns.heatmap(cm, annot=annot, fmt='', cbar=True, cmap=\"Blues\")\n",
    "\n",
    "ax.set_title('Confusion Matrix\\n\\n')\n",
    "ax.set_xlabel('\\nPredicted Species')\n",
    "ax.set_ylabel('Actual Species')\n",
    "\n",
    "ax.xaxis.set_ticklabels(names,rotation = 90)\n",
    "ax.yaxis.set_ticklabels(names, rotation = 360)\n",
    "\n",
    "\n",
    "plt.show()"
   ]
  },
  {
   "cell_type": "code",
   "execution_count": 31,
   "id": "14ecc4ad",
   "metadata": {},
   "outputs": [],
   "source": [
    "cval = current_model.evaluate(test_batched, verbose = 0)"
   ]
  },
  {
   "cell_type": "code",
   "execution_count": null,
   "id": "27e9fbb7",
   "metadata": {},
   "outputs": [
    {
     "data": {
      "text/html": [
       "<br/>Waiting for W&B process to finish, PID 10628... <strong style=\"color:green\">(success).</strong>"
      ],
      "text/plain": [
       "<IPython.core.display.HTML object>"
      ]
     },
     "metadata": {},
     "output_type": "display_data"
    },
    {
     "data": {
      "application/vnd.jupyter.widget-view+json": {
       "model_id": "da8fadd4f5df444da7ec12117e2a6063",
       "version_major": 2,
       "version_minor": 0
      },
      "text/plain": [
       "VBox(children=(Label(value=' 0.35MB of 0.35MB uploaded (0.00MB deduped)\\r'), FloatProgress(value=1.0, max=1.0)…"
      ]
     },
     "metadata": {},
     "output_type": "display_data"
    }
   ],
   "source": [
    "wandb.log({\"test loss\" : cval[0]})\n",
    "wandb.log({\"test acc\" : cval[1]})\n",
    "wandb.log({\"test error rate\" : round((1-cval[1])*100,2)})\n",
    "run.finish()"
   ]
  },
  {
   "cell_type": "code",
   "execution_count": null,
   "id": "f01382c4",
   "metadata": {},
   "outputs": [],
   "source": [
    "print(\"test loss, test acc:\", cval)"
   ]
  },
  {
   "cell_type": "code",
   "execution_count": null,
   "id": "9798fb39",
   "metadata": {},
   "outputs": [],
   "source": [
    "with open(f'sv3nn.pkl', 'wb') as file:\n",
    "    pickle.dump(current_model,file)"
   ]
  },
  {
   "cell_type": "code",
   "execution_count": null,
   "id": "bfe0f859",
   "metadata": {},
   "outputs": [],
   "source": [
    "\"\"\"\n",
    "\n",
    "#visualize model performance\n",
    "accuracy = history.history['categorical_accuracy']\n",
    "val_accuracy = history.history['val_categorical_accuracy']\n",
    "\n",
    "loss = history.history['loss']\n",
    "val_loss = history.history['val_loss']\n",
    "fig, (ax1, ax2) = plt.subplots(1, 2)\n",
    "\n",
    "plt.figure(figsize=(15, 8))\n",
    "ax1.plot(range(87), accuracy, \"r\", label=\"Training Accuracy\")\n",
    "ax1.plot(range(87), val_accuracy, \"orange\", label=\"Validation Accuracy\")\n",
    "ax1.set_ylim(0, 1)\n",
    "ax1.grid(True)\n",
    "ax1.legend(loc=\"lower left\")\n",
    "\n",
    "ax2.plot(range(87), loss, \"b\", label=\"Training Loss\")\n",
    "ax2.plot(range(87), val_loss, \"g\", label=\"Validation Loss\")\n",
    "ax2.grid(True)\n",
    "ax2.legend(loc=\"lower left\")\n",
    "#plt.gca().set_ylim(0, 2)\n",
    "\"\"\""
   ]
  }
 ],
 "metadata": {
  "celltoolbar": "Edit Metadata",
  "kernelspec": {
   "display_name": "Python 3 (ipykernel)",
   "language": "python",
   "name": "python3"
  },
  "language_info": {
   "codemirror_mode": {
    "name": "ipython",
    "version": 3
   },
   "file_extension": ".py",
   "mimetype": "text/x-python",
   "name": "python",
   "nbconvert_exporter": "python",
   "pygments_lexer": "ipython3",
   "version": "3.10.2"
  }
 },
 "nbformat": 4,
 "nbformat_minor": 5
}
