{
 "cells": [
  {
   "cell_type": "code",
   "execution_count": 88,
   "id": "e771bafc",
   "metadata": {},
   "outputs": [],
   "source": [
    "import datetime\n",
    "import os\n",
    "import time\n",
    "import PIL\n",
    "import pickle\n",
    "import cv2\n",
    "import wandb\n",
    "\n",
    "import pandas as pd\n",
    "import matplotlib.pyplot as plt\n",
    "import tensorflow as tf\n",
    "import tensorflow.compat.v1 as tfc\n",
    "\n",
    "from PIL import Image\n",
    "from tqdm import tqdm\n",
    "from tensorflow import keras\n",
    "from tensorflow.keras import layers\n",
    "from keras.utils.vis_utils import plot_model\n",
    "from keras.callbacks import TensorBoard\n",
    "from keras import callbacks\n",
    "from wandb.keras import WandbCallback\n",
    "\n",
    "\n",
    "#import model generators\n",
    "import stefan_cnn_v1\n",
    "import oliver_cnn_v1\n",
    "import sequential_nn"
   ]
  },
  {
   "cell_type": "code",
   "execution_count": 89,
   "id": "e2a50b95",
   "metadata": {},
   "outputs": [
    {
     "name": "stdout",
     "output_type": "stream",
     "text": [
      "Num GPUs Available:  1\n",
      "Found GPU at: /device:GPU:0\n"
     ]
    },
    {
     "data": {
      "text/plain": [
       "True"
      ]
     },
     "execution_count": 89,
     "metadata": {},
     "output_type": "execute_result"
    }
   ],
   "source": [
    "print(\"Num GPUs Available: \", len(tf.config.list_physical_devices('GPU')))\n",
    "device_name = tf.test.gpu_device_name()\n",
    "if not device_name:\n",
    "  raise SystemError('GPU device not found')\n",
    "print('Found GPU at: {}'.format(device_name))\n",
    "gpu_options= tfc.GPUOptions(per_process_gpu_memory_fraction = 0.8)\n",
    "\n",
    "try: sess.close() \n",
    "except: pass\n",
    "sess = tfc.InteractiveSession(config=tfc.ConfigProto(gpu_options=gpu_options))\n",
    "tf.executing_eagerly()\n"
   ]
  },
  {
   "cell_type": "markdown",
   "id": "a0300819",
   "metadata": {},
   "source": [
    "### TensorBoard + Callbacks + WandB"
   ]
  },
  {
   "cell_type": "code",
   "execution_count": 90,
   "id": "a447c159",
   "metadata": {},
   "outputs": [],
   "source": [
    "#wandb.tensorboard.patch(root_logdir=\"logs/\")"
   ]
  },
  {
   "cell_type": "code",
   "execution_count": 115,
   "id": "2e0ffd78",
   "metadata": {
    "scrolled": true
   },
   "outputs": [
    {
     "data": {
      "text/html": [
       "Finishing last run (ID:ez74gy07) before initializing another..."
      ],
      "text/plain": [
       "<IPython.core.display.HTML object>"
      ]
     },
     "metadata": {},
     "output_type": "display_data"
    },
    {
     "data": {
      "text/html": [
       "<br/>Waiting for W&B process to finish, PID 14772... <strong style=\"color:green\">(success).</strong>"
      ],
      "text/plain": [
       "<IPython.core.display.HTML object>"
      ]
     },
     "metadata": {},
     "output_type": "display_data"
    },
    {
     "data": {
      "application/vnd.jupyter.widget-view+json": {
       "model_id": "",
       "version_major": 2,
       "version_minor": 0
      },
      "text/plain": [
       "VBox(children=(Label(value=' 32.74MB of 32.74MB uploaded (0.00MB deduped)\\r'), FloatProgress(value=1.0, max=1.…"
      ]
     },
     "metadata": {},
     "output_type": "display_data"
    },
    {
     "data": {
      "text/html": [
       "<style>\n",
       "    table.wandb td:nth-child(1) { padding: 0 10px; text-align: right }\n",
       "    .wandb-row { display: flex; flex-direction: row; flex-wrap: wrap; width: 100% }\n",
       "    .wandb-col { display: flex; flex-direction: column; flex-basis: 100%; flex: 1; padding: 10px; }\n",
       "    </style>\n",
       "<div class=\"wandb-row\"><div class=\"wandb-col\">\n",
       "<h3>Run history:</h3><br/><table class=\"wandb\"><tr><td>epoch</td><td>▁▂▂▃▄▄▅▅▆▇▇█</td></tr><tr><td>loss</td><td>█▅▄▃▃▂▂▂▂▁▁▁</td></tr><tr><td>sparse_categorical_accuracy</td><td>▁▄▅▆▆▇▇▇▇███</td></tr><tr><td>val_loss</td><td>▁▁▂▄█▃▂▄▃▇▂▂</td></tr><tr><td>val_sparse_categorical_accuracy</td><td>▅▂▃▅▅█▇▃▁▇▇▄</td></tr></table><br/></div><div class=\"wandb-col\">\n",
       "<h3>Run summary:</h3><br/><table class=\"wandb\"><tr><td>best_epoch</td><td>0</td></tr><tr><td>best_val_loss</td><td>3.441</td></tr><tr><td>epoch</td><td>11</td></tr><tr><td>loss</td><td>0.42355</td></tr><tr><td>sparse_categorical_accuracy</td><td>0.86118</td></tr><tr><td>val_loss</td><td>9.0262</td></tr><tr><td>val_sparse_categorical_accuracy</td><td>0.0989</td></tr></table>\n",
       "</div></div>\n",
       "Synced 5 W&B file(s), 433 media file(s), 0 artifact file(s) and 4 other file(s)\n",
       "<br/>Synced <strong style=\"color:#cdcd00\">clean-pine-23</strong>: <a href=\"https://wandb.ai/dolphin_project/my-test-project/runs/ez74gy07\" target=\"_blank\">https://wandb.ai/dolphin_project/my-test-project/runs/ez74gy07</a><br/>\n",
       "Find logs at: <code>.\\wandb\\run-20220222_185105-ez74gy07\\logs</code><br/>\n"
      ],
      "text/plain": [
       "<IPython.core.display.HTML object>"
      ]
     },
     "metadata": {},
     "output_type": "display_data"
    },
    {
     "data": {
      "text/html": [
       "Successfully finished last run (ID:ez74gy07). Initializing new run:<br/>"
      ],
      "text/plain": [
       "<IPython.core.display.HTML object>"
      ]
     },
     "metadata": {},
     "output_type": "display_data"
    },
    {
     "data": {
      "text/html": [
       "\n",
       "                    Syncing run <strong><a href=\"https://wandb.ai/dolphin_project/my-test-project/runs/39ge85pi\" target=\"_blank\">serene-field-24</a></strong> to <a href=\"https://wandb.ai/dolphin_project/my-test-project\" target=\"_blank\">Weights & Biases</a> (<a href=\"https://docs.wandb.com/integrations/jupyter.html\" target=\"_blank\">docs</a>).<br/>\n",
       "\n",
       "                "
      ],
      "text/plain": [
       "<IPython.core.display.HTML object>"
      ]
     },
     "metadata": {},
     "output_type": "display_data"
    }
   ],
   "source": [
    "NAME = f\"O_CNN{int(time.time())}\"\n",
    "\n",
    "#%load_ext tensorboard\n",
    "#%tensorboard --logdir logs\n",
    "wandb.init(project=\"my-test-project\", entity=\"dolphin_project\", sync_tensorboard = True)\n",
    "\n",
    "earlystopping = callbacks.EarlyStopping(monitor =\"val_loss\", \n",
    "                                        mode =\"min\", patience = 15, \n",
    "                                        restore_best_weights = True)"
   ]
  },
  {
   "cell_type": "markdown",
   "id": "faf8d2aa",
   "metadata": {},
   "source": [
    "## Adjust CSV"
   ]
  },
  {
   "cell_type": "code",
   "execution_count": 92,
   "id": "164e9e7a",
   "metadata": {},
   "outputs": [
    {
     "data": {
      "text/html": [
       "<div>\n",
       "<style scoped>\n",
       "    .dataframe tbody tr th:only-of-type {\n",
       "        vertical-align: middle;\n",
       "    }\n",
       "\n",
       "    .dataframe tbody tr th {\n",
       "        vertical-align: top;\n",
       "    }\n",
       "\n",
       "    .dataframe thead th {\n",
       "        text-align: right;\n",
       "    }\n",
       "</style>\n",
       "<table border=\"1\" class=\"dataframe\">\n",
       "  <thead>\n",
       "    <tr style=\"text-align: right;\">\n",
       "      <th></th>\n",
       "      <th>image</th>\n",
       "      <th>species</th>\n",
       "      <th>individual_id</th>\n",
       "    </tr>\n",
       "  </thead>\n",
       "  <tbody>\n",
       "    <tr>\n",
       "      <th>0</th>\n",
       "      <td>00021adfb725ed.jpg</td>\n",
       "      <td>melon_headed_whale</td>\n",
       "      <td>cadddb1636b9</td>\n",
       "    </tr>\n",
       "    <tr>\n",
       "      <th>1</th>\n",
       "      <td>000562241d384d.jpg</td>\n",
       "      <td>humpback_whale</td>\n",
       "      <td>1a71fbb72250</td>\n",
       "    </tr>\n",
       "    <tr>\n",
       "      <th>2</th>\n",
       "      <td>0007c33415ce37.jpg</td>\n",
       "      <td>false_killer_whale</td>\n",
       "      <td>60008f293a2b</td>\n",
       "    </tr>\n",
       "    <tr>\n",
       "      <th>3</th>\n",
       "      <td>0007d9bca26a99.jpg</td>\n",
       "      <td>bottlenose_dolphin</td>\n",
       "      <td>4b00fe572063</td>\n",
       "    </tr>\n",
       "    <tr>\n",
       "      <th>4</th>\n",
       "      <td>00087baf5cef7a.jpg</td>\n",
       "      <td>humpback_whale</td>\n",
       "      <td>8e5253662392</td>\n",
       "    </tr>\n",
       "    <tr>\n",
       "      <th>...</th>\n",
       "      <td>...</td>\n",
       "      <td>...</td>\n",
       "      <td>...</td>\n",
       "    </tr>\n",
       "    <tr>\n",
       "      <th>51028</th>\n",
       "      <td>fff639a7a78b3f.jpg</td>\n",
       "      <td>beluga</td>\n",
       "      <td>5ac053677ed1</td>\n",
       "    </tr>\n",
       "    <tr>\n",
       "      <th>51029</th>\n",
       "      <td>fff8b32daff17e.jpg</td>\n",
       "      <td>cuviers_beaked_whale</td>\n",
       "      <td>1184686361b3</td>\n",
       "    </tr>\n",
       "    <tr>\n",
       "      <th>51030</th>\n",
       "      <td>fff94675cc1aef.jpg</td>\n",
       "      <td>blue_whale</td>\n",
       "      <td>5401612696b9</td>\n",
       "    </tr>\n",
       "    <tr>\n",
       "      <th>51031</th>\n",
       "      <td>fffbc5dd642d8c.jpg</td>\n",
       "      <td>beluga</td>\n",
       "      <td>4000b3d7c24e</td>\n",
       "    </tr>\n",
       "    <tr>\n",
       "      <th>51032</th>\n",
       "      <td>fffdcd42312777.jpg</td>\n",
       "      <td>bottlenose_dolphin</td>\n",
       "      <td>4ddb2eeb5efb</td>\n",
       "    </tr>\n",
       "  </tbody>\n",
       "</table>\n",
       "<p>51033 rows × 3 columns</p>\n",
       "</div>"
      ],
      "text/plain": [
       "                    image               species individual_id\n",
       "0      00021adfb725ed.jpg    melon_headed_whale  cadddb1636b9\n",
       "1      000562241d384d.jpg        humpback_whale  1a71fbb72250\n",
       "2      0007c33415ce37.jpg    false_killer_whale  60008f293a2b\n",
       "3      0007d9bca26a99.jpg    bottlenose_dolphin  4b00fe572063\n",
       "4      00087baf5cef7a.jpg        humpback_whale  8e5253662392\n",
       "...                   ...                   ...           ...\n",
       "51028  fff639a7a78b3f.jpg                beluga  5ac053677ed1\n",
       "51029  fff8b32daff17e.jpg  cuviers_beaked_whale  1184686361b3\n",
       "51030  fff94675cc1aef.jpg            blue_whale  5401612696b9\n",
       "51031  fffbc5dd642d8c.jpg                beluga  4000b3d7c24e\n",
       "51032  fffdcd42312777.jpg    bottlenose_dolphin  4ddb2eeb5efb\n",
       "\n",
       "[51033 rows x 3 columns]"
      ]
     },
     "execution_count": 92,
     "metadata": {},
     "output_type": "execute_result"
    }
   ],
   "source": [
    "#adjust names to fit\n",
    "train_csv = \"train.csv\"\n",
    "train_df = pd.read_csv(train_csv)\n",
    "train_df.species.replace({\"globis\": \"short_finned_pilot_whale\",\n",
    "                          \"pilot_whale\": \"short_finned_pilot_whale\",\n",
    "                          \"kiler_whale\": \"killer_whale\",\n",
    "                          \"bottlenose_dolpin\": \"bottlenose_dolphin\"}, inplace=True)\n",
    "\n",
    "species_labels = list(train_df.species.unique())\n",
    "images = train_df['image']\n",
    "sid = train_df['individual_id']\n",
    "train_df"
   ]
  },
  {
   "cell_type": "code",
   "execution_count": 93,
   "id": "6ae417ca",
   "metadata": {},
   "outputs": [
    {
     "name": "stdout",
     "output_type": "stream",
     "text": [
      "amount of species: 26\n"
     ]
    },
    {
     "data": {
      "image/png": "[encoded data removed]",
      "text/plain": [
       "<Figure size 864x504 with 1 Axes>"
      ]
     },
     "metadata": {
      "needs_background": "light"
     },
     "output_type": "display_data"
    }
   ],
   "source": [
    "print(f\"amount of species: {len(train_df.species.unique())}\")\n",
    "plt.figure(figsize=(12, 7))\n",
    "train_df.groupby(by='species').size().sort_values().plot.barh().set_xscale('log')"
   ]
  },
  {
   "cell_type": "code",
   "execution_count": 94,
   "id": "b87e44c3",
   "metadata": {},
   "outputs": [
    {
     "data": {
      "text/html": [
       "<div>\n",
       "<style scoped>\n",
       "    .dataframe tbody tr th:only-of-type {\n",
       "        vertical-align: middle;\n",
       "    }\n",
       "\n",
       "    .dataframe tbody tr th {\n",
       "        vertical-align: top;\n",
       "    }\n",
       "\n",
       "    .dataframe thead th {\n",
       "        text-align: right;\n",
       "    }\n",
       "</style>\n",
       "<table border=\"1\" class=\"dataframe\">\n",
       "  <thead>\n",
       "    <tr style=\"text-align: right;\">\n",
       "      <th></th>\n",
       "      <th>image</th>\n",
       "      <th>species</th>\n",
       "      <th>individual_id</th>\n",
       "    </tr>\n",
       "  </thead>\n",
       "  <tbody>\n",
       "    <tr>\n",
       "      <th>0</th>\n",
       "      <td>00021adfb725ed.jpg</td>\n",
       "      <td>0</td>\n",
       "      <td>cadddb1636b9</td>\n",
       "    </tr>\n",
       "    <tr>\n",
       "      <th>1</th>\n",
       "      <td>000562241d384d.jpg</td>\n",
       "      <td>1</td>\n",
       "      <td>1a71fbb72250</td>\n",
       "    </tr>\n",
       "    <tr>\n",
       "      <th>2</th>\n",
       "      <td>0007c33415ce37.jpg</td>\n",
       "      <td>2</td>\n",
       "      <td>60008f293a2b</td>\n",
       "    </tr>\n",
       "    <tr>\n",
       "      <th>3</th>\n",
       "      <td>0007d9bca26a99.jpg</td>\n",
       "      <td>3</td>\n",
       "      <td>4b00fe572063</td>\n",
       "    </tr>\n",
       "    <tr>\n",
       "      <th>4</th>\n",
       "      <td>00087baf5cef7a.jpg</td>\n",
       "      <td>1</td>\n",
       "      <td>8e5253662392</td>\n",
       "    </tr>\n",
       "    <tr>\n",
       "      <th>...</th>\n",
       "      <td>...</td>\n",
       "      <td>...</td>\n",
       "      <td>...</td>\n",
       "    </tr>\n",
       "    <tr>\n",
       "      <th>51028</th>\n",
       "      <td>fff639a7a78b3f.jpg</td>\n",
       "      <td>4</td>\n",
       "      <td>5ac053677ed1</td>\n",
       "    </tr>\n",
       "    <tr>\n",
       "      <th>51029</th>\n",
       "      <td>fff8b32daff17e.jpg</td>\n",
       "      <td>17</td>\n",
       "      <td>1184686361b3</td>\n",
       "    </tr>\n",
       "    <tr>\n",
       "      <th>51030</th>\n",
       "      <td>fff94675cc1aef.jpg</td>\n",
       "      <td>7</td>\n",
       "      <td>5401612696b9</td>\n",
       "    </tr>\n",
       "    <tr>\n",
       "      <th>51031</th>\n",
       "      <td>fffbc5dd642d8c.jpg</td>\n",
       "      <td>4</td>\n",
       "      <td>4000b3d7c24e</td>\n",
       "    </tr>\n",
       "    <tr>\n",
       "      <th>51032</th>\n",
       "      <td>fffdcd42312777.jpg</td>\n",
       "      <td>3</td>\n",
       "      <td>4ddb2eeb5efb</td>\n",
       "    </tr>\n",
       "  </tbody>\n",
       "</table>\n",
       "<p>51033 rows × 3 columns</p>\n",
       "</div>"
      ],
      "text/plain": [
       "                    image  species individual_id\n",
       "0      00021adfb725ed.jpg        0  cadddb1636b9\n",
       "1      000562241d384d.jpg        1  1a71fbb72250\n",
       "2      0007c33415ce37.jpg        2  60008f293a2b\n",
       "3      0007d9bca26a99.jpg        3  4b00fe572063\n",
       "4      00087baf5cef7a.jpg        1  8e5253662392\n",
       "...                   ...      ...           ...\n",
       "51028  fff639a7a78b3f.jpg        4  5ac053677ed1\n",
       "51029  fff8b32daff17e.jpg       17  1184686361b3\n",
       "51030  fff94675cc1aef.jpg        7  5401612696b9\n",
       "51031  fffbc5dd642d8c.jpg        4  4000b3d7c24e\n",
       "51032  fffdcd42312777.jpg        3  4ddb2eeb5efb\n",
       "\n",
       "[51033 rows x 3 columns]"
      ]
     },
     "execution_count": 94,
     "metadata": {},
     "output_type": "execute_result"
    }
   ],
   "source": [
    "def get_id(sp):\n",
    "    return species_labels.index(sp)\n",
    "##encode species\n",
    "train_df[\"species\"] = train_df.apply(lambda row :get_id(row[\"species\"]),axis = 1)\n",
    "labels = train_df[\"species\"]\n",
    "\n",
    "##one-hot encode species\n",
    "#train_df = pd.concat([train_df, pd.get_dummies(train_df[\"species\"],prefix='species_',drop_first=True)], axis = 1)\n",
    "#train_df.drop(['species'],axis=1, inplace=True)\n",
    "train_df"
   ]
  },
  {
   "cell_type": "markdown",
   "id": "339e1db3",
   "metadata": {},
   "source": [
    "## Resize Images\n",
    "This helps the model fitting --> picture preprocessing gets less intensive"
   ]
  },
  {
   "cell_type": "code",
   "execution_count": 95,
   "id": "add769ac",
   "metadata": {},
   "outputs": [],
   "source": [
    "SOURCE = \"train_images/\"\n",
    "IMG_SIZE = 64\n",
    "RES = f\"train_images_res_{IMG_SIZE}/\""
   ]
  },
  {
   "cell_type": "code",
   "execution_count": null,
   "id": "2d01a94f",
   "metadata": {},
   "outputs": [],
   "source": [
    "try:\n",
    "    os.makedirs(RES)\n",
    "except OSError as e:\n",
    "    if e.errno != errno.EEXIST:\n",
    "        raise\n",
    "\n",
    "for image in tqdm(images):\n",
    "    savePath = RES + image  \n",
    "    if not os.path.exists(savePath):\n",
    "        imgPath = SOURCE + image\n",
    "        im = Image.open(imgPath)\n",
    "    \n",
    "        resizedImage = im.resize((IMG_SIZE, IMG_SIZE), PIL.Image.ANTIALIAS)\n",
    "        resizedImage.save(savePath) "
   ]
  },
  {
   "cell_type": "code",
   "execution_count": 96,
   "id": "61df9415",
   "metadata": {},
   "outputs": [],
   "source": [
    "full_img = list(map(RES.__add__, images))"
   ]
  },
  {
   "cell_type": "markdown",
   "id": "34579eda",
   "metadata": {},
   "source": [
    "## Input Pipeline"
   ]
  },
  {
   "cell_type": "code",
   "execution_count": 107,
   "id": "46b25243",
   "metadata": {},
   "outputs": [],
   "source": [
    "BATCH_SIZE = 128\n",
    "AMT_CLASSES = len(train_df.species.unique())"
   ]
  },
  {
   "cell_type": "code",
   "execution_count": 108,
   "id": "32bfdbff",
   "metadata": {},
   "outputs": [],
   "source": [
    "@tf.function\n",
    "def process_tuple(image,label):\n",
    "    img = tf.io.read_file(image)\n",
    "    img = tf.image.decode_jpeg(img, channels=3)\n",
    "    \n",
    "    img = tf.image.random_flip_left_right(img)\n",
    "    \n",
    "    img = tf.image.convert_image_dtype(img, tf.float16) / 255\n",
    "    #img = tf.image.resize(img, [IMG_SIZE, IMG_SIZE], method='bicubic', preserve_aspect_ratio=False,antialias=False)\n",
    "    return img, label"
   ]
  },
  {
   "cell_type": "code",
   "execution_count": 109,
   "id": "6af2b7da",
   "metadata": {},
   "outputs": [],
   "source": [
    "#dataset = tf.data.Dataset.list_files('train_images/*').map(lambda x: tf.py_function(process_path, [x], [tf.float32,tf.int64]))\n",
    "#dataset = tf.data.Dataset.list_files('train_images/*').map(lambda x: tf.py_function(process_path, [x], [tf.float32,tf.int64]),num_parallel_calls=tf.data.AUTOTUNE)\n",
    "\n",
    "dataset = tf.data.Dataset.from_tensor_slices((full_img, labels)).shuffle(1000).map(process_tuple,num_parallel_calls=tf.data.AUTOTUNE, deterministic=False)"
   ]
  },
  {
   "cell_type": "code",
   "execution_count": 110,
   "id": "a9c52304",
   "metadata": {},
   "outputs": [],
   "source": [
    "TRAIN_SPLIT = 0.7\n",
    "VAL_TEST_SPLIT = (1-TRAIN_SPLIT)/2\n",
    "\n",
    "image_count = dataset.cardinality().numpy()\n",
    "train_size = int(image_count*TRAIN_SPLIT)\n",
    "val_test_size = int(image_count*VAL_TEST_SPLIT)\n",
    "\n",
    "train_ds = dataset.take(train_size)\n",
    "val_ds = dataset.skip(train_size).take(val_test_size)\n",
    "test_ds = dataset.skip(train_size).skip(val_test_size)\n",
    "\n",
    "\n",
    "train_batched = train_ds.batch(batch_size=BATCH_SIZE).cache().prefetch(tf.data.AUTOTUNE)\n",
    "val_batched = val_ds.batch(batch_size=BATCH_SIZE).cache().prefetch(tf.data.AUTOTUNE)\n",
    "test_batched = test_ds.batch(batch_size=BATCH_SIZE).cache().prefetch(tf.data.AUTOTUNE)"
   ]
  },
  {
   "cell_type": "markdown",
   "id": "8fecd46f",
   "metadata": {},
   "source": [
    "### Benchmark Dataset"
   ]
  },
  {
   "cell_type": "code",
   "execution_count": 111,
   "id": "0bd71d23",
   "metadata": {},
   "outputs": [],
   "source": [
    "def benchmark(dataset, num_epochs=2):\n",
    "    start_time = time.perf_counter()\n",
    "    for epoch_num in range(num_epochs):\n",
    "        for sample in tqdm(dataset):\n",
    "            # Performing a training step\n",
    "            time.sleep(0.01)\n",
    "    print(\"Execution time:\", time.perf_counter() - start_time)"
   ]
  },
  {
   "cell_type": "code",
   "execution_count": 112,
   "id": "d3c1d31d",
   "metadata": {
    "scrolled": true
   },
   "outputs": [
    {
     "name": "stderr",
     "output_type": "stream",
     "text": [
      "100%|████████████████████████████████████████████████████████████████████████████████████| 1/1 [00:00<00:00, 10.98it/s]\n",
      "100%|████████████████████████████████████████████████████████████████████████████████████| 1/1 [00:00<00:00,  9.34it/s]"
     ]
    },
    {
     "name": "stdout",
     "output_type": "stream",
     "text": [
      "Execution time: 0.2024066000012681\n"
     ]
    },
    {
     "name": "stderr",
     "output_type": "stream",
     "text": [
      "\n"
     ]
    }
   ],
   "source": [
    "benchmark_ds = dataset.take(1)\n",
    "benchmark(benchmark_ds)"
   ]
  },
  {
   "cell_type": "markdown",
   "id": "8df53386",
   "metadata": {},
   "source": [
    "## Modelling"
   ]
  },
  {
   "cell_type": "code",
   "execution_count": 116,
   "id": "a9b7bcf8",
   "metadata": {},
   "outputs": [],
   "source": [
    "INPUT_SHAPE = [IMG_SIZE,IMG_SIZE,3]\n",
    "\n",
    "ocnn = oliver_cnn_v1.create_model(INPUT_SHAPE)\n",
    "scnn = stefan_cnn_v1.create_model(INPUT_SHAPE, AMT_CLASSES)\n",
    "seqnn = sequential_nn.create_model(INPUT_SHAPE)\n",
    "    \n",
    "current_model = seqnn\n",
    "    \n",
    "#current_model.summary()\n",
    "current_model.compile(loss=tf.keras.losses.SparseCategoricalCrossentropy(),\n",
    "             optimizer=keras.optimizers.Adam(),\n",
    "             metrics=[\n",
    "                 tf.keras.metrics.SparseCategoricalAccuracy(),\n",
    "                 #tf.keras.metrics.Recall(),\n",
    "                 #tf.keras.metrics.Precision()\n",
    "             ]) "
   ]
  },
  {
   "cell_type": "code",
   "execution_count": null,
   "id": "55d3a9fa",
   "metadata": {},
   "outputs": [
    {
     "name": "stderr",
     "output_type": "stream",
     "text": [
      "\u001b[34m\u001b[1mwandb\u001b[0m: \u001b[33mWARNING\u001b[0m When using several event log directories, please call wandb.tensorboard.patch(root_logdir=\"...\") before wandb.init\n"
     ]
    },
    {
     "name": "stdout",
     "output_type": "stream",
     "text": [
      "Epoch 1/300\n",
      "279/280 [============================>.] - ETA: 0s - loss: 2.2712 - sparse_categorical_accuracy: 0.3111"
     ]
    },
    {
     "name": "stderr",
     "output_type": "stream",
     "text": [
      "\u001b[34m\u001b[1mwandb\u001b[0m: \u001b[33mWARNING\u001b[0m When using several event log directories, please call wandb.tensorboard.patch(root_logdir=\"...\") before wandb.init\n"
     ]
    },
    {
     "name": "stdout",
     "output_type": "stream",
     "text": [
      "280/280 [==============================] - 9s 31ms/step - loss: 2.2712 - sparse_categorical_accuracy: 0.3111 - val_loss: 2.0386 - val_sparse_categorical_accuracy: 0.3786\n",
      "Epoch 2/300\n",
      "280/280 [==============================] - 8s 30ms/step - loss: 1.9416 - sparse_categorical_accuracy: 0.4007 - val_loss: 1.7898 - val_sparse_categorical_accuracy: 0.4543\n",
      "Epoch 3/300\n",
      "280/280 [==============================] - 9s 32ms/step - loss: 1.7689 - sparse_categorical_accuracy: 0.4542 - val_loss: 1.6742 - val_sparse_categorical_accuracy: 0.4846\n",
      "Epoch 4/300\n",
      "237/280 [========================>.....] - ETA: 1s - loss: 1.7019 - sparse_categorical_accuracy: 0.4747"
     ]
    }
   ],
   "source": [
    "epochs = 300\n",
    "history = current_model.fit(train_batched,\n",
    "                   epochs = epochs,\n",
    "                   validation_data = val_batched,\n",
    "                   callbacks=[WandbCallback(input_type=\"image\", labels=labels),\n",
    "                              TensorBoard(log_dir=wandb.run.dir),\n",
    "                              earlystopping                           \n",
    "                             ]\n",
    "                )\n"
   ]
  },
  {
   "cell_type": "code",
   "execution_count": null,
   "id": "6fb3e22d",
   "metadata": {},
   "outputs": [],
   "source": [
    "#visualize model performance\n",
    "accuracy = history.history['sparse_categorical_accuracy']\n",
    "val_accuracy = history.history['val_sparse_categorical_accuracy']\n",
    "\n",
    "loss = history.history['loss']\n",
    "val_loss = history.history['val_loss']\n",
    "fig, (ax1, ax2) = plt.subplots(1, 2)\n",
    "\n",
    "plt.figure(figsize=(15, 8))\n",
    "ax1.plot(range(epochs), accuracy, \"r\", label=\"Training Accuracy\")\n",
    "ax1.plot(range(epochs), val_accuracy, \"orange\", label=\"Validation Accuracy\")\n",
    "ax1.set_ylim(0, 1)\n",
    "ax1.grid(True)\n",
    "ax1.legend(loc=\"lower left\")\n",
    "\n",
    "ax2.plot(range(epochs), loss, \"b\", label=\"Training Loss\")\n",
    "ax2.plot(range(epochs), val_loss, \"g\", label=\"Validation Loss\")\n",
    "ax2.grid(True)\n",
    "ax2.legend(loc=\"lower left\")\n",
    "#plt.gca().set_ylim(0, 2)\n"
   ]
  },
  {
   "cell_type": "code",
   "execution_count": null,
   "id": "27e9fbb7",
   "metadata": {},
   "outputs": [],
   "source": [
    "cval = current_model.evaluate(test_batched, verbose = 0)"
   ]
  },
  {
   "cell_type": "code",
   "execution_count": null,
   "id": "f01382c4",
   "metadata": {},
   "outputs": [],
   "source": [
    "print(\"test loss, test acc:\", cval)"
   ]
  },
  {
   "cell_type": "code",
   "execution_count": null,
   "id": "9798fb39",
   "metadata": {},
   "outputs": [],
   "source": [
    "with open(f'{current_model}.pkl', 'wb') as file:\n",
    "    pickle.dump(current_model,file)"
   ]
  },
  {
   "cell_type": "code",
   "execution_count": null,
   "id": "bfe0f859",
   "metadata": {},
   "outputs": [],
   "source": []
  }
 ],
 "metadata": {
  "kernelspec": {
   "display_name": "Python 3 (ipykernel)",
   "language": "python",
   "name": "python3"
  },
  "language_info": {
   "codemirror_mode": {
    "name": "ipython",
    "version": 3
   },
   "file_extension": ".py",
   "mimetype": "text/x-python",
   "name": "python",
   "nbconvert_exporter": "python",
   "pygments_lexer": "ipython3",
   "version": "3.10.2"
  }
 },
 "nbformat": 4,
 "nbformat_minor": 5
}
