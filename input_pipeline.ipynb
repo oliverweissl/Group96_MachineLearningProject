{
 "cells": [
  {
   "cell_type": "code",
   "execution_count": 2,
   "id": "e771bafc",
   "metadata": {},
   "outputs": [],
   "source": [
    "import datetime\n",
    "import os\n",
    "import time\n",
    "import pickle\n",
    "import wandb\n",
    "import cv2\n",
    "\n",
    "import pandas as pd\n",
    "import matplotlib.pyplot as plt\n",
    "import tensorflow as tf\n",
    "import tensorflow_addons as tfa\n",
    "import tensorflow.compat.v1 as tfc\n",
    "import numpy as np\n",
    "\n",
    "from PIL import Image,ImageOps\n",
    "from tqdm import tqdm\n",
    "from tensorflow import keras\n",
    "from tensorflow.keras import layers\n",
    "from keras.utils.vis_utils import plot_model\n",
    "from keras.callbacks import TensorBoard\n",
    "from keras import callbacks\n",
    "from sklearn.decomposition import PCA\n",
    "from wandb.keras import WandbCallback\n",
    "\n",
    "\n",
    "#import model generators\n",
    "import stefan_cnn_v1\n",
    "import oliver_cnn_v1\n",
    "import sequential_nn\n",
    "import new_cnn_oliver"
   ]
  },
  {
   "cell_type": "code",
   "execution_count": 3,
   "id": "e2a50b95",
   "metadata": {},
   "outputs": [
    {
     "name": "stdout",
     "output_type": "stream",
     "text": [
      "Num GPUs Available:  1\n",
      "Found GPU at: /device:GPU:0\n"
     ]
    },
    {
     "data": {
      "text/plain": [
       "True"
      ]
     },
     "execution_count": 3,
     "metadata": {},
     "output_type": "execute_result"
    }
   ],
   "source": [
    "print(\"Num GPUs Available: \", len(tf.config.list_physical_devices('GPU')))\n",
    "device_name = tf.test.gpu_device_name()\n",
    "if not device_name:\n",
    "  raise SystemError('GPU device not found')\n",
    "print('Found GPU at: {}'.format(device_name))\n",
    "gpu_options= tfc.GPUOptions(per_process_gpu_memory_fraction = 0.8)\n",
    "\n",
    "try: sess.close() \n",
    "except: pass\n",
    "sess = tfc.InteractiveSession(config=tfc.ConfigProto(gpu_options=gpu_options))\n",
    "tf.executing_eagerly()"
   ]
  },
  {
   "cell_type": "markdown",
   "id": "cc2df320",
   "metadata": {},
   "source": [
    "## CONSTANTS"
   ]
  },
  {
   "cell_type": "code",
   "execution_count": 31,
   "id": "6a15a792",
   "metadata": {},
   "outputs": [],
   "source": [
    "CHANNELS = 1 #1 for grayscale, 3 for RGB\n",
    "IMG_SIZE = 64\n",
    "#INPUT_SHAPE = [IMG_SIZE,int(IMG_SIZE/2),CHANNELS]\n",
    "INPUT_SHAPE = [IMG_SIZE,IMG_SIZE,CHANNELS]\n",
    "\n",
    "BATCH_SIZE = 256\n",
    "EPOCHS = 300\n",
    "\n",
    "ROT= 20\n",
    "\n",
    "\n",
    "NAME = f\"O_CNN{int(time.time())}\"\n",
    "SOURCE = \"train_images/\"\n",
    "RES = f\"train_images_res_{INPUT_SHAPE[0]}x{INPUT_SHAPE[1]}/\""
   ]
  },
  {
   "cell_type": "markdown",
   "id": "a0300819",
   "metadata": {},
   "source": [
    "### TensorBoard + Callbacks"
   ]
  },
  {
   "cell_type": "code",
   "execution_count": 5,
   "id": "568ec959",
   "metadata": {},
   "outputs": [],
   "source": [
    "#wandb.tensorboard.patch(root_logdir=\"logs/\")"
   ]
  },
  {
   "cell_type": "code",
   "execution_count": 7,
   "id": "2e0ffd78",
   "metadata": {
    "scrolled": true
   },
   "outputs": [],
   "source": [
    "#%load_ext tensorboard\n",
    "#%tensorboard --logdir logs\n",
    "\n",
    "earlystopping = callbacks.EarlyStopping(monitor =\"val_loss\", \n",
    "                                        mode =\"min\", patience = 15, \n",
    "                                        restore_best_weights = True)"
   ]
  },
  {
   "cell_type": "markdown",
   "id": "faf8d2aa",
   "metadata": {},
   "source": [
    "## Adjust CSV"
   ]
  },
  {
   "cell_type": "code",
   "execution_count": 8,
   "id": "164e9e7a",
   "metadata": {},
   "outputs": [
    {
     "data": {
      "text/html": [
       "<div>\n",
       "<style scoped>\n",
       "    .dataframe tbody tr th:only-of-type {\n",
       "        vertical-align: middle;\n",
       "    }\n",
       "\n",
       "    .dataframe tbody tr th {\n",
       "        vertical-align: top;\n",
       "    }\n",
       "\n",
       "    .dataframe thead th {\n",
       "        text-align: right;\n",
       "    }\n",
       "</style>\n",
       "<table border=\"1\" class=\"dataframe\">\n",
       "  <thead>\n",
       "    <tr style=\"text-align: right;\">\n",
       "      <th></th>\n",
       "      <th>image</th>\n",
       "      <th>species</th>\n",
       "      <th>individual_id</th>\n",
       "    </tr>\n",
       "  </thead>\n",
       "  <tbody>\n",
       "    <tr>\n",
       "      <th>0</th>\n",
       "      <td>00021adfb725ed.jpg</td>\n",
       "      <td>melon_headed_whale</td>\n",
       "      <td>cadddb1636b9</td>\n",
       "    </tr>\n",
       "    <tr>\n",
       "      <th>1</th>\n",
       "      <td>000562241d384d.jpg</td>\n",
       "      <td>humpback_whale</td>\n",
       "      <td>1a71fbb72250</td>\n",
       "    </tr>\n",
       "    <tr>\n",
       "      <th>2</th>\n",
       "      <td>0007c33415ce37.jpg</td>\n",
       "      <td>false_killer_whale</td>\n",
       "      <td>60008f293a2b</td>\n",
       "    </tr>\n",
       "    <tr>\n",
       "      <th>3</th>\n",
       "      <td>0007d9bca26a99.jpg</td>\n",
       "      <td>bottlenose_dolphin</td>\n",
       "      <td>4b00fe572063</td>\n",
       "    </tr>\n",
       "    <tr>\n",
       "      <th>4</th>\n",
       "      <td>00087baf5cef7a.jpg</td>\n",
       "      <td>humpback_whale</td>\n",
       "      <td>8e5253662392</td>\n",
       "    </tr>\n",
       "    <tr>\n",
       "      <th>...</th>\n",
       "      <td>...</td>\n",
       "      <td>...</td>\n",
       "      <td>...</td>\n",
       "    </tr>\n",
       "    <tr>\n",
       "      <th>51028</th>\n",
       "      <td>fff639a7a78b3f.jpg</td>\n",
       "      <td>beluga</td>\n",
       "      <td>5ac053677ed1</td>\n",
       "    </tr>\n",
       "    <tr>\n",
       "      <th>51029</th>\n",
       "      <td>fff8b32daff17e.jpg</td>\n",
       "      <td>cuviers_beaked_whale</td>\n",
       "      <td>1184686361b3</td>\n",
       "    </tr>\n",
       "    <tr>\n",
       "      <th>51030</th>\n",
       "      <td>fff94675cc1aef.jpg</td>\n",
       "      <td>blue_whale</td>\n",
       "      <td>5401612696b9</td>\n",
       "    </tr>\n",
       "    <tr>\n",
       "      <th>51031</th>\n",
       "      <td>fffbc5dd642d8c.jpg</td>\n",
       "      <td>beluga</td>\n",
       "      <td>4000b3d7c24e</td>\n",
       "    </tr>\n",
       "    <tr>\n",
       "      <th>51032</th>\n",
       "      <td>fffdcd42312777.jpg</td>\n",
       "      <td>bottlenose_dolphin</td>\n",
       "      <td>4ddb2eeb5efb</td>\n",
       "    </tr>\n",
       "  </tbody>\n",
       "</table>\n",
       "<p>51033 rows × 3 columns</p>\n",
       "</div>"
      ],
      "text/plain": [
       "                    image               species individual_id\n",
       "0      00021adfb725ed.jpg    melon_headed_whale  cadddb1636b9\n",
       "1      000562241d384d.jpg        humpback_whale  1a71fbb72250\n",
       "2      0007c33415ce37.jpg    false_killer_whale  60008f293a2b\n",
       "3      0007d9bca26a99.jpg    bottlenose_dolphin  4b00fe572063\n",
       "4      00087baf5cef7a.jpg        humpback_whale  8e5253662392\n",
       "...                   ...                   ...           ...\n",
       "51028  fff639a7a78b3f.jpg                beluga  5ac053677ed1\n",
       "51029  fff8b32daff17e.jpg  cuviers_beaked_whale  1184686361b3\n",
       "51030  fff94675cc1aef.jpg            blue_whale  5401612696b9\n",
       "51031  fffbc5dd642d8c.jpg                beluga  4000b3d7c24e\n",
       "51032  fffdcd42312777.jpg    bottlenose_dolphin  4ddb2eeb5efb\n",
       "\n",
       "[51033 rows x 3 columns]"
      ]
     },
     "execution_count": 8,
     "metadata": {},
     "output_type": "execute_result"
    }
   ],
   "source": [
    "#adjust names to fit\n",
    "train_csv = \"train.csv\"\n",
    "train_df = pd.read_csv(train_csv)\n",
    "train_df.species.replace({\"globis\": \"short_finned_pilot_whale\",\n",
    "                          \"pilot_whale\": \"short_finned_pilot_whale\",\n",
    "                          \"kiler_whale\": \"killer_whale\",\n",
    "                          \"bottlenose_dolpin\": \"bottlenose_dolphin\"}, inplace=True)\n",
    "\n",
    "species_labels = list(train_df.species.unique())\n",
    "images = train_df['image']\n",
    "sid = train_df['individual_id']\n",
    "train_df"
   ]
  },
  {
   "cell_type": "code",
   "execution_count": 9,
   "id": "6ae417ca",
   "metadata": {},
   "outputs": [
    {
     "name": "stdout",
     "output_type": "stream",
     "text": [
      "amount of species: 26\n"
     ]
    },
    {
     "data": {
      "image/png": "[encoded data removed]",
      "text/plain": [
       "<Figure size 864x504 with 1 Axes>"
      ]
     },
     "metadata": {
      "needs_background": "light"
     },
     "output_type": "display_data"
    }
   ],
   "source": [
    "print(f\"amount of species: {len(train_df.species.unique())}\")\n",
    "plt.figure(figsize=(12, 7))\n",
    "train_df.groupby(by='species').size().sort_values().plot.barh().set_xscale('log')"
   ]
  },
  {
   "cell_type": "code",
   "execution_count": 10,
   "id": "b87e44c3",
   "metadata": {},
   "outputs": [
    {
     "data": {
      "text/html": [
       "<div>\n",
       "<style scoped>\n",
       "    .dataframe tbody tr th:only-of-type {\n",
       "        vertical-align: middle;\n",
       "    }\n",
       "\n",
       "    .dataframe tbody tr th {\n",
       "        vertical-align: top;\n",
       "    }\n",
       "\n",
       "    .dataframe thead th {\n",
       "        text-align: right;\n",
       "    }\n",
       "</style>\n",
       "<table border=\"1\" class=\"dataframe\">\n",
       "  <thead>\n",
       "    <tr style=\"text-align: right;\">\n",
       "      <th></th>\n",
       "      <th>species__beluga</th>\n",
       "      <th>species__blue_whale</th>\n",
       "      <th>species__bottlenose_dolphin</th>\n",
       "      <th>species__brydes_whale</th>\n",
       "      <th>species__commersons_dolphin</th>\n",
       "      <th>species__common_dolphin</th>\n",
       "      <th>species__cuviers_beaked_whale</th>\n",
       "      <th>species__dusky_dolphin</th>\n",
       "      <th>species__false_killer_whale</th>\n",
       "      <th>species__fin_whale</th>\n",
       "      <th>...</th>\n",
       "      <th>species__minke_whale</th>\n",
       "      <th>species__pantropic_spotted_dolphin</th>\n",
       "      <th>species__pygmy_killer_whale</th>\n",
       "      <th>species__rough_toothed_dolphin</th>\n",
       "      <th>species__sei_whale</th>\n",
       "      <th>species__short_finned_pilot_whale</th>\n",
       "      <th>species__southern_right_whale</th>\n",
       "      <th>species__spinner_dolphin</th>\n",
       "      <th>species__spotted_dolphin</th>\n",
       "      <th>species__white_sided_dolphin</th>\n",
       "    </tr>\n",
       "  </thead>\n",
       "  <tbody>\n",
       "    <tr>\n",
       "      <th>0</th>\n",
       "      <td>0</td>\n",
       "      <td>0</td>\n",
       "      <td>0</td>\n",
       "      <td>0</td>\n",
       "      <td>0</td>\n",
       "      <td>0</td>\n",
       "      <td>0</td>\n",
       "      <td>0</td>\n",
       "      <td>0</td>\n",
       "      <td>0</td>\n",
       "      <td>...</td>\n",
       "      <td>0</td>\n",
       "      <td>0</td>\n",
       "      <td>0</td>\n",
       "      <td>0</td>\n",
       "      <td>0</td>\n",
       "      <td>0</td>\n",
       "      <td>0</td>\n",
       "      <td>0</td>\n",
       "      <td>0</td>\n",
       "      <td>0</td>\n",
       "    </tr>\n",
       "    <tr>\n",
       "      <th>1</th>\n",
       "      <td>0</td>\n",
       "      <td>0</td>\n",
       "      <td>0</td>\n",
       "      <td>0</td>\n",
       "      <td>0</td>\n",
       "      <td>0</td>\n",
       "      <td>0</td>\n",
       "      <td>0</td>\n",
       "      <td>0</td>\n",
       "      <td>0</td>\n",
       "      <td>...</td>\n",
       "      <td>0</td>\n",
       "      <td>0</td>\n",
       "      <td>0</td>\n",
       "      <td>0</td>\n",
       "      <td>0</td>\n",
       "      <td>0</td>\n",
       "      <td>0</td>\n",
       "      <td>0</td>\n",
       "      <td>0</td>\n",
       "      <td>0</td>\n",
       "    </tr>\n",
       "    <tr>\n",
       "      <th>2</th>\n",
       "      <td>0</td>\n",
       "      <td>0</td>\n",
       "      <td>0</td>\n",
       "      <td>0</td>\n",
       "      <td>0</td>\n",
       "      <td>0</td>\n",
       "      <td>0</td>\n",
       "      <td>0</td>\n",
       "      <td>1</td>\n",
       "      <td>0</td>\n",
       "      <td>...</td>\n",
       "      <td>0</td>\n",
       "      <td>0</td>\n",
       "      <td>0</td>\n",
       "      <td>0</td>\n",
       "      <td>0</td>\n",
       "      <td>0</td>\n",
       "      <td>0</td>\n",
       "      <td>0</td>\n",
       "      <td>0</td>\n",
       "      <td>0</td>\n",
       "    </tr>\n",
       "    <tr>\n",
       "      <th>3</th>\n",
       "      <td>0</td>\n",
       "      <td>0</td>\n",
       "      <td>1</td>\n",
       "      <td>0</td>\n",
       "      <td>0</td>\n",
       "      <td>0</td>\n",
       "      <td>0</td>\n",
       "      <td>0</td>\n",
       "      <td>0</td>\n",
       "      <td>0</td>\n",
       "      <td>...</td>\n",
       "      <td>0</td>\n",
       "      <td>0</td>\n",
       "      <td>0</td>\n",
       "      <td>0</td>\n",
       "      <td>0</td>\n",
       "      <td>0</td>\n",
       "      <td>0</td>\n",
       "      <td>0</td>\n",
       "      <td>0</td>\n",
       "      <td>0</td>\n",
       "    </tr>\n",
       "    <tr>\n",
       "      <th>4</th>\n",
       "      <td>0</td>\n",
       "      <td>0</td>\n",
       "      <td>0</td>\n",
       "      <td>0</td>\n",
       "      <td>0</td>\n",
       "      <td>0</td>\n",
       "      <td>0</td>\n",
       "      <td>0</td>\n",
       "      <td>0</td>\n",
       "      <td>0</td>\n",
       "      <td>...</td>\n",
       "      <td>0</td>\n",
       "      <td>0</td>\n",
       "      <td>0</td>\n",
       "      <td>0</td>\n",
       "      <td>0</td>\n",
       "      <td>0</td>\n",
       "      <td>0</td>\n",
       "      <td>0</td>\n",
       "      <td>0</td>\n",
       "      <td>0</td>\n",
       "    </tr>\n",
       "    <tr>\n",
       "      <th>...</th>\n",
       "      <td>...</td>\n",
       "      <td>...</td>\n",
       "      <td>...</td>\n",
       "      <td>...</td>\n",
       "      <td>...</td>\n",
       "      <td>...</td>\n",
       "      <td>...</td>\n",
       "      <td>...</td>\n",
       "      <td>...</td>\n",
       "      <td>...</td>\n",
       "      <td>...</td>\n",
       "      <td>...</td>\n",
       "      <td>...</td>\n",
       "      <td>...</td>\n",
       "      <td>...</td>\n",
       "      <td>...</td>\n",
       "      <td>...</td>\n",
       "      <td>...</td>\n",
       "      <td>...</td>\n",
       "      <td>...</td>\n",
       "      <td>...</td>\n",
       "    </tr>\n",
       "    <tr>\n",
       "      <th>51028</th>\n",
       "      <td>1</td>\n",
       "      <td>0</td>\n",
       "      <td>0</td>\n",
       "      <td>0</td>\n",
       "      <td>0</td>\n",
       "      <td>0</td>\n",
       "      <td>0</td>\n",
       "      <td>0</td>\n",
       "      <td>0</td>\n",
       "      <td>0</td>\n",
       "      <td>...</td>\n",
       "      <td>0</td>\n",
       "      <td>0</td>\n",
       "      <td>0</td>\n",
       "      <td>0</td>\n",
       "      <td>0</td>\n",
       "      <td>0</td>\n",
       "      <td>0</td>\n",
       "      <td>0</td>\n",
       "      <td>0</td>\n",
       "      <td>0</td>\n",
       "    </tr>\n",
       "    <tr>\n",
       "      <th>51029</th>\n",
       "      <td>0</td>\n",
       "      <td>0</td>\n",
       "      <td>0</td>\n",
       "      <td>0</td>\n",
       "      <td>0</td>\n",
       "      <td>0</td>\n",
       "      <td>1</td>\n",
       "      <td>0</td>\n",
       "      <td>0</td>\n",
       "      <td>0</td>\n",
       "      <td>...</td>\n",
       "      <td>0</td>\n",
       "      <td>0</td>\n",
       "      <td>0</td>\n",
       "      <td>0</td>\n",
       "      <td>0</td>\n",
       "      <td>0</td>\n",
       "      <td>0</td>\n",
       "      <td>0</td>\n",
       "      <td>0</td>\n",
       "      <td>0</td>\n",
       "    </tr>\n",
       "    <tr>\n",
       "      <th>51030</th>\n",
       "      <td>0</td>\n",
       "      <td>1</td>\n",
       "      <td>0</td>\n",
       "      <td>0</td>\n",
       "      <td>0</td>\n",
       "      <td>0</td>\n",
       "      <td>0</td>\n",
       "      <td>0</td>\n",
       "      <td>0</td>\n",
       "      <td>0</td>\n",
       "      <td>...</td>\n",
       "      <td>0</td>\n",
       "      <td>0</td>\n",
       "      <td>0</td>\n",
       "      <td>0</td>\n",
       "      <td>0</td>\n",
       "      <td>0</td>\n",
       "      <td>0</td>\n",
       "      <td>0</td>\n",
       "      <td>0</td>\n",
       "      <td>0</td>\n",
       "    </tr>\n",
       "    <tr>\n",
       "      <th>51031</th>\n",
       "      <td>1</td>\n",
       "      <td>0</td>\n",
       "      <td>0</td>\n",
       "      <td>0</td>\n",
       "      <td>0</td>\n",
       "      <td>0</td>\n",
       "      <td>0</td>\n",
       "      <td>0</td>\n",
       "      <td>0</td>\n",
       "      <td>0</td>\n",
       "      <td>...</td>\n",
       "      <td>0</td>\n",
       "      <td>0</td>\n",
       "      <td>0</td>\n",
       "      <td>0</td>\n",
       "      <td>0</td>\n",
       "      <td>0</td>\n",
       "      <td>0</td>\n",
       "      <td>0</td>\n",
       "      <td>0</td>\n",
       "      <td>0</td>\n",
       "    </tr>\n",
       "    <tr>\n",
       "      <th>51032</th>\n",
       "      <td>0</td>\n",
       "      <td>0</td>\n",
       "      <td>1</td>\n",
       "      <td>0</td>\n",
       "      <td>0</td>\n",
       "      <td>0</td>\n",
       "      <td>0</td>\n",
       "      <td>0</td>\n",
       "      <td>0</td>\n",
       "      <td>0</td>\n",
       "      <td>...</td>\n",
       "      <td>0</td>\n",
       "      <td>0</td>\n",
       "      <td>0</td>\n",
       "      <td>0</td>\n",
       "      <td>0</td>\n",
       "      <td>0</td>\n",
       "      <td>0</td>\n",
       "      <td>0</td>\n",
       "      <td>0</td>\n",
       "      <td>0</td>\n",
       "    </tr>\n",
       "  </tbody>\n",
       "</table>\n",
       "<p>51033 rows × 26 columns</p>\n",
       "</div>"
      ],
      "text/plain": [
       "       species__beluga  species__blue_whale  species__bottlenose_dolphin  \\\n",
       "0                    0                    0                            0   \n",
       "1                    0                    0                            0   \n",
       "2                    0                    0                            0   \n",
       "3                    0                    0                            1   \n",
       "4                    0                    0                            0   \n",
       "...                ...                  ...                          ...   \n",
       "51028                1                    0                            0   \n",
       "51029                0                    0                            0   \n",
       "51030                0                    1                            0   \n",
       "51031                1                    0                            0   \n",
       "51032                0                    0                            1   \n",
       "\n",
       "       species__brydes_whale  species__commersons_dolphin  \\\n",
       "0                          0                            0   \n",
       "1                          0                            0   \n",
       "2                          0                            0   \n",
       "3                          0                            0   \n",
       "4                          0                            0   \n",
       "...                      ...                          ...   \n",
       "51028                      0                            0   \n",
       "51029                      0                            0   \n",
       "51030                      0                            0   \n",
       "51031                      0                            0   \n",
       "51032                      0                            0   \n",
       "\n",
       "       species__common_dolphin  species__cuviers_beaked_whale  \\\n",
       "0                            0                              0   \n",
       "1                            0                              0   \n",
       "2                            0                              0   \n",
       "3                            0                              0   \n",
       "4                            0                              0   \n",
       "...                        ...                            ...   \n",
       "51028                        0                              0   \n",
       "51029                        0                              1   \n",
       "51030                        0                              0   \n",
       "51031                        0                              0   \n",
       "51032                        0                              0   \n",
       "\n",
       "       species__dusky_dolphin  species__false_killer_whale  \\\n",
       "0                           0                            0   \n",
       "1                           0                            0   \n",
       "2                           0                            1   \n",
       "3                           0                            0   \n",
       "4                           0                            0   \n",
       "...                       ...                          ...   \n",
       "51028                       0                            0   \n",
       "51029                       0                            0   \n",
       "51030                       0                            0   \n",
       "51031                       0                            0   \n",
       "51032                       0                            0   \n",
       "\n",
       "       species__fin_whale  ...  species__minke_whale  \\\n",
       "0                       0  ...                     0   \n",
       "1                       0  ...                     0   \n",
       "2                       0  ...                     0   \n",
       "3                       0  ...                     0   \n",
       "4                       0  ...                     0   \n",
       "...                   ...  ...                   ...   \n",
       "51028                   0  ...                     0   \n",
       "51029                   0  ...                     0   \n",
       "51030                   0  ...                     0   \n",
       "51031                   0  ...                     0   \n",
       "51032                   0  ...                     0   \n",
       "\n",
       "       species__pantropic_spotted_dolphin  species__pygmy_killer_whale  \\\n",
       "0                                       0                            0   \n",
       "1                                       0                            0   \n",
       "2                                       0                            0   \n",
       "3                                       0                            0   \n",
       "4                                       0                            0   \n",
       "...                                   ...                          ...   \n",
       "51028                                   0                            0   \n",
       "51029                                   0                            0   \n",
       "51030                                   0                            0   \n",
       "51031                                   0                            0   \n",
       "51032                                   0                            0   \n",
       "\n",
       "       species__rough_toothed_dolphin  species__sei_whale  \\\n",
       "0                                   0                   0   \n",
       "1                                   0                   0   \n",
       "2                                   0                   0   \n",
       "3                                   0                   0   \n",
       "4                                   0                   0   \n",
       "...                               ...                 ...   \n",
       "51028                               0                   0   \n",
       "51029                               0                   0   \n",
       "51030                               0                   0   \n",
       "51031                               0                   0   \n",
       "51032                               0                   0   \n",
       "\n",
       "       species__short_finned_pilot_whale  species__southern_right_whale  \\\n",
       "0                                      0                              0   \n",
       "1                                      0                              0   \n",
       "2                                      0                              0   \n",
       "3                                      0                              0   \n",
       "4                                      0                              0   \n",
       "...                                  ...                            ...   \n",
       "51028                                  0                              0   \n",
       "51029                                  0                              0   \n",
       "51030                                  0                              0   \n",
       "51031                                  0                              0   \n",
       "51032                                  0                              0   \n",
       "\n",
       "       species__spinner_dolphin  species__spotted_dolphin  \\\n",
       "0                             0                         0   \n",
       "1                             0                         0   \n",
       "2                             0                         0   \n",
       "3                             0                         0   \n",
       "4                             0                         0   \n",
       "...                         ...                       ...   \n",
       "51028                         0                         0   \n",
       "51029                         0                         0   \n",
       "51030                         0                         0   \n",
       "51031                         0                         0   \n",
       "51032                         0                         0   \n",
       "\n",
       "       species__white_sided_dolphin  \n",
       "0                                 0  \n",
       "1                                 0  \n",
       "2                                 0  \n",
       "3                                 0  \n",
       "4                                 0  \n",
       "...                             ...  \n",
       "51028                             0  \n",
       "51029                             0  \n",
       "51030                             0  \n",
       "51031                             0  \n",
       "51032                             0  \n",
       "\n",
       "[51033 rows x 26 columns]"
      ]
     },
     "execution_count": 10,
     "metadata": {},
     "output_type": "execute_result"
    }
   ],
   "source": [
    "def get_id(sp):\n",
    "    return species_labels.index(sp)\n",
    "##encode species\n",
    "#train_df[\"species\"] = train_df.apply(lambda row :get_id(row[\"species\"]),axis = 1)\n",
    "#labels = train_df[\"species\"]\n",
    "\n",
    "##one-hot encode species\n",
    "labels = pd.get_dummies(train_df.species, prefix='species_')\n",
    "labels"
   ]
  },
  {
   "cell_type": "code",
   "execution_count": 11,
   "id": "76d8597b",
   "metadata": {},
   "outputs": [],
   "source": [
    "AMT_CLASSES = labels.shape[1]"
   ]
  },
  {
   "cell_type": "markdown",
   "id": "339e1db3",
   "metadata": {},
   "source": [
    "## Resize Images\n",
    "This helps the model fitting --> picture preprocessing gets less intensive"
   ]
  },
  {
   "cell_type": "code",
   "execution_count": 12,
   "id": "2d01a94f",
   "metadata": {},
   "outputs": [],
   "source": [
    "if not os.path.exists(RES):\n",
    "    os.mkdir(RES)\n",
    "    for image in tqdm(images):\n",
    "        savePath = RES + image  \n",
    "        if not os.path.exists(savePath):\n",
    "            imgPath = SOURCE + image\n",
    "            im = Image.open(imgPath)\n",
    "            im.thumbnail((IMG_SIZE,IMG_SIZE), Image.ANTIALIAS)\n",
    "            im = ImageOps.pad(im, (IMG_SIZE,IMG_SIZE), color='black')\n",
    "\n",
    "            #resizedImage = im.resize((IMG_SIZE, IMG_SIZE), PIL.Image.ANTIALIAS)\n",
    "            #resizedImage.save(savePath) \n",
    "            im.save(savePath)"
   ]
  },
  {
   "cell_type": "code",
   "execution_count": 13,
   "id": "61df9415",
   "metadata": {},
   "outputs": [],
   "source": [
    "full_img = list(map(RES.__add__, images))"
   ]
  },
  {
   "cell_type": "markdown",
   "id": "e3029c4a",
   "metadata": {},
   "source": [
    "## PCA"
   ]
  },
  {
   "cell_type": "code",
   "execution_count": null,
   "id": "a3ae09b5",
   "metadata": {},
   "outputs": [],
   "source": [
    "img_array = []\n",
    "for img in tqdm(full_img):\n",
    "    im = np.array(Image.open(img).convert('L'))/255\n",
    "    img_array.append(pd.Series(im.flatten(),name=img))\n",
    "#img_array"
   ]
  },
  {
   "cell_type": "code",
   "execution_count": 15,
   "id": "26ba1af0",
   "metadata": {},
   "outputs": [],
   "source": [
    "pca = PCA(n_components=0.8)\n",
    "pca_analyzed = pca.fit(img_array)"
   ]
  },
  {
   "cell_type": "code",
   "execution_count": 16,
   "id": "3bebfd6e",
   "metadata": {},
   "outputs": [
    {
     "ename": "IndexError",
     "evalue": "index 23 is out of bounds for axis 0 with size 23",
     "output_type": "error",
     "traceback": [
      "\u001b[1;31m---------------------------------------------------------------------------\u001b[0m",
      "\u001b[1;31mIndexError\u001b[0m                                Traceback (most recent call last)",
      "Input \u001b[1;32mIn [16]\u001b[0m, in \u001b[0;36m<module>\u001b[1;34m\u001b[0m\n\u001b[0;32m      1\u001b[0m fig, axes \u001b[38;5;241m=\u001b[39m plt\u001b[38;5;241m.\u001b[39msubplots(\u001b[38;5;241m5\u001b[39m,\u001b[38;5;241m5\u001b[39m,figsize\u001b[38;5;241m=\u001b[39m(\u001b[38;5;241m8\u001b[39m,\u001b[38;5;241m8\u001b[39m),\n\u001b[0;32m      2\u001b[0m  subplot_kw\u001b[38;5;241m=\u001b[39m{\u001b[38;5;124m'\u001b[39m\u001b[38;5;124mxticks\u001b[39m\u001b[38;5;124m'\u001b[39m:[], \u001b[38;5;124m'\u001b[39m\u001b[38;5;124myticks\u001b[39m\u001b[38;5;124m'\u001b[39m:[]},\n\u001b[0;32m      3\u001b[0m  gridspec_kw\u001b[38;5;241m=\u001b[39m\u001b[38;5;28mdict\u001b[39m(hspace\u001b[38;5;241m=\u001b[39m\u001b[38;5;241m0.01\u001b[39m, wspace\u001b[38;5;241m=\u001b[39m\u001b[38;5;241m0.01\u001b[39m))\n\u001b[0;32m      4\u001b[0m \u001b[38;5;28;01mfor\u001b[39;00m i, ax \u001b[38;5;129;01min\u001b[39;00m \u001b[38;5;28menumerate\u001b[39m(axes\u001b[38;5;241m.\u001b[39mflat):\n\u001b[1;32m----> 5\u001b[0m     ax\u001b[38;5;241m.\u001b[39mimshow(\u001b[43mpca_analyzed\u001b[49m\u001b[38;5;241;43m.\u001b[39;49m\u001b[43mcomponents_\u001b[49m\u001b[43m[\u001b[49m\u001b[43mi\u001b[49m\u001b[43m]\u001b[49m\u001b[38;5;241m.\u001b[39mreshape(INPUT_SHAPE),cmap\u001b[38;5;241m=\u001b[39m\u001b[38;5;124m\"\u001b[39m\u001b[38;5;124mgray\u001b[39m\u001b[38;5;124m\"\u001b[39m)\n",
      "\u001b[1;31mIndexError\u001b[0m: index 23 is out of bounds for axis 0 with size 23"
     ]
    },
    {
     "data": {
      "image/png": "[encoded data removed]",
      "text/plain": [
       "<Figure size 576x576 with 25 Axes>"
      ]
     },
     "metadata": {},
     "output_type": "display_data"
    }
   ],
   "source": [
    "fig, axes = plt.subplots(5,5,figsize=(8,8),\n",
    " subplot_kw={'xticks':[], 'yticks':[]},\n",
    " gridspec_kw=dict(hspace=0.01, wspace=0.01))\n",
    "for i, ax in enumerate(axes.flat):\n",
    "    ax.imshow(pca_analyzed.components_[i].reshape(INPUT_SHAPE),cmap=\"gray\")"
   ]
  },
  {
   "cell_type": "code",
   "execution_count": 29,
   "id": "97960ea3",
   "metadata": {},
   "outputs": [],
   "source": [
    "PCA_COMPONENTS = pca_analyzed.components_.shape[0]"
   ]
  },
  {
   "cell_type": "markdown",
   "id": "34579eda",
   "metadata": {},
   "source": [
    "## Input Pipeline"
   ]
  },
  {
   "cell_type": "code",
   "execution_count": 82,
   "id": "32bfdbff",
   "metadata": {},
   "outputs": [],
   "source": [
    "@tf.function\n",
    "def process_tuple(image,label):\n",
    "    img = tf.io.read_file(image)\n",
    "    img = tf.image.decode_jpeg(img, channels=CHANNELS)\n",
    "    \n",
    "\n",
    "    \n",
    "    img = tf.image.random_flip_left_right(img)\n",
    "    \n",
    "    lower,upper,size,max_delta = 0.1,0.3,0,0\n",
    "    img = tf.image.random_contrast(img, lower, upper, seed=None)\n",
    "    #img = tf.image.random_crop(img, size, seed=None, name=None)\n",
    "    img = tf.image.random_brightness(img, max_delta, seed=None)\n",
    "    \n",
    "    #img = tf.keras.preprocessing.image.random_rotation(\n",
    "        #img, ROT, row_axis=0, col_axis=1, channel_axis=2)\n",
    "    \n",
    "    img = tf.image.convert_image_dtype(img, tf.float16) / 255\n",
    "    return img, label\n",
    "\n",
    "def pca_transform(image,label):\n",
    "    toast = image.numpy()[:, :, 0].flatten()[:,np.newaxis]\n",
    "    toast = np.reshape(toast, (1,-1)) \n",
    "    pca_data = pca.transform(toast).flatten()\n",
    "    return pca_data, label\n",
    "\n",
    "@tf.function\n",
    "def _adjust_shapes(pca_data, label):\n",
    "    pca_data = tf.convert_to_tensor(pca_data,dtype = tf.float16)\n",
    "    label = tf.convert_to_tensor(label, dtype = tf.uint8)\n",
    "    \n",
    "    pca_data.set_shape(tf.TensorShape([PCA_COMPONENTS]))\n",
    "    label.set_shape(tf.TensorShape([AMT_CLASSES]))\n",
    "    return pca_data, label"
   ]
  },
  {
   "cell_type": "code",
   "execution_count": 83,
   "id": "6af2b7da",
   "metadata": {},
   "outputs": [],
   "source": [
    "dataset = tf.data.Dataset.from_tensor_slices((full_img, labels)).shuffle(1000).map(process_tuple,num_parallel_calls=tf.data.AUTOTUNE, deterministic=False).map(\n",
    "    lambda x,y: tf.py_function(\n",
    "        func=pca_transform,\n",
    "        inp=[x,y],\n",
    "        Tout=[tf.float16,tf.uint8])).map(_adjust_shapes,num_parallel_calls=tf.data.AUTOTUNE, deterministic=False)"
   ]
  },
  {
   "cell_type": "code",
   "execution_count": 84,
   "id": "a9c52304",
   "metadata": {},
   "outputs": [],
   "source": [
    "TRAIN_SPLIT = 0.7\n",
    "VAL_TEST_SPLIT = (1-TRAIN_SPLIT)/2\n",
    "\n",
    "image_count = dataset.cardinality().numpy()\n",
    "train_size = int(image_count*TRAIN_SPLIT)\n",
    "val_test_size = int(image_count*VAL_TEST_SPLIT)\n",
    "\n",
    "train_ds = dataset.take(train_size)\n",
    "val_ds = dataset.skip(train_size).take(val_test_size)\n",
    "test_ds = dataset.skip(train_size).skip(val_test_size)\n",
    "\n",
    "\n",
    "train_batched = train_ds.batch(batch_size=BATCH_SIZE).cache().prefetch(tf.data.AUTOTUNE)\n",
    "val_batched = val_ds.batch(batch_size=int(BATCH_SIZE*0.15)).cache().prefetch(tf.data.AUTOTUNE)\n",
    "test_batched = test_ds.batch(batch_size=BATCH_SIZE).cache().prefetch(tf.data.AUTOTUNE)"
   ]
  },
  {
   "cell_type": "markdown",
   "id": "8fecd46f",
   "metadata": {},
   "source": [
    "### Benchmark Dataset"
   ]
  },
  {
   "cell_type": "code",
   "execution_count": 85,
   "id": "0bd71d23",
   "metadata": {},
   "outputs": [],
   "source": [
    "def benchmark(dataset, num_epochs=2):\n",
    "    start_time = time.perf_counter()\n",
    "    for epoch_num in range(num_epochs):\n",
    "        for sample in tqdm(dataset):\n",
    "            # Performing a training step\n",
    "            time.sleep(0.01)\n",
    "    print(\"Execution time:\", time.perf_counter() - start_time)"
   ]
  },
  {
   "cell_type": "code",
   "execution_count": 86,
   "id": "d3c1d31d",
   "metadata": {
    "scrolled": true
   },
   "outputs": [
    {
     "name": "stdout",
     "output_type": "stream",
     "text": [
      "(<tf.Tensor: shape=(23,), dtype=float16, numpy=\n",
      "array([-3.002e+01, -3.963e+00,  4.516e+00,  1.424e+00,  4.843e-02,\n",
      "       -4.014e-01, -1.792e-01, -8.994e-01,  8.905e-02,  6.573e-02,\n",
      "       -8.105e-02, -1.296e-01,  2.976e-01,  1.181e-01, -1.794e-02,\n",
      "       -1.942e-01,  2.426e-02, -2.905e-01,  1.871e-02,  3.082e-02,\n",
      "       -6.732e-02, -3.058e-02,  5.331e-02], dtype=float16)>, <tf.Tensor: shape=(26,), dtype=uint8, numpy=\n",
      "array([0, 0, 0, 0, 0, 0, 0, 0, 0, 0, 0, 0, 0, 0, 0, 0, 1, 0, 0, 0, 0, 0,\n",
      "       0, 0, 0, 0], dtype=uint8)>)\n"
     ]
    },
    {
     "name": "stderr",
     "output_type": "stream",
     "text": [
      "100%|████████████████████████████████████████████████████████████████████████████████████| 1/1 [00:00<00:00, 10.63it/s]\n",
      "100%|████████████████████████████████████████████████████████████████████████████████████| 1/1 [00:00<00:00, 12.65it/s]"
     ]
    },
    {
     "name": "stdout",
     "output_type": "stream",
     "text": [
      "Execution time: 0.17725609999979497\n"
     ]
    },
    {
     "name": "stderr",
     "output_type": "stream",
     "text": [
      "\n"
     ]
    }
   ],
   "source": [
    "benchmark_ds = dataset.take(1)\n",
    "for d in benchmark_ds:\n",
    "    print(d)\n",
    "benchmark(benchmark_ds)"
   ]
  },
  {
   "cell_type": "markdown",
   "id": "8df53386",
   "metadata": {},
   "source": [
    "## Modelling"
   ]
  },
  {
   "cell_type": "markdown",
   "id": "7aaba605",
   "metadata": {},
   "source": [
    "#### WandB"
   ]
  },
  {
   "cell_type": "code",
   "execution_count": 58,
   "id": "6f36e5bf",
   "metadata": {},
   "outputs": [
    {
     "data": {
      "text/html": [
       "Finishing last run (ID:2p8ggzg7) before initializing another..."
      ],
      "text/plain": [
       "<IPython.core.display.HTML object>"
      ]
     },
     "metadata": {},
     "output_type": "display_data"
    },
    {
     "data": {
      "text/html": [
       "<br/>Waiting for W&B process to finish, PID 12428... <strong style=\"color:green\">(success).</strong>"
      ],
      "text/plain": [
       "<IPython.core.display.HTML object>"
      ]
     },
     "metadata": {},
     "output_type": "display_data"
    },
    {
     "data": {
      "application/vnd.jupyter.widget-view+json": {
       "model_id": "",
       "version_major": 2,
       "version_minor": 0
      },
      "text/plain": [
       "VBox(children=(Label(value=' 0.01MB of 0.01MB uploaded (0.00MB deduped)\\r'), FloatProgress(value=1.0, max=1.0)…"
      ]
     },
     "metadata": {},
     "output_type": "display_data"
    },
    {
     "data": {
      "text/html": [
       "<style>\n",
       "    table.wandb td:nth-child(1) { padding: 0 10px; text-align: right }\n",
       "    .wandb-row { display: flex; flex-direction: row; flex-wrap: wrap; width: 100% }\n",
       "    .wandb-col { display: flex; flex-direction: column; flex-basis: 100%; flex: 1; padding: 10px; }\n",
       "    </style>\n",
       "<div class=\"wandb-row\"><div class=\"wandb-col\">\n",
       "</div><div class=\"wandb-col\">\n",
       "</div></div>\n",
       "Synced 5 W&B file(s), 0 media file(s), 0 artifact file(s) and 3 other file(s)\n",
       "<br/>Synced <strong style=\"color:#cdcd00\">decent-sea-47</strong>: <a href=\"https://wandb.ai/dolphin_project/my-test-project/runs/2p8ggzg7\" target=\"_blank\">https://wandb.ai/dolphin_project/my-test-project/runs/2p8ggzg7</a><br/>\n",
       "Find logs at: <code>.\\wandb\\run-20220308_142524-2p8ggzg7\\logs</code><br/>\n"
      ],
      "text/plain": [
       "<IPython.core.display.HTML object>"
      ]
     },
     "metadata": {},
     "output_type": "display_data"
    },
    {
     "data": {
      "text/html": [
       "Successfully finished last run (ID:2p8ggzg7). Initializing new run:<br/>"
      ],
      "text/plain": [
       "<IPython.core.display.HTML object>"
      ]
     },
     "metadata": {},
     "output_type": "display_data"
    },
    {
     "name": "stderr",
     "output_type": "stream",
     "text": [
      "\u001b[34m\u001b[1mwandb\u001b[0m: wandb version 0.12.11 is available!  To upgrade, please run:\n",
      "\u001b[34m\u001b[1mwandb\u001b[0m:  $ pip install wandb --upgrade\n"
     ]
    },
    {
     "data": {
      "text/html": [
       "\n",
       "                    Syncing run <strong><a href=\"https://wandb.ai/dolphin_project/my-test-project/runs/35xmwj2m\" target=\"_blank\">electric-resonance-48</a></strong> to <a href=\"https://wandb.ai/dolphin_project/my-test-project\" target=\"_blank\">Weights & Biases</a> (<a href=\"https://docs.wandb.com/integrations/jupyter.html\" target=\"_blank\">docs</a>).<br/>\n",
       "\n",
       "                "
      ],
      "text/plain": [
       "<IPython.core.display.HTML object>"
      ]
     },
     "metadata": {},
     "output_type": "display_data"
    }
   ],
   "source": [
    "run = wandb.init(project=\"my-test-project\",\n",
    "           entity=\"dolphin_project\",\n",
    "           sync_tensorboard = True,\n",
    "           config={\n",
    "               \"learning_rate\": 0.005,\n",
    "               \"batch_size\": BATCH_SIZE,\n",
    "               \"epochs\": EPOCHS,\n",
    "               \"input_shape\": INPUT_SHAPE,\n",
    "               \"loss_function\": \"categorical_crossentropy\",\n",
    "               \"architecture\": \"CNN\",\n",
    "               \"dataset\": \"dolphin\",\n",
    "               #\"activation\": ACTIVATION_STR,\n",
    "               #\"conv_units\": [FIRST_CONV_UNITS, SECOND_CONV_UNITS] + CONV_UNITS_BODY,\n",
    "           })\n",
    "config = wandb.config"
   ]
  },
  {
   "cell_type": "markdown",
   "id": "5acd0432",
   "metadata": {},
   "source": [
    "#### Model Keras"
   ]
  },
  {
   "cell_type": "code",
   "execution_count": 87,
   "id": "a9b7bcf8",
   "metadata": {
    "scrolled": true
   },
   "outputs": [
    {
     "name": "stdout",
     "output_type": "stream",
     "text": [
      "Model: \"model_2\"\n",
      "_________________________________________________________________\n",
      " Layer (type)                Output Shape              Param #   \n",
      "=================================================================\n",
      " input_3 (InputLayer)        [(None, 23)]              0         \n",
      "                                                                 \n",
      " sequential_2 (Sequential)   multiple                  0         \n",
      "                                                                 \n",
      " flatten_1 (Flatten)         (None, 23)                0         \n",
      "                                                                 \n",
      " dense_4 (Dense)             (None, 512)               12288     \n",
      "                                                                 \n",
      " dense_5 (Dense)             (None, 256)               131328    \n",
      "                                                                 \n",
      " dense_6 (Dense)             (None, 128)               32896     \n",
      "                                                                 \n",
      " dense_7 (Dense)             (None, 64)                8256      \n",
      "                                                                 \n",
      " dense_8 (Dense)             (None, 26)                1690      \n",
      "                                                                 \n",
      "=================================================================\n",
      "Total params: 186,458\n",
      "Trainable params: 186,458\n",
      "Non-trainable params: 0\n",
      "_________________________________________________________________\n"
     ]
    }
   ],
   "source": [
    "tf.keras.backend.clear_session()\n",
    "\n",
    "ocnn = oliver_cnn_v1.create_model(INPUT_SHAPE, AMT_CLASSES)\n",
    "scnn = stefan_cnn_v1.create_model(INPUT_SHAPE, AMT_CLASSES)\n",
    "seqnn = sequential_nn.create_model(PCA_COMPONENTS, AMT_CLASSES)\n",
    "nocnn = new_cnn_oliver.create_model(INPUT_SHAPE, AMT_CLASSES)\n",
    "    \n",
    "current_model = seqnn\n",
    "    \n",
    "current_model.summary()\n",
    "current_model.compile(loss=config.loss_function,#tfa.losses.SigmoidFocalCrossEntropy()\n",
    "             optimizer=keras.optimizers.Adam(config.learning_rate),\n",
    "             metrics=['acc']) "
   ]
  },
  {
   "cell_type": "code",
   "execution_count": null,
   "id": "55d3a9fa",
   "metadata": {},
   "outputs": [
    {
     "name": "stderr",
     "output_type": "stream",
     "text": [
      "\u001b[34m\u001b[1mwandb\u001b[0m: \u001b[33mWARNING\u001b[0m When using several event log directories, please call wandb.tensorboard.patch(root_logdir=\"...\") before wandb.init\n"
     ]
    },
    {
     "name": "stdout",
     "output_type": "stream",
     "text": [
      "Epoch 1/300\n",
      " 96/140 [===================>..........] - ETA: 19s - loss: 2.6009 - acc: 0.2033"
     ]
    }
   ],
   "source": [
    "history = current_model.fit(train_batched,\n",
    "                   epochs = EPOCHS,\n",
    "                   validation_data = val_batched,\n",
    "                   callbacks=[WandbCallback(input_type=\"image\",  labels=list(labels.columns)),\n",
    "                              TensorBoard(log_dir=wandb.run.dir),\n",
    "                              #WandbClassificationCallback(log_confusion_matrix=True, validation_data=val_batched, labels=list(range(AMT_CLASSES))),\n",
    "                              earlystopping                           \n",
    "                             ]\n",
    "                )\n",
    "wandb.watch(history)"
   ]
  },
  {
   "cell_type": "code",
   "execution_count": null,
   "id": "27e9fbb7",
   "metadata": {},
   "outputs": [],
   "source": [
    "cval = current_model.evaluate(test_batched, verbose = 0)\n",
    "\n",
    "\n",
    "wandb.log({\"test loss\" : cval[0]})\n",
    "wandb.log({\"test acc\" : cval[1]})\n",
    "wandb.log({\"test error rate\" : round((1-cval[1])*100,2)})\n",
    "run.finish()"
   ]
  },
  {
   "cell_type": "code",
   "execution_count": 25,
   "id": "f01382c4",
   "metadata": {},
   "outputs": [
    {
     "name": "stdout",
     "output_type": "stream",
     "text": [
      "test loss, test acc: [1.452424168586731, 0.5572100281715393]\n"
     ]
    }
   ],
   "source": [
    "print(\"test loss, test acc:\", cval)"
   ]
  },
  {
   "cell_type": "code",
   "execution_count": null,
   "id": "9798fb39",
   "metadata": {},
   "outputs": [],
   "source": [
    "with open(f'seqnn.pkl', 'wb') as file:\n",
    "    pickle.dump(current_model,file)"
   ]
  },
  {
   "cell_type": "code",
   "execution_count": null,
   "id": "bfe0f859",
   "metadata": {},
   "outputs": [],
   "source": [
    "\"\"\"\n",
    "\n",
    "#visualize model performance\n",
    "accuracy = history.history['categorical_accuracy']\n",
    "val_accuracy = history.history['val_categorical_accuracy']\n",
    "\n",
    "loss = history.history['loss']\n",
    "val_loss = history.history['val_loss']\n",
    "fig, (ax1, ax2) = plt.subplots(1, 2)\n",
    "\n",
    "plt.figure(figsize=(15, 8))\n",
    "ax1.plot(range(87), accuracy, \"r\", label=\"Training Accuracy\")\n",
    "ax1.plot(range(87), val_accuracy, \"orange\", label=\"Validation Accuracy\")\n",
    "ax1.set_ylim(0, 1)\n",
    "ax1.grid(True)\n",
    "ax1.legend(loc=\"lower left\")\n",
    "\n",
    "ax2.plot(range(87), loss, \"b\", label=\"Training Loss\")\n",
    "ax2.plot(range(87), val_loss, \"g\", label=\"Validation Loss\")\n",
    "ax2.grid(True)\n",
    "ax2.legend(loc=\"lower left\")\n",
    "#plt.gca().set_ylim(0, 2)\n",
    "\"\"\""
   ]
  }
 ],
 "metadata": {
  "kernelspec": {
   "display_name": "Python 3 (ipykernel)",
   "language": "python",
   "name": "python3"
  },
  "language_info": {
   "codemirror_mode": {
    "name": "ipython",
    "version": 3
   },
   "file_extension": ".py",
   "mimetype": "text/x-python",
   "name": "python",
   "nbconvert_exporter": "python",
   "pygments_lexer": "ipython3",
   "version": "3.10.2"
  }
 },
 "nbformat": 4,
 "nbformat_minor": 5
}
