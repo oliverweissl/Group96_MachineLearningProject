{
 "cells": [
  {
   "cell_type": "code",
   "execution_count": 1,
   "id": "e771bafc",
   "metadata": {},
   "outputs": [],
   "source": [
    "import datetime\n",
    "import os\n",
    "import time\n",
    "import pickle\n",
    "import wandb\n",
    "import math\n",
    "import cv2\n",
    "\n",
    "import pandas as pd\n",
    "import matplotlib.pyplot as plt\n",
    "import tensorflow as tf\n",
    "import tensorflow_addons as tfa\n",
    "import tensorflow.compat.v1 as tfc\n",
    "import numpy as np\n",
    "\n",
    "from PIL import Image,ImageOps\n",
    "from tqdm import tqdm\n",
    "from tensorflow import keras\n",
    "from tensorflow.keras import layers\n",
    "from keras.utils.vis_utils import plot_model\n",
    "from keras.callbacks import TensorBoard\n",
    "from keras import callbacks\n",
    "from sklearn.decomposition import PCA\n",
    "from wandb.keras import WandbCallback\n",
    "from statistics import mean\n",
    "\n",
    "#import model generators\n",
    "import stefan_cnn_v1\n",
    "import oliver_cnn_v1\n",
    "import sequential_nn\n",
    "import new_cnn_oliver"
   ]
  },
  {
   "cell_type": "code",
   "execution_count": 2,
   "id": "e2a50b95",
   "metadata": {},
   "outputs": [
    {
     "name": "stdout",
     "output_type": "stream",
     "text": [
      "Num GPUs Available:  1\n",
      "Found GPU at: /device:GPU:0\n"
     ]
    },
    {
     "data": {
      "text/plain": [
       "True"
      ]
     },
     "execution_count": 2,
     "metadata": {},
     "output_type": "execute_result"
    }
   ],
   "source": [
    "print(\"Num GPUs Available: \", len(tf.config.list_physical_devices('GPU')))\n",
    "device_name = tf.test.gpu_device_name()\n",
    "if not device_name:\n",
    "  raise SystemError('GPU device not found')\n",
    "print('Found GPU at: {}'.format(device_name))\n",
    "gpu_options= tfc.GPUOptions(per_process_gpu_memory_fraction = 0.8)\n",
    "\n",
    "try: sess.close() \n",
    "except: pass\n",
    "sess = tfc.InteractiveSession(config=tfc.ConfigProto(gpu_options=gpu_options))\n",
    "tf.executing_eagerly()"
   ]
  },
  {
   "cell_type": "markdown",
   "id": "cc2df320",
   "metadata": {},
   "source": [
    "## CONSTANTS"
   ]
  },
  {
   "cell_type": "code",
   "execution_count": 3,
   "id": "6a15a792",
   "metadata": {},
   "outputs": [],
   "source": [
    "CHANNELS = 1 #1 for grayscale, 3 for RGB\n",
    "IMG_SIZE = 64\n",
    "#INPUT_SHAPE = [IMG_SIZE,int(IMG_SIZE/2),CHANNELS]\n",
    "INPUT_SHAPE = [IMG_SIZE,IMG_SIZE,CHANNELS]\n",
    "\n",
    "BATCH_SIZE = 256\n",
    "EPOCHS = 300\n",
    "\n",
    "ROT= 20\n",
    "\n",
    "\n",
    "NAME = f\"O_CNN{int(time.time())}\"\n",
    "SOURCE = \"train_images/\"\n",
    "RES = f\"train_images_res_{INPUT_SHAPE[0]}x{INPUT_SHAPE[1]}/\""
   ]
  },
  {
   "cell_type": "markdown",
   "id": "a0300819",
   "metadata": {},
   "source": [
    "### TensorBoard + Callbacks"
   ]
  },
  {
   "cell_type": "code",
   "execution_count": 4,
   "id": "568ec959",
   "metadata": {},
   "outputs": [],
   "source": [
    "#wandb.tensorboard.patch(root_logdir=\"logs/\")"
   ]
  },
  {
   "cell_type": "code",
   "execution_count": 5,
   "id": "2e0ffd78",
   "metadata": {
    "scrolled": true
   },
   "outputs": [],
   "source": [
    "#%load_ext tensorboard\n",
    "#%tensorboard --logdir logs\n",
    "\n",
    "earlystopping = callbacks.EarlyStopping(monitor =\"val_loss\", \n",
    "                                        mode =\"min\", patience = 15, \n",
    "                                        restore_best_weights = True)"
   ]
  },
  {
   "cell_type": "markdown",
   "id": "faf8d2aa",
   "metadata": {},
   "source": [
    "## Adjust CSV"
   ]
  },
  {
   "cell_type": "code",
   "execution_count": 6,
   "id": "164e9e7a",
   "metadata": {},
   "outputs": [
    {
     "data": {
      "text/html": [
       "<div>\n",
       "<style scoped>\n",
       "    .dataframe tbody tr th:only-of-type {\n",
       "        vertical-align: middle;\n",
       "    }\n",
       "\n",
       "    .dataframe tbody tr th {\n",
       "        vertical-align: top;\n",
       "    }\n",
       "\n",
       "    .dataframe thead th {\n",
       "        text-align: right;\n",
       "    }\n",
       "</style>\n",
       "<table border=\"1\" class=\"dataframe\">\n",
       "  <thead>\n",
       "    <tr style=\"text-align: right;\">\n",
       "      <th></th>\n",
       "      <th>image</th>\n",
       "      <th>species</th>\n",
       "      <th>individual_id</th>\n",
       "    </tr>\n",
       "  </thead>\n",
       "  <tbody>\n",
       "    <tr>\n",
       "      <th>0</th>\n",
       "      <td>00021adfb725ed.jpg</td>\n",
       "      <td>melon_headed_whale</td>\n",
       "      <td>cadddb1636b9</td>\n",
       "    </tr>\n",
       "    <tr>\n",
       "      <th>1</th>\n",
       "      <td>000562241d384d.jpg</td>\n",
       "      <td>humpback_whale</td>\n",
       "      <td>1a71fbb72250</td>\n",
       "    </tr>\n",
       "    <tr>\n",
       "      <th>2</th>\n",
       "      <td>0007c33415ce37.jpg</td>\n",
       "      <td>false_killer_whale</td>\n",
       "      <td>60008f293a2b</td>\n",
       "    </tr>\n",
       "    <tr>\n",
       "      <th>3</th>\n",
       "      <td>0007d9bca26a99.jpg</td>\n",
       "      <td>bottlenose_dolphin</td>\n",
       "      <td>4b00fe572063</td>\n",
       "    </tr>\n",
       "    <tr>\n",
       "      <th>4</th>\n",
       "      <td>00087baf5cef7a.jpg</td>\n",
       "      <td>humpback_whale</td>\n",
       "      <td>8e5253662392</td>\n",
       "    </tr>\n",
       "    <tr>\n",
       "      <th>...</th>\n",
       "      <td>...</td>\n",
       "      <td>...</td>\n",
       "      <td>...</td>\n",
       "    </tr>\n",
       "    <tr>\n",
       "      <th>51028</th>\n",
       "      <td>fff639a7a78b3f.jpg</td>\n",
       "      <td>beluga</td>\n",
       "      <td>5ac053677ed1</td>\n",
       "    </tr>\n",
       "    <tr>\n",
       "      <th>51029</th>\n",
       "      <td>fff8b32daff17e.jpg</td>\n",
       "      <td>cuviers_beaked_whale</td>\n",
       "      <td>1184686361b3</td>\n",
       "    </tr>\n",
       "    <tr>\n",
       "      <th>51030</th>\n",
       "      <td>fff94675cc1aef.jpg</td>\n",
       "      <td>blue_whale</td>\n",
       "      <td>5401612696b9</td>\n",
       "    </tr>\n",
       "    <tr>\n",
       "      <th>51031</th>\n",
       "      <td>fffbc5dd642d8c.jpg</td>\n",
       "      <td>beluga</td>\n",
       "      <td>4000b3d7c24e</td>\n",
       "    </tr>\n",
       "    <tr>\n",
       "      <th>51032</th>\n",
       "      <td>fffdcd42312777.jpg</td>\n",
       "      <td>bottlenose_dolphin</td>\n",
       "      <td>4ddb2eeb5efb</td>\n",
       "    </tr>\n",
       "  </tbody>\n",
       "</table>\n",
       "<p>51033 rows × 3 columns</p>\n",
       "</div>"
      ],
      "text/plain": [
       "                    image               species individual_id\n",
       "0      00021adfb725ed.jpg    melon_headed_whale  cadddb1636b9\n",
       "1      000562241d384d.jpg        humpback_whale  1a71fbb72250\n",
       "2      0007c33415ce37.jpg    false_killer_whale  60008f293a2b\n",
       "3      0007d9bca26a99.jpg    bottlenose_dolphin  4b00fe572063\n",
       "4      00087baf5cef7a.jpg        humpback_whale  8e5253662392\n",
       "...                   ...                   ...           ...\n",
       "51028  fff639a7a78b3f.jpg                beluga  5ac053677ed1\n",
       "51029  fff8b32daff17e.jpg  cuviers_beaked_whale  1184686361b3\n",
       "51030  fff94675cc1aef.jpg            blue_whale  5401612696b9\n",
       "51031  fffbc5dd642d8c.jpg                beluga  4000b3d7c24e\n",
       "51032  fffdcd42312777.jpg    bottlenose_dolphin  4ddb2eeb5efb\n",
       "\n",
       "[51033 rows x 3 columns]"
      ]
     },
     "execution_count": 6,
     "metadata": {},
     "output_type": "execute_result"
    }
   ],
   "source": [
    "#adjust names to fit\n",
    "train_csv = \"train.csv\"\n",
    "train_df = pd.read_csv(train_csv)\n",
    "train_df.species.replace({\"globis\": \"short_finned_pilot_whale\",\n",
    "                          \"pilot_whale\": \"short_finned_pilot_whale\",\n",
    "                          \"kiler_whale\": \"killer_whale\",\n",
    "                          \"bottlenose_dolpin\": \"bottlenose_dolphin\"}, inplace=True)\n",
    "\n",
    "species_labels = list(train_df.species.unique())\n",
    "images = train_df['image']\n",
    "sid = train_df['individual_id']\n",
    "train_df"
   ]
  },
  {
   "cell_type": "code",
   "execution_count": 7,
   "id": "6ae417ca",
   "metadata": {},
   "outputs": [
    {
     "name": "stdout",
     "output_type": "stream",
     "text": [
      "amount of species: 26\n"
     ]
    },
    {
     "data": {
      "image/png": "[encoded data removed]",
      "text/plain": [
       "<Figure size 864x504 with 1 Axes>"
      ]
     },
     "metadata": {
      "needs_background": "light"
     },
     "output_type": "display_data"
    }
   ],
   "source": [
    "print(f\"amount of species: {len(train_df.species.unique())}\")\n",
    "plt.figure(figsize=(12, 7))\n",
    "train_df.groupby(by='species').size().sort_values().plot.barh().set_xscale('log')"
   ]
  },
  {
   "cell_type": "code",
   "execution_count": 8,
   "id": "5fb44bed",
   "metadata": {},
   "outputs": [],
   "source": [
    "thresh = 1000\n",
    "max_instances = 3000\n",
    "\n",
    "#train_df.species = train_df.species.apply(lambda x: 'other_dolphin' if ('dolphin' in x and not \"bottlenose\" in x) else x)\n",
    "species_counts = train_df['species'].value_counts()\n",
    "\n",
    "\n",
    "\n",
    "final_species = species_counts[species_counts > thresh].index.tolist()\n",
    "undersample_species = species_counts[species_counts > max_instances].index.tolist()\n",
    "mask = train_df.species.apply(lambda x: any(item for item in final_species if item in x))\n",
    "final_df = train_df[mask]"
   ]
  },
  {
   "cell_type": "code",
   "execution_count": 9,
   "id": "bdfff4f1",
   "metadata": {},
   "outputs": [],
   "source": [
    "def undersample(df, index, max_instances):\n",
    "    sampled = df[df.species == index].sample(n=max_instances, random_state=101) if len(df[df.species == index]) > max_instances else df[df.species == index]\n",
    "    return  sampled\n",
    "\n",
    "dfs = []\n",
    "for species in final_species:\n",
    "    dfs.append(undersample(final_df,species,max_instances))\n",
    "\n",
    "final_train_df = pd.concat(dfs,axis=0)\n",
    "final_train_df[\"species\"].value_counts()\n",
    "\n",
    "train_df=final_train_df"
   ]
  },
  {
   "cell_type": "code",
   "execution_count": 10,
   "id": "b87e44c3",
   "metadata": {},
   "outputs": [
    {
     "data": {
      "text/html": [
       "<div>\n",
       "<style scoped>\n",
       "    .dataframe tbody tr th:only-of-type {\n",
       "        vertical-align: middle;\n",
       "    }\n",
       "\n",
       "    .dataframe tbody tr th {\n",
       "        vertical-align: top;\n",
       "    }\n",
       "\n",
       "    .dataframe thead th {\n",
       "        text-align: right;\n",
       "    }\n",
       "</style>\n",
       "<table border=\"1\" class=\"dataframe\">\n",
       "  <thead>\n",
       "    <tr style=\"text-align: right;\">\n",
       "      <th></th>\n",
       "      <th>species__beluga</th>\n",
       "      <th>species__blue_whale</th>\n",
       "      <th>species__bottlenose_dolphin</th>\n",
       "      <th>species__dusky_dolphin</th>\n",
       "      <th>species__false_killer_whale</th>\n",
       "      <th>species__fin_whale</th>\n",
       "      <th>species__gray_whale</th>\n",
       "      <th>species__humpback_whale</th>\n",
       "      <th>species__killer_whale</th>\n",
       "      <th>species__melon_headed_whale</th>\n",
       "      <th>species__minke_whale</th>\n",
       "      <th>species__spinner_dolphin</th>\n",
       "    </tr>\n",
       "  </thead>\n",
       "  <tbody>\n",
       "    <tr>\n",
       "      <th>43925</th>\n",
       "      <td>0</td>\n",
       "      <td>0</td>\n",
       "      <td>1</td>\n",
       "      <td>0</td>\n",
       "      <td>0</td>\n",
       "      <td>0</td>\n",
       "      <td>0</td>\n",
       "      <td>0</td>\n",
       "      <td>0</td>\n",
       "      <td>0</td>\n",
       "      <td>0</td>\n",
       "      <td>0</td>\n",
       "    </tr>\n",
       "    <tr>\n",
       "      <th>42060</th>\n",
       "      <td>0</td>\n",
       "      <td>0</td>\n",
       "      <td>1</td>\n",
       "      <td>0</td>\n",
       "      <td>0</td>\n",
       "      <td>0</td>\n",
       "      <td>0</td>\n",
       "      <td>0</td>\n",
       "      <td>0</td>\n",
       "      <td>0</td>\n",
       "      <td>0</td>\n",
       "      <td>0</td>\n",
       "    </tr>\n",
       "    <tr>\n",
       "      <th>19821</th>\n",
       "      <td>0</td>\n",
       "      <td>0</td>\n",
       "      <td>1</td>\n",
       "      <td>0</td>\n",
       "      <td>0</td>\n",
       "      <td>0</td>\n",
       "      <td>0</td>\n",
       "      <td>0</td>\n",
       "      <td>0</td>\n",
       "      <td>0</td>\n",
       "      <td>0</td>\n",
       "      <td>0</td>\n",
       "    </tr>\n",
       "    <tr>\n",
       "      <th>17429</th>\n",
       "      <td>0</td>\n",
       "      <td>0</td>\n",
       "      <td>1</td>\n",
       "      <td>0</td>\n",
       "      <td>0</td>\n",
       "      <td>0</td>\n",
       "      <td>0</td>\n",
       "      <td>0</td>\n",
       "      <td>0</td>\n",
       "      <td>0</td>\n",
       "      <td>0</td>\n",
       "      <td>0</td>\n",
       "    </tr>\n",
       "    <tr>\n",
       "      <th>50351</th>\n",
       "      <td>0</td>\n",
       "      <td>0</td>\n",
       "      <td>1</td>\n",
       "      <td>0</td>\n",
       "      <td>0</td>\n",
       "      <td>0</td>\n",
       "      <td>0</td>\n",
       "      <td>0</td>\n",
       "      <td>0</td>\n",
       "      <td>0</td>\n",
       "      <td>0</td>\n",
       "      <td>0</td>\n",
       "    </tr>\n",
       "    <tr>\n",
       "      <th>...</th>\n",
       "      <td>...</td>\n",
       "      <td>...</td>\n",
       "      <td>...</td>\n",
       "      <td>...</td>\n",
       "      <td>...</td>\n",
       "      <td>...</td>\n",
       "      <td>...</td>\n",
       "      <td>...</td>\n",
       "      <td>...</td>\n",
       "      <td>...</td>\n",
       "      <td>...</td>\n",
       "      <td>...</td>\n",
       "    </tr>\n",
       "    <tr>\n",
       "      <th>50778</th>\n",
       "      <td>0</td>\n",
       "      <td>0</td>\n",
       "      <td>0</td>\n",
       "      <td>0</td>\n",
       "      <td>0</td>\n",
       "      <td>0</td>\n",
       "      <td>1</td>\n",
       "      <td>0</td>\n",
       "      <td>0</td>\n",
       "      <td>0</td>\n",
       "      <td>0</td>\n",
       "      <td>0</td>\n",
       "    </tr>\n",
       "    <tr>\n",
       "      <th>50842</th>\n",
       "      <td>0</td>\n",
       "      <td>0</td>\n",
       "      <td>0</td>\n",
       "      <td>0</td>\n",
       "      <td>0</td>\n",
       "      <td>0</td>\n",
       "      <td>1</td>\n",
       "      <td>0</td>\n",
       "      <td>0</td>\n",
       "      <td>0</td>\n",
       "      <td>0</td>\n",
       "      <td>0</td>\n",
       "    </tr>\n",
       "    <tr>\n",
       "      <th>50887</th>\n",
       "      <td>0</td>\n",
       "      <td>0</td>\n",
       "      <td>0</td>\n",
       "      <td>0</td>\n",
       "      <td>0</td>\n",
       "      <td>0</td>\n",
       "      <td>1</td>\n",
       "      <td>0</td>\n",
       "      <td>0</td>\n",
       "      <td>0</td>\n",
       "      <td>0</td>\n",
       "      <td>0</td>\n",
       "    </tr>\n",
       "    <tr>\n",
       "      <th>50935</th>\n",
       "      <td>0</td>\n",
       "      <td>0</td>\n",
       "      <td>0</td>\n",
       "      <td>0</td>\n",
       "      <td>0</td>\n",
       "      <td>0</td>\n",
       "      <td>1</td>\n",
       "      <td>0</td>\n",
       "      <td>0</td>\n",
       "      <td>0</td>\n",
       "      <td>0</td>\n",
       "      <td>0</td>\n",
       "    </tr>\n",
       "    <tr>\n",
       "      <th>50966</th>\n",
       "      <td>0</td>\n",
       "      <td>0</td>\n",
       "      <td>0</td>\n",
       "      <td>0</td>\n",
       "      <td>0</td>\n",
       "      <td>0</td>\n",
       "      <td>1</td>\n",
       "      <td>0</td>\n",
       "      <td>0</td>\n",
       "      <td>0</td>\n",
       "      <td>0</td>\n",
       "      <td>0</td>\n",
       "    </tr>\n",
       "  </tbody>\n",
       "</table>\n",
       "<p>27899 rows × 12 columns</p>\n",
       "</div>"
      ],
      "text/plain": [
       "       species__beluga  species__blue_whale  species__bottlenose_dolphin  \\\n",
       "43925                0                    0                            1   \n",
       "42060                0                    0                            1   \n",
       "19821                0                    0                            1   \n",
       "17429                0                    0                            1   \n",
       "50351                0                    0                            1   \n",
       "...                ...                  ...                          ...   \n",
       "50778                0                    0                            0   \n",
       "50842                0                    0                            0   \n",
       "50887                0                    0                            0   \n",
       "50935                0                    0                            0   \n",
       "50966                0                    0                            0   \n",
       "\n",
       "       species__dusky_dolphin  species__false_killer_whale  \\\n",
       "43925                       0                            0   \n",
       "42060                       0                            0   \n",
       "19821                       0                            0   \n",
       "17429                       0                            0   \n",
       "50351                       0                            0   \n",
       "...                       ...                          ...   \n",
       "50778                       0                            0   \n",
       "50842                       0                            0   \n",
       "50887                       0                            0   \n",
       "50935                       0                            0   \n",
       "50966                       0                            0   \n",
       "\n",
       "       species__fin_whale  species__gray_whale  species__humpback_whale  \\\n",
       "43925                   0                    0                        0   \n",
       "42060                   0                    0                        0   \n",
       "19821                   0                    0                        0   \n",
       "17429                   0                    0                        0   \n",
       "50351                   0                    0                        0   \n",
       "...                   ...                  ...                      ...   \n",
       "50778                   0                    1                        0   \n",
       "50842                   0                    1                        0   \n",
       "50887                   0                    1                        0   \n",
       "50935                   0                    1                        0   \n",
       "50966                   0                    1                        0   \n",
       "\n",
       "       species__killer_whale  species__melon_headed_whale  \\\n",
       "43925                      0                            0   \n",
       "42060                      0                            0   \n",
       "19821                      0                            0   \n",
       "17429                      0                            0   \n",
       "50351                      0                            0   \n",
       "...                      ...                          ...   \n",
       "50778                      0                            0   \n",
       "50842                      0                            0   \n",
       "50887                      0                            0   \n",
       "50935                      0                            0   \n",
       "50966                      0                            0   \n",
       "\n",
       "       species__minke_whale  species__spinner_dolphin  \n",
       "43925                     0                         0  \n",
       "42060                     0                         0  \n",
       "19821                     0                         0  \n",
       "17429                     0                         0  \n",
       "50351                     0                         0  \n",
       "...                     ...                       ...  \n",
       "50778                     0                         0  \n",
       "50842                     0                         0  \n",
       "50887                     0                         0  \n",
       "50935                     0                         0  \n",
       "50966                     0                         0  \n",
       "\n",
       "[27899 rows x 12 columns]"
      ]
     },
     "execution_count": 10,
     "metadata": {},
     "output_type": "execute_result"
    }
   ],
   "source": [
    "def get_id(sp):\n",
    "    return species_labels.index(sp)\n",
    "##encode species\n",
    "#train_df[\"species\"] = train_df.apply(lambda row :get_id(row[\"species\"]),axis = 1)\n",
    "#labels = train_df[\"species\"]\n",
    "\n",
    "##one-hot encode species\n",
    "labels = pd.get_dummies(train_df.species, prefix='species_')\n",
    "labels"
   ]
  },
  {
   "cell_type": "code",
   "execution_count": 11,
   "id": "76d8597b",
   "metadata": {},
   "outputs": [],
   "source": [
    "AMT_CLASSES = labels.shape[1]"
   ]
  },
  {
   "cell_type": "markdown",
   "id": "339e1db3",
   "metadata": {},
   "source": [
    "## Resize Images\n",
    "This helps the model fitting --> picture preprocessing gets less intensive"
   ]
  },
  {
   "cell_type": "code",
   "execution_count": 12,
   "id": "2d01a94f",
   "metadata": {},
   "outputs": [],
   "source": [
    "if not os.path.exists(RES):\n",
    "    os.mkdir(RES)\n",
    "    for image in tqdm(images):\n",
    "        savePath = RES + image  \n",
    "        if not os.path.exists(savePath):\n",
    "            imgPath = SOURCE + image\n",
    "            im = Image.open(imgPath)\n",
    "            im.thumbnail((IMG_SIZE,IMG_SIZE), Image.ANTIALIAS)\n",
    "            im = ImageOps.pad(im, (IMG_SIZE,IMG_SIZE), color='black')\n",
    "\n",
    "            #resizedImage = im.resize((IMG_SIZE, IMG_SIZE), PIL.Image.ANTIALIAS)\n",
    "            #resizedImage.save(savePath) \n",
    "            im.save(savePath)"
   ]
  },
  {
   "cell_type": "code",
   "execution_count": 13,
   "id": "61df9415",
   "metadata": {},
   "outputs": [],
   "source": [
    "#full_img = list(map(RES.__add__, images))\n",
    "full_img = list(map(RES.__add__,train_df['image']))"
   ]
  },
  {
   "cell_type": "markdown",
   "id": "2c7ff92b",
   "metadata": {},
   "source": [
    "## PCA"
   ]
  },
  {
   "cell_type": "code",
   "execution_count": 51,
   "id": "28e69765",
   "metadata": {},
   "outputs": [
    {
     "name": "stderr",
     "output_type": "stream",
     "text": [
      "100%|███████████████████████████████████████████████████████████████████████████| 51033/51033 [03:49<00:00, 222.80it/s]\n"
     ]
    }
   ],
   "source": [
    "img_array = []\n",
    "for img in tqdm(full_img):\n",
    "    im = np.array(Image.open(img).convert('L'))/255\n",
    "    img_array.append(pd.Series(im.flatten(),name=img))\n",
    "#img_array"
   ]
  },
  {
   "cell_type": "markdown",
   "id": "31baba9f",
   "metadata": {},
   "source": [
    "#### PCA Curve"
   ]
  },
  {
   "cell_type": "code",
   "execution_count": 52,
   "id": "9a1ad671",
   "metadata": {},
   "outputs": [],
   "source": [
    "test_pca = PCA(300)\n",
    "test_pca_analyzed = test_pca.fit(img_array)"
   ]
  },
  {
   "cell_type": "code",
   "execution_count": 53,
   "id": "777d6b6b",
   "metadata": {},
   "outputs": [
    {
     "data": {
      "text/plain": [
       "Text(0, 0.5, 'cum variance')"
      ]
     },
     "execution_count": 53,
     "metadata": {},
     "output_type": "execute_result"
    },
    {
     "data": {
      "image/png": "[encoded data removed]",
      "text/plain": [
       "<Figure size 432x288 with 1 Axes>"
      ]
     },
     "metadata": {
      "needs_background": "light"
     },
     "output_type": "display_data"
    }
   ],
   "source": [
    "plt.plot(np.cumsum(test_pca_analyzed.explained_variance_ratio_))\n",
    "plt.hlines(0.9,color=\"red\",xmin=0, xmax=300, linestyle=\"dashed\")\n",
    "plt.hlines(0.8,color=\"blue\",xmin=0, xmax=300, linestyle=\"dotted\")\n",
    "#plt.scatter(128,0.9, color='black')\n",
    "#plt.scatter(23,0.8, color='black' )\n",
    "plt.xlabel(\"number components\")\n",
    "plt.ylabel(\"cum variance\")"
   ]
  },
  {
   "cell_type": "markdown",
   "id": "e419966a",
   "metadata": {},
   "source": [
    "#### final fit with desired specificity"
   ]
  },
  {
   "cell_type": "code",
   "execution_count": null,
   "id": "ab7786e4",
   "metadata": {},
   "outputs": [],
   "source": [
    "pca = PCA(n_components=0.9)\n",
    "pca_analyzed = pca.fit(img_array)"
   ]
  },
  {
   "cell_type": "code",
   "execution_count": null,
   "id": "bee1eb8d",
   "metadata": {},
   "outputs": [],
   "source": [
    "fig, axes = plt.subplots(21,6,figsize=(10,50),\n",
    " subplot_kw={'xticks':[], 'yticks':[]},\n",
    " gridspec_kw=dict(hspace=0.01, wspace=0.01))\n",
    "for i, ax in enumerate(axes.flat):\n",
    "    ax.imshow(pca_analyzed.components_[i].reshape(INPUT_SHAPE),cmap=\"gray\")"
   ]
  },
  {
   "cell_type": "code",
   "execution_count": null,
   "id": "3e65e27c",
   "metadata": {},
   "outputs": [],
   "source": [
    "PCA_COMPONENTS = pca_analyzed.components_.shape[0]\n",
    "print(f\"Amount of PCA components: {PCA_COMPONENTS}\")"
   ]
  },
  {
   "cell_type": "markdown",
   "id": "14a572a6",
   "metadata": {},
   "source": [
    "#### Show first 3 PC"
   ]
  },
  {
   "cell_type": "code",
   "execution_count": null,
   "id": "714885dc",
   "metadata": {},
   "outputs": [],
   "source": [
    "from mpl_toolkits.mplot3d import Axes3D\n",
    "show_pca = PCA(3)\n",
    "show_pca_analyzed = show_pca.fit(img_array)\n",
    "\n",
    "X_pca = show_pca.transform(img_array) "
   ]
  },
  {
   "cell_type": "code",
   "execution_count": null,
   "id": "267576b8",
   "metadata": {},
   "outputs": [],
   "source": [
    "Xax = X_pca[:,0]\n",
    "Yax = X_pca[:,1]\n",
    "Zax = X_pca[:,2]"
   ]
  },
  {
   "cell_type": "code",
   "execution_count": null,
   "id": "52dd5261",
   "metadata": {},
   "outputs": [],
   "source": [
    "%matplotlib notebook\n",
    "import matplotlib.colors as pltc\n",
    "from random import sample\n",
    "all_colors = [k for k,v in pltc.cnames.items()]\n",
    "\n",
    "fig = plt.figure(figsize=(10,7))\n",
    "ax = fig.add_subplot(111, projection='3d')\n",
    "\n",
    "fig.patch.set_facecolor('white')\n",
    "\n",
    "lbls = train_df.species.unique()\n",
    "for i,l in enumerate(lbls):\n",
    "    colors = sample(all_colors, len(lbls))\n",
    "    ix=np.where(train_df.species==l)\n",
    "    ax.scatter(Xax[ix], Yax[ix], Zax[ix], c=colors[i], s=40,label=lbls[i])\n",
    "# for loop ends\n",
    "ax.set_xlabel(\"First Principal Component\", fontsize=14)\n",
    "ax.set_ylabel(\"Second Principal Component\", fontsize=14)\n",
    "ax.set_zlabel(\"Third Principal Component\", fontsize=14)\n",
    "\n",
    "ax.legend(bbox_to_anchor=(1.15, 1.0),loc=\"upper left\")\n",
    "for angle in range(0, 360):\n",
    "    ax.view_init(30, angle)\n",
    "plt.show()"
   ]
  },
  {
   "cell_type": "markdown",
   "id": "34579eda",
   "metadata": {},
   "source": [
    "## Input Pipeline"
   ]
  },
  {
   "cell_type": "code",
   "execution_count": 14,
   "id": "32bfdbff",
   "metadata": {},
   "outputs": [],
   "source": [
    "@tf.function\n",
    "def process_tuple(image,label):\n",
    "    img = tf.io.read_file(image)\n",
    "    img = tf.image.decode_jpeg(img, channels=CHANNELS)\n",
    "    \n",
    "\n",
    "    \n",
    "    img = tf.image.random_flip_left_right(img)\n",
    "    \n",
    "    lower,upper,size,max_delta = 0.1,0.3,0,0\n",
    "    img = tf.image.random_contrast(img, lower, upper, seed=None)\n",
    "    #img = tf.image.random_crop(img, size, seed=None, name=None)\n",
    "    img = tf.image.random_brightness(img, max_delta, seed=None)\n",
    "    \n",
    "    #img = tf.keras.preprocessing.image.random_rotation(\n",
    "        #img, ROT, row_axis=0, col_axis=1, channel_axis=2)\n",
    "    \n",
    "    img = tf.image.convert_image_dtype(img, tf.float16) / 255\n",
    "    return img, label\n",
    "\n",
    "def pca_transform(image,label):\n",
    "    toast = image.numpy()[:, :, 0].flatten()[:,np.newaxis]\n",
    "    toast = np.reshape(toast, (1,-1)) \n",
    "    pca_data = pca.transform(toast).flatten()\n",
    "    return pca_data, label\n",
    "\n",
    "@tf.function\n",
    "def _adjust_shapes(pca_data, label): \n",
    "    pca_data.set_shape(tf.TensorShape([PCA_COMPONENTS]))\n",
    "    label.set_shape(tf.TensorShape([AMT_CLASSES]))\n",
    "    return pca_data, label"
   ]
  },
  {
   "cell_type": "code",
   "execution_count": 15,
   "id": "6af2b7da",
   "metadata": {},
   "outputs": [],
   "source": [
    "dataset = tf.data.Dataset.from_tensor_slices((full_img, labels)).shuffle(1000).map(process_tuple,num_parallel_calls=tf.data.AUTOTUNE, deterministic=False)\n",
    "#dataset = dataset.map(lambda x,y: tf.py_function(func=pca_transform,inp=[x,y],Tout=[tf.float16,tf.uint8]),num_parallel_calls=tf.data.AUTOTUNE, deterministic=False)\n",
    "#dataset = dataset.map(_adjust_shapes,num_parallel_calls=tf.data.AUTOTUNE, deterministic=False)"
   ]
  },
  {
   "cell_type": "code",
   "execution_count": 16,
   "id": "a9c52304",
   "metadata": {},
   "outputs": [],
   "source": [
    "TRAIN_SPLIT = 0.7\n",
    "VAL_TEST_SPLIT = (1-TRAIN_SPLIT)/2\n",
    "\n",
    "image_count = dataset.cardinality().numpy()\n",
    "train_size = int(image_count*TRAIN_SPLIT)\n",
    "val_test_size = int(image_count*VAL_TEST_SPLIT)\n",
    "\n",
    "train_ds = dataset.take(train_size)\n",
    "val_ds = dataset.skip(train_size).take(val_test_size)\n",
    "test_ds = dataset.skip(train_size).skip(val_test_size)\n",
    "\n",
    "\n",
    "train_batched = train_ds.batch(batch_size=BATCH_SIZE).cache().prefetch(tf.data.AUTOTUNE)\n",
    "val_batched = val_ds.batch(batch_size=int(BATCH_SIZE*0.15)).cache().prefetch(tf.data.AUTOTUNE)\n",
    "test_batched = test_ds.batch(batch_size=BATCH_SIZE).cache().prefetch(tf.data.AUTOTUNE)"
   ]
  },
  {
   "cell_type": "markdown",
   "id": "8fecd46f",
   "metadata": {},
   "source": [
    "### Benchmark Dataset"
   ]
  },
  {
   "cell_type": "code",
   "execution_count": 17,
   "id": "0bd71d23",
   "metadata": {},
   "outputs": [],
   "source": [
    "def benchmark(dataset, num_epochs=2):\n",
    "    start_time = time.perf_counter()\n",
    "    for epoch_num in range(num_epochs):\n",
    "        for sample in tqdm(dataset):\n",
    "            # Performing a training step\n",
    "            time.sleep(0.01)\n",
    "    print(\"Execution time:\", time.perf_counter() - start_time)"
   ]
  },
  {
   "cell_type": "code",
   "execution_count": 18,
   "id": "d3c1d31d",
   "metadata": {
    "scrolled": true
   },
   "outputs": [
    {
     "name": "stderr",
     "output_type": "stream",
     "text": [
      "100%|████████████████████████████████████████████████████████████████████████████████████| 1/1 [00:00<00:00,  2.87it/s]\n",
      "100%|████████████████████████████████████████████████████████████████████████████████████| 1/1 [00:00<00:00,  4.78it/s]"
     ]
    },
    {
     "name": "stdout",
     "output_type": "stream",
     "text": [
      "Execution time: 0.5627478999999767\n"
     ]
    },
    {
     "name": "stderr",
     "output_type": "stream",
     "text": [
      "\n"
     ]
    }
   ],
   "source": [
    "benchmark_ds = dataset.take(1)\n",
    "#for d in benchmark_ds:\n",
    "#    print(d)\n",
    "benchmark(benchmark_ds)"
   ]
  },
  {
   "cell_type": "markdown",
   "id": "8df53386",
   "metadata": {},
   "source": [
    "## Modelling"
   ]
  },
  {
   "cell_type": "code",
   "execution_count": 19,
   "id": "46deee6c",
   "metadata": {},
   "outputs": [],
   "source": [
    "import pprint\n",
    "import math\n",
    "\n",
    "from keras.datasets import fashion_mnist\n",
    "from keras.models import Sequential\n",
    "from keras.layers import Conv2D, MaxPooling2D, Dropout, Dense, Flatten\n",
    "from keras.utils import np_utils\n",
    "from tensorflow.keras.optimizers import Adagrad, SGD, Adam, Nadam, Adadelta\n",
    "from keras.callbacks import ReduceLROnPlateau, ModelCheckpoint, Callback, EarlyStopping"
   ]
  },
  {
   "cell_type": "markdown",
   "id": "7aaba605",
   "metadata": {},
   "source": [
    "#### WandB"
   ]
  },
  {
   "cell_type": "code",
   "execution_count": 20,
   "id": "5f883cc5",
   "metadata": {},
   "outputs": [
    {
     "name": "stdout",
     "output_type": "stream",
     "text": [
      "Create sweep with ID: hjw6rty0\n",
      "Sweep URL: https://wandb.ai/dolphin_project/my-test-project/sweeps/hjw6rty0\n"
     ]
    }
   ],
   "source": [
    "sweep_config = {\n",
    "    'method': 'random'\n",
    "    }\n",
    "\n",
    "metric = {\n",
    "    'name': 'accuracy',\n",
    "    'goal': 'maximize'   \n",
    "    }\n",
    "sweep_config['metric'] = metric\n",
    "\n",
    "parameters_dict = {\n",
    "    'epochs': {\n",
    "        'value': 5\n",
    "        },\n",
    "    'batch_size': {\n",
    "        'values': [32,64,128,256]\n",
    "        },\n",
    "    'learning_rate': {\n",
    "        # a flat distribution between 0 and 0.1\n",
    "        'distribution': 'uniform',\n",
    "        'min': 0,\n",
    "        'max': 0.1\n",
    "        },\n",
    "    'activation': {\n",
    "        'values': ['relu', 'tanh','sigmoid']\n",
    "        },\n",
    "    'optimizer': {\n",
    "        'values': ['adam', 'sgd','adadelta','adagrad','nadam']\n",
    "        },\n",
    "    'hidden_layer_size': {\n",
    "        'values': [32,64, 128, 256]\n",
    "        },\n",
    "    'dropout': {\n",
    "          'values': [0.1,0.2, 0.3, 0.4,0.5]\n",
    "        }\n",
    "    }\n",
    "\n",
    "sweep_config['parameters'] = parameters_dict\n",
    "\n",
    "\n",
    "\n",
    "sweep_id = wandb.sweep(sweep_config, project=\"my-test-project\",entity=\"dolphin_project\")"
   ]
  },
  {
   "cell_type": "code",
   "execution_count": 21,
   "id": "c644653d",
   "metadata": {},
   "outputs": [
    {
     "name": "stdout",
     "output_type": "stream",
     "text": [
      "{'method': 'random',\n",
      " 'metric': {'goal': 'maximize', 'name': 'accuracy'},\n",
      " 'parameters': {'activation': {'values': ['relu', 'tanh', 'sigmoid']},\n",
      "                'batch_size': {'values': [32, 64, 128, 256]},\n",
      "                'dropout': {'values': [0.1, 0.2, 0.3, 0.4, 0.5]},\n",
      "                'epochs': {'value': 5},\n",
      "                'hidden_layer_size': {'values': [32, 64, 128, 256]},\n",
      "                'learning_rate': {'distribution': 'uniform',\n",
      "                                  'max': 0.1,\n",
      "                                  'min': 0},\n",
      "                'optimizer': {'values': ['adam',\n",
      "                                         'sgd',\n",
      "                                         'adadelta',\n",
      "                                         'adagrad',\n",
      "                                         'nadam']}}}\n"
     ]
    }
   ],
   "source": [
    "pprint.pprint(sweep_config)"
   ]
  },
  {
   "cell_type": "markdown",
   "id": "5acd0432",
   "metadata": {},
   "source": [
    "#### Model Keras"
   ]
  },
  {
   "cell_type": "code",
   "execution_count": 22,
   "id": "d6ac8245",
   "metadata": {},
   "outputs": [],
   "source": [
    "def train():\n",
    "    # Default values for hyper-parameters we're going to sweep over\n",
    "    config_defaults = {\n",
    "        'epochs': 5,\n",
    "        'batch_size': 128,\n",
    "        'learning_rate': 1e-3,\n",
    "        'activation': 'relu',\n",
    "        'optimizer': 'nadam',\n",
    "        'hidden_layer_size': 128,\n",
    "        'dropout': 0.5,\n",
    "    }\n",
    "    wandb.init(config=config_defaults)\n",
    "    config = wandb.config\n",
    "    \n",
    "    \n",
    "\n",
    "    model = Sequential() \n",
    "    model.add(keras.Input(shape=INPUT_SHAPE))#Input - dont change\n",
    "    \n",
    "    \n",
    "    #block1\n",
    "    model.add(Conv2D(filters=64, kernel_size=5, activation=config.activation, padding='same', input_shape=[64, 64, 1]))\n",
    "    model.add(Dropout(0.3))\n",
    "    model.add(MaxPooling2D())\n",
    "              \n",
    "    #block2\n",
    "    model.add(Conv2D(filters=128, kernel_size=3, activation=config.activation, padding='same'))\n",
    "    model.add(Dropout(0.3))\n",
    "    model.add(MaxPooling2D())\n",
    "    \n",
    "    #block3\n",
    "    model.add(Conv2D(filters=256, kernel_size=3, activation=config.activation, padding='same'))\n",
    "    model.add(Dropout(0.3))\n",
    "    model.add(MaxPooling2D())\n",
    "    \n",
    "    #block4\n",
    "    model.add(Conv2D(filters=512, kernel_size=3, activation=config.activation, padding='same'))\n",
    "    model.add(Dropout(0.3))\n",
    "    model.add(MaxPooling2D())\n",
    "    \n",
    "\n",
    "    model.add(Flatten())          \n",
    "    model.add(Dense(units=256, activation=config.activation))\n",
    "\n",
    "    #Output - dont change\n",
    "    model.add(Dense(AMT_CLASSES, activation = \"softmax\"))\n",
    "\n",
    "    \n",
    "    \n",
    "    if config.optimizer=='sgd':\n",
    "        optimizer = SGD(learning_rate=config.learning_rate, decay=1e-5, momentum=0.9, nesterov=True)\n",
    "    elif config.optimizer=='adagrad':\n",
    "        optimizer = Adagrad(learning_rate=config.learning_rate)\n",
    "    elif config.optimizer=='adam':\n",
    "        optimizer = Adam(learning_rate=config.learning_rate, beta_1=0.9, beta_2=0.999, clipnorm=1.0)\n",
    "    elif config.optimizer==\"adadelta\":\n",
    "        optimizer = Adadelta(learning_rate=config.learning_rate)\n",
    "    elif config.optimizer=='nadam':\n",
    "        optimizer = Nadam(learning_rate=config.learning_rate, beta_1=0.9, beta_2=0.999, clipnorm=1.0)\n",
    "\n",
    "        \n",
    "    model.compile(loss = \"categorical_crossentropy\", optimizer = config.optimizer, metrics=['categorical_accuracy'])\n",
    "    model.fit(train_batched, batch_size=config.batch_size,\n",
    "              epochs=config.epochs,\n",
    "              validation_data=val_batched,\n",
    "              callbacks=[WandbCallback(),\n",
    "                          EarlyStopping(patience=10, restore_best_weights=True)])\n"
   ]
  },
  {
   "cell_type": "code",
   "execution_count": null,
   "id": "874dac29",
   "metadata": {
    "scrolled": true
   },
   "outputs": [
    {
     "name": "stderr",
     "output_type": "stream",
     "text": [
      "\u001b[34m\u001b[1mwandb\u001b[0m: Agent Starting Run: bzkt39zj with config:\n",
      "\u001b[34m\u001b[1mwandb\u001b[0m: \tactivation: tanh\n",
      "\u001b[34m\u001b[1mwandb\u001b[0m: \tbatch_size: 64\n",
      "\u001b[34m\u001b[1mwandb\u001b[0m: \tdropout: 0.1\n",
      "\u001b[34m\u001b[1mwandb\u001b[0m: \tepochs: 5\n",
      "\u001b[34m\u001b[1mwandb\u001b[0m: \thidden_layer_size: 128\n",
      "\u001b[34m\u001b[1mwandb\u001b[0m: \tlearning_rate: 0.003481647847448699\n",
      "\u001b[34m\u001b[1mwandb\u001b[0m: \toptimizer: adadelta\n",
      "\u001b[34m\u001b[1mwandb\u001b[0m: Currently logged in as: \u001b[33mdolphin_project\u001b[0m (use `wandb login --relogin` to force relogin)\n",
      "\u001b[34m\u001b[1mwandb\u001b[0m: wandb version 0.12.11 is available!  To upgrade, please run:\n",
      "\u001b[34m\u001b[1mwandb\u001b[0m:  $ pip install wandb --upgrade\n"
     ]
    },
    {
     "data": {
      "text/html": [
       "\n",
       "                    Syncing run <strong><a href=\"https://wandb.ai/dolphin_project/my-test-project/runs/bzkt39zj\" target=\"_blank\">ancient-sweep-1</a></strong> to <a href=\"https://wandb.ai/dolphin_project/my-test-project\" target=\"_blank\">Weights & Biases</a> (<a href=\"https://docs.wandb.com/integrations/jupyter.html\" target=\"_blank\">docs</a>).<br/>\n",
       "Sweep page: <a href=\"https://wandb.ai/dolphin_project/my-test-project/sweeps/hjw6rty0\" target=\"_blank\">https://wandb.ai/dolphin_project/my-test-project/sweeps/hjw6rty0</a><br/>\n",
       "\n",
       "                "
      ],
      "text/plain": [
       "<IPython.core.display.HTML object>"
      ]
     },
     "metadata": {},
     "output_type": "display_data"
    },
    {
     "name": "stdout",
     "output_type": "stream",
     "text": [
      "Epoch 1/5\n",
      "77/77 [==============================] - 246s 3s/step - loss: 2.4841 - accuracy: 0.1972 - val_loss: 2.4863 - val_accuracy: 0.0014\n",
      "Epoch 2/5\n",
      "77/77 [==============================] - 20s 260ms/step - loss: 2.4825 - accuracy: 0.1485 - val_loss: 2.4874 - val_accuracy: 0.0014\n",
      "Epoch 3/5\n",
      "77/77 [==============================] - 20s 260ms/step - loss: 2.4810 - accuracy: 0.1429 - val_loss: 2.4885 - val_accuracy: 0.0014\n",
      "Epoch 4/5\n",
      "77/77 [==============================] - 20s 263ms/step - loss: 2.4794 - accuracy: 0.1402 - val_loss: 2.4897 - val_accuracy: 0.0014\n",
      "Epoch 5/5\n",
      "77/77 [==============================] - 20s 261ms/step - loss: 2.4777 - accuracy: 0.1402 - val_loss: 2.4909 - val_accuracy: 0.0014\n"
     ]
    },
    {
     "data": {
      "text/html": [
       "<br/>Waiting for W&B process to finish, PID 11048... <strong style=\"color:green\">(success).</strong>"
      ],
      "text/plain": [
       "<IPython.core.display.HTML object>"
      ]
     },
     "metadata": {},
     "output_type": "display_data"
    },
    {
     "data": {
      "application/vnd.jupyter.widget-view+json": {
       "model_id": "",
       "version_major": 2,
       "version_minor": 0
      },
      "text/plain": [
       "VBox(children=(Label(value=' 41.85MB of 41.85MB uploaded (0.00MB deduped)\\r'), FloatProgress(value=1.0, max=1.…"
      ]
     },
     "metadata": {},
     "output_type": "display_data"
    },
    {
     "data": {
      "text/html": [
       "<style>\n",
       "    table.wandb td:nth-child(1) { padding: 0 10px; text-align: right }\n",
       "    .wandb-row { display: flex; flex-direction: row; flex-wrap: wrap; width: 100% }\n",
       "    .wandb-col { display: flex; flex-direction: column; flex-basis: 100%; flex: 1; padding: 10px; }\n",
       "    </style>\n",
       "<div class=\"wandb-row\"><div class=\"wandb-col\">\n",
       "<h3>Run history:</h3><br/><table class=\"wandb\"><tr><td>accuracy</td><td>█▂▁▁▁</td></tr><tr><td>epoch</td><td>▁▃▅▆█</td></tr><tr><td>loss</td><td>█▆▅▃▁</td></tr><tr><td>val_accuracy</td><td>▁▁▁▁▁</td></tr><tr><td>val_loss</td><td>▁▃▄▆█</td></tr></table><br/></div><div class=\"wandb-col\">\n",
       "<h3>Run summary:</h3><br/><table class=\"wandb\"><tr><td>accuracy</td><td>0.1402</td></tr><tr><td>best_epoch</td><td>0</td></tr><tr><td>best_val_loss</td><td>2.48626</td></tr><tr><td>epoch</td><td>4</td></tr><tr><td>loss</td><td>2.4777</td></tr><tr><td>val_accuracy</td><td>0.00143</td></tr><tr><td>val_loss</td><td>2.49088</td></tr></table>\n",
       "</div></div>\n",
       "Synced 5 W&B file(s), 1 media file(s), 0 artifact file(s) and 1 other file(s)\n",
       "<br/>Synced <strong style=\"color:#cdcd00\">ancient-sweep-1</strong>: <a href=\"https://wandb.ai/dolphin_project/my-test-project/runs/bzkt39zj\" target=\"_blank\">https://wandb.ai/dolphin_project/my-test-project/runs/bzkt39zj</a><br/>\n",
       "Find logs at: <code>.\\wandb\\run-20220315_184700-bzkt39zj\\logs</code><br/>\n"
      ],
      "text/plain": [
       "<IPython.core.display.HTML object>"
      ]
     },
     "metadata": {},
     "output_type": "display_data"
    },
    {
     "name": "stderr",
     "output_type": "stream",
     "text": [
      "\u001b[34m\u001b[1mwandb\u001b[0m: Sweep Agent: Waiting for job.\n",
      "\u001b[34m\u001b[1mwandb\u001b[0m: Job received.\n",
      "\u001b[34m\u001b[1mwandb\u001b[0m: Agent Starting Run: o24ucabo with config:\n",
      "\u001b[34m\u001b[1mwandb\u001b[0m: \tactivation: sigmoid\n",
      "\u001b[34m\u001b[1mwandb\u001b[0m: \tbatch_size: 64\n",
      "\u001b[34m\u001b[1mwandb\u001b[0m: \tdropout: 0.1\n",
      "\u001b[34m\u001b[1mwandb\u001b[0m: \tepochs: 5\n",
      "\u001b[34m\u001b[1mwandb\u001b[0m: \thidden_layer_size: 64\n",
      "\u001b[34m\u001b[1mwandb\u001b[0m: \tlearning_rate: 0.06287745080766116\n",
      "\u001b[34m\u001b[1mwandb\u001b[0m: \toptimizer: adagrad\n",
      "\u001b[34m\u001b[1mwandb\u001b[0m: wandb version 0.12.11 is available!  To upgrade, please run:\n",
      "\u001b[34m\u001b[1mwandb\u001b[0m:  $ pip install wandb --upgrade\n"
     ]
    },
    {
     "data": {
      "text/html": [
       "\n",
       "                    Syncing run <strong><a href=\"https://wandb.ai/dolphin_project/my-test-project/runs/o24ucabo\" target=\"_blank\">hopeful-sweep-2</a></strong> to <a href=\"https://wandb.ai/dolphin_project/my-test-project\" target=\"_blank\">Weights & Biases</a> (<a href=\"https://docs.wandb.com/integrations/jupyter.html\" target=\"_blank\">docs</a>).<br/>\n",
       "Sweep page: <a href=\"https://wandb.ai/dolphin_project/my-test-project/sweeps/hjw6rty0\" target=\"_blank\">https://wandb.ai/dolphin_project/my-test-project/sweeps/hjw6rty0</a><br/>\n",
       "\n",
       "                "
      ],
      "text/plain": [
       "<IPython.core.display.HTML object>"
      ]
     },
     "metadata": {},
     "output_type": "display_data"
    },
    {
     "name": "stdout",
     "output_type": "stream",
     "text": [
      "Epoch 1/5\n",
      " 6/77 [=>............................] - ETA: 17s - loss: 0.7102 - accuracy: 0.8333 WARNING:tensorflow:Callback method `on_train_batch_end` is slow compared to the batch time (batch time: 0.1167s vs `on_train_batch_end` time: 0.1274s). Check your callbacks.\n",
      "77/77 [==============================] - 21s 264ms/step - loss: 1.2097 - accuracy: 0.6535 - val_loss: 3.8940 - val_accuracy: 0.2012\n",
      "Epoch 2/5\n",
      "77/77 [==============================] - 20s 259ms/step - loss: 1.3382 - accuracy: 0.5986 - val_loss: 4.1599 - val_accuracy: 0.2012\n",
      "Epoch 3/5\n",
      "77/77 [==============================] - 20s 260ms/step - loss: 1.4197 - accuracy: 0.5333 - val_loss: 4.3216 - val_accuracy: 0.2012\n",
      "Epoch 4/5\n",
      "77/77 [==============================] - 20s 260ms/step - loss: 1.4995 - accuracy: 0.4918 - val_loss: 4.4481 - val_accuracy: 0.2012\n",
      "Epoch 5/5\n",
      "77/77 [==============================] - 20s 259ms/step - loss: 1.5773 - accuracy: 0.4454 - val_loss: 4.5607 - val_accuracy: 0.2012\n"
     ]
    },
    {
     "data": {
      "text/html": [
       "<br/>Waiting for W&B process to finish, PID 6480... <strong style=\"color:green\">(success).</strong>"
      ],
      "text/plain": [
       "<IPython.core.display.HTML object>"
      ]
     },
     "metadata": {},
     "output_type": "display_data"
    },
    {
     "data": {
      "application/vnd.jupyter.widget-view+json": {
       "model_id": "",
       "version_major": 2,
       "version_minor": 0
      },
      "text/plain": [
       "VBox(children=(Label(value=' 27.92MB of 27.92MB uploaded (0.00MB deduped)\\r'), FloatProgress(value=1.0, max=1.…"
      ]
     },
     "metadata": {},
     "output_type": "display_data"
    },
    {
     "data": {
      "text/html": [
       "<style>\n",
       "    table.wandb td:nth-child(1) { padding: 0 10px; text-align: right }\n",
       "    .wandb-row { display: flex; flex-direction: row; flex-wrap: wrap; width: 100% }\n",
       "    .wandb-col { display: flex; flex-direction: column; flex-basis: 100%; flex: 1; padding: 10px; }\n",
       "    </style>\n",
       "<div class=\"wandb-row\"><div class=\"wandb-col\">\n",
       "<h3>Run history:</h3><br/><table class=\"wandb\"><tr><td>accuracy</td><td>█▆▄▃▁</td></tr><tr><td>epoch</td><td>▁▃▅▆█</td></tr><tr><td>loss</td><td>▁▃▅▇█</td></tr><tr><td>val_accuracy</td><td>▁▁▁▁▁</td></tr><tr><td>val_loss</td><td>▁▄▅▇█</td></tr></table><br/></div><div class=\"wandb-col\">\n",
       "<h3>Run summary:</h3><br/><table class=\"wandb\"><tr><td>accuracy</td><td>0.44544</td></tr><tr><td>best_epoch</td><td>0</td></tr><tr><td>best_val_loss</td><td>3.89403</td></tr><tr><td>epoch</td><td>4</td></tr><tr><td>loss</td><td>1.5773</td></tr><tr><td>val_accuracy</td><td>0.20124</td></tr><tr><td>val_loss</td><td>4.56073</td></tr></table>\n",
       "</div></div>\n",
       "Synced 5 W&B file(s), 1 media file(s), 0 artifact file(s) and 1 other file(s)\n",
       "<br/>Synced <strong style=\"color:#cdcd00\">hopeful-sweep-2</strong>: <a href=\"https://wandb.ai/dolphin_project/my-test-project/runs/o24ucabo\" target=\"_blank\">https://wandb.ai/dolphin_project/my-test-project/runs/o24ucabo</a><br/>\n",
       "Find logs at: <code>.\\wandb\\run-20220315_185249-o24ucabo\\logs</code><br/>\n"
      ],
      "text/plain": [
       "<IPython.core.display.HTML object>"
      ]
     },
     "metadata": {},
     "output_type": "display_data"
    },
    {
     "name": "stderr",
     "output_type": "stream",
     "text": [
      "\u001b[34m\u001b[1mwandb\u001b[0m: Agent Starting Run: m9jj4us4 with config:\n",
      "\u001b[34m\u001b[1mwandb\u001b[0m: \tactivation: relu\n",
      "\u001b[34m\u001b[1mwandb\u001b[0m: \tbatch_size: 128\n",
      "\u001b[34m\u001b[1mwandb\u001b[0m: \tdropout: 0.1\n",
      "\u001b[34m\u001b[1mwandb\u001b[0m: \tepochs: 5\n",
      "\u001b[34m\u001b[1mwandb\u001b[0m: \thidden_layer_size: 256\n",
      "\u001b[34m\u001b[1mwandb\u001b[0m: \tlearning_rate: 0.07936154626936698\n",
      "\u001b[34m\u001b[1mwandb\u001b[0m: \toptimizer: adagrad\n",
      "\u001b[34m\u001b[1mwandb\u001b[0m: wandb version 0.12.11 is available!  To upgrade, please run:\n",
      "\u001b[34m\u001b[1mwandb\u001b[0m:  $ pip install wandb --upgrade\n"
     ]
    },
    {
     "data": {
      "text/html": [
       "\n",
       "                    Syncing run <strong><a href=\"https://wandb.ai/dolphin_project/my-test-project/runs/m9jj4us4\" target=\"_blank\">honest-sweep-3</a></strong> to <a href=\"https://wandb.ai/dolphin_project/my-test-project\" target=\"_blank\">Weights & Biases</a> (<a href=\"https://docs.wandb.com/integrations/jupyter.html\" target=\"_blank\">docs</a>).<br/>\n",
       "Sweep page: <a href=\"https://wandb.ai/dolphin_project/my-test-project/sweeps/hjw6rty0\" target=\"_blank\">https://wandb.ai/dolphin_project/my-test-project/sweeps/hjw6rty0</a><br/>\n",
       "\n",
       "                "
      ],
      "text/plain": [
       "<IPython.core.display.HTML object>"
      ]
     },
     "metadata": {},
     "output_type": "display_data"
    },
    {
     "name": "stdout",
     "output_type": "stream",
     "text": [
      "Epoch 1/5\n",
      " 6/77 [=>............................] - ETA: 17s - loss: 2.4654 - accuracy: 0.8333 WARNING:tensorflow:Callback method `on_train_batch_end` is slow compared to the batch time (batch time: 0.1163s vs `on_train_batch_end` time: 0.1278s). Check your callbacks.\n",
      "77/77 [==============================] - 21s 264ms/step - loss: 2.4479 - accuracy: 0.2434 - val_loss: 2.5148 - val_accuracy: 0.0000e+00\n",
      "Epoch 2/5\n",
      "77/77 [==============================] - 20s 262ms/step - loss: 2.3455 - accuracy: 0.2138 - val_loss: 2.5894 - val_accuracy: 0.0160\n",
      "Epoch 3/5\n",
      "51/77 [==================>...........] - ETA: 6s - loss: 2.1579 - accuracy: 0.2335"
     ]
    }
   ],
   "source": [
    "wandb.agent(sweep_id, train)"
   ]
  },
  {
   "cell_type": "code",
   "execution_count": 44,
   "id": "27e9fbb7",
   "metadata": {},
   "outputs": [
    {
     "ename": "NameError",
     "evalue": "name 'current_model' is not defined",
     "output_type": "error",
     "traceback": [
      "\u001b[1;31m---------------------------------------------------------------------------\u001b[0m",
      "\u001b[1;31mNameError\u001b[0m                                 Traceback (most recent call last)",
      "Input \u001b[1;32mIn [44]\u001b[0m, in \u001b[0;36m<module>\u001b[1;34m\u001b[0m\n\u001b[1;32m----> 1\u001b[0m cval \u001b[38;5;241m=\u001b[39m \u001b[43mcurrent_model\u001b[49m\u001b[38;5;241m.\u001b[39mevaluate(test_batched, verbose \u001b[38;5;241m=\u001b[39m \u001b[38;5;241m0\u001b[39m)\n\u001b[0;32m      4\u001b[0m wandb\u001b[38;5;241m.\u001b[39mlog({\u001b[38;5;124m\"\u001b[39m\u001b[38;5;124mtest loss\u001b[39m\u001b[38;5;124m\"\u001b[39m : cval[\u001b[38;5;241m0\u001b[39m]})\n\u001b[0;32m      5\u001b[0m wandb\u001b[38;5;241m.\u001b[39mlog({\u001b[38;5;124m\"\u001b[39m\u001b[38;5;124mtest acc\u001b[39m\u001b[38;5;124m\"\u001b[39m : cval[\u001b[38;5;241m1\u001b[39m]})\n",
      "\u001b[1;31mNameError\u001b[0m: name 'current_model' is not defined"
     ]
    }
   ],
   "source": [
    "cval = current_model.evaluate(test_batched, verbose = 0)\n",
    "\n",
    "\n",
    "wandb.log({\"test loss\" : cval[0]})\n",
    "wandb.log({\"test acc\" : cval[1]})\n",
    "wandb.log({\"test error rate\" : round((1-cval[1])*100,2)})\n",
    "run.finish()"
   ]
  },
  {
   "cell_type": "code",
   "execution_count": 25,
   "id": "f01382c4",
   "metadata": {},
   "outputs": [
    {
     "name": "stdout",
     "output_type": "stream",
     "text": [
      "test loss, test acc: [1.452424168586731, 0.5572100281715393]\n"
     ]
    }
   ],
   "source": [
    "print(\"test loss, test acc:\", cval)"
   ]
  },
  {
   "cell_type": "code",
   "execution_count": null,
   "id": "9798fb39",
   "metadata": {},
   "outputs": [],
   "source": [
    "with open(f'seqnn.pkl', 'wb') as file:\n",
    "    pickle.dump(current_model,file)"
   ]
  }
 ],
 "metadata": {
  "kernelspec": {
   "display_name": "Python 3 (ipykernel)",
   "language": "python",
   "name": "python3"
  },
  "language_info": {
   "codemirror_mode": {
    "name": "ipython",
    "version": 3
   },
   "file_extension": ".py",
   "mimetype": "text/x-python",
   "name": "python",
   "nbconvert_exporter": "python",
   "pygments_lexer": "ipython3",
   "version": "3.10.2"
  }
 },
 "nbformat": 4,
 "nbformat_minor": 5
}
