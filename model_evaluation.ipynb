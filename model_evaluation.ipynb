{
 "cells": [
  {
   "cell_type": "code",
   "execution_count": null,
   "id": "52f18c26",
   "metadata": {},
   "outputs": [],
   "source": [
    "import tensorflow as tf\n",
    "import tensorflow.compat.v1 as tfc\n",
    "import numpy as np\n",
    "import seaborn as sns\n",
    "\n",
    "from tensorflow import keras\n",
    "from sklearn.metrics import confusion_matrix\n",
    "from sklearn.metrics import classification_report"
   ]
  },
  {
   "cell_type": "code",
   "execution_count": null,
   "id": "ffaf41f2",
   "metadata": {},
   "outputs": [],
   "source": [
    "tf.keras.backend.clear_session()\n",
    "print(\"Num GPUs Available: \", len(tf.config.list_physical_devices('GPU')))\n",
    "device_name = tf.test.gpu_device_name()\n",
    "if not device_name:\n",
    "  raise SystemError('GPU device not found')\n",
    "print('Found GPU at: {}'.format(device_name))\n",
    "try: sess.close() \n",
    "except: pass\n",
    "\n",
    "tfc.enable_eager_execution()\n",
    "print(f\"eagely execution: {tf.executing_eagerly()}\")\n",
    "\n",
    "gpu_options= tfc.GPUOptions(per_process_gpu_memory_fraction = 0.8)\n",
    "sess = tfc.InteractiveSession(config=tfc.ConfigProto(gpu_options=gpu_options))"
   ]
  },
  {
   "cell_type": "markdown",
   "id": "0581afaa",
   "metadata": {},
   "source": [
    "## Constants"
   ]
  },
  {
   "cell_type": "code",
   "execution_count": null,
   "id": "85a28af8",
   "metadata": {},
   "outputs": [],
   "source": [
    "CHANNELS = 1\n",
    "INPUT_SHAPE = [218,145,CHANNELS]\n",
    "\n",
    "BATCH_SIZE = 64\n",
    "\n",
    "SOURCE = \"train_images/\"\n",
    "RES = f\"train_images_res_{INPUT_SHAPE[0]}x{INPUT_SHAPE[1]}/\"\n",
    "\n",
    "MODELS = [] #-- insert models"
   ]
  },
  {
   "cell_type": "markdown",
   "id": "7ca85279",
   "metadata": {},
   "source": [
    "## Input Pipeline"
   ]
  },
  {
   "cell_type": "code",
   "execution_count": null,
   "id": "8001970d",
   "metadata": {},
   "outputs": [],
   "source": [
    "@tf.function\n",
    "def process_tuple(image):\n",
    "    img = tf.io.read_file(image)\n",
    "    img = tf.image.decode_jpeg(img, channels=CHANNELS)\n",
    "    img = tf.image.convert_image_dtype(img, tf.float16)\n",
    "    return img"
   ]
  },
  {
   "cell_type": "code",
   "execution_count": null,
   "id": "72471a25",
   "metadata": {},
   "outputs": [],
   "source": [
    "test_even_df = pd.read_pickle(\"test_ds.pickle\").sort_index()"
   ]
  },
  {
   "cell_type": "code",
   "execution_count": null,
   "id": "7bdc07fe",
   "metadata": {},
   "outputs": [],
   "source": [
    "#test_label = list(test_even_df[\"species\"].values) --(test_img,test_label)\n",
    "test_img = list(map(RES.__add__,test_even_df[\"image\"]))\n",
    "test_ds = tf.data.Dataset.from_tensor_slices(test_img).map(process_tuple,num_parallel_calls=tf.data.AUTOTUNE, deterministic=False)"
   ]
  },
  {
   "cell_type": "code",
   "execution_count": null,
   "id": "b7506882",
   "metadata": {},
   "outputs": [],
   "source": [
    "test_batched = test_ds.batch(batch_size=BATCH_SIZE).cache().prefetch(tf.data.AUTOTUNE)"
   ]
  },
  {
   "cell_type": "markdown",
   "id": "88fa0158",
   "metadata": {},
   "source": [
    "## Evaluate models"
   ]
  },
  {
   "cell_type": "code",
   "execution_count": null,
   "id": "a7345faa",
   "metadata": {},
   "outputs": [],
   "source": [
    "def make_conf_matrix(y_act,y_pred,model):\n",
    "    cm=confusion_matrix(y_act,y_pred)\n",
    "    cm_sum = np.sum(cm, axis=1, keepdims=True)\n",
    "    cm_perc = cm / cm_sum.astype(float) * 100\n",
    "\n",
    "    plt.figure(figsize=(11, 11))\n",
    "\n",
    "    annot = np.empty_like(cm).astype(str)\n",
    "    nrows, ncols = cm.shape\n",
    "    for i in range(nrows):\n",
    "        for j in range(ncols):\n",
    "            c = cm[i, j]\n",
    "            p = cm_perc[i, j]\n",
    "            if i == j:\n",
    "                s = cm_sum[i]\n",
    "                annot[i, j] = '%.2f%%\\n%d/%d' % (p, c, s)\n",
    "            else:\n",
    "                annot[i, j] = '%d' % (c)\n",
    "\n",
    "    cm=confusion_matrix(y_act,y_pred,normalize='true')            \n",
    "    cm = pd.DataFrame(cm, index=names, columns=names)\n",
    "\n",
    "    ax = sns.heatmap(cm, annot=annot, fmt='', cbar=True, cmap=\"Blues\")\n",
    "\n",
    "    ax.set_title('Confusion Matrix\\n\\n')\n",
    "    ax.set_xlabel('\\nPredicted Species')\n",
    "    ax.set_ylabel('Actual Species')\n",
    "\n",
    "    ax.xaxis.set_ticklabels(names,rotation = 90)\n",
    "    ax.yaxis.set_ticklabels(names, rotation = 360)\n",
    "\n",
    "    plt.savefig(model)"
   ]
  },
  {
   "cell_type": "code",
   "execution_count": null,
   "id": "ca417fa4",
   "metadata": {},
   "outputs": [],
   "source": [
    "y_act = np.array(test_label)\n",
    "\n",
    "metrics = []\n",
    "for model in MODELS:\n",
    "    cm = keras.models.load_model(model)\n",
    "    pr = cm.predict(test_batched)\n",
    "    \n",
    "    y_pred = pr.argmax(axis=1)\n",
    "    make_conf_matrix(y_act,y_pred,model)\n",
    "    \n",
    "    cval = current_model.evaluate(test_batched, verbose = 0)\n",
    "    print(f\"{model} test loss, test acc: {cval}\")\n",
    "    \n",
    "    \n",
    "    test_error_rate = round((1-cval[1])*100,2)\n",
    "    rep = classification_report(y_act, y_pred)\n",
    "    \n",
    "    metrics.append([model, cval,test_error_rate, rep])\n",
    "    "
   ]
  }
 ],
 "metadata": {
  "kernelspec": {
   "display_name": "Python 3 (ipykernel)",
   "language": "python",
   "name": "python3"
  },
  "language_info": {
   "codemirror_mode": {
    "name": "ipython",
    "version": 3
   },
   "file_extension": ".py",
   "mimetype": "text/x-python",
   "name": "python",
   "nbconvert_exporter": "python",
   "pygments_lexer": "ipython3",
   "version": "3.10.2"
  }
 },
 "nbformat": 4,
 "nbformat_minor": 5
}
