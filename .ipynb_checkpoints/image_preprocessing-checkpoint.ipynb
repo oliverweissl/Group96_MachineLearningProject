{
 "cells": [
  {
   "cell_type": "code",
   "execution_count": 198,
   "metadata": {},
   "outputs": [],
   "source": [
    "%matplotlib inline\n",
    "from PIL import Image\n",
    "import numpy as np\n",
    "import pandas as pd\n",
    "import statistics\n",
    "\n",
    "from ipywidgets import interact, widgets\n",
    "\n",
    "import skimage\n",
    "from skimage.io import imread, imshow\n",
    "from skimage.color import rgb2gray, rgb2hsv\n",
    "from skimage.measure import label, regionprops, regionprops_table\n",
    "from skimage.filters import threshold_otsu\n",
    "from scipy.ndimage import median_filter\n",
    "from matplotlib.patches import Rectangle\n",
    "from tqdm import tqdm"
   ]
  },
  {
   "cell_type": "markdown",
   "metadata": {},
   "source": [
    "## Preparing the Images"
   ]
  },
  {
   "cell_type": "code",
   "execution_count": 203,
   "metadata": {},
   "outputs": [],
   "source": [
    "#Scaling down Images if needed\n",
    "MAX_SIZE = (500,500)\n",
    "image = Image.open('img1.jpg')\n",
    "image.thumbnail(MAX_SIZE, PIL.Image.ANTIALIAS)"
   ]
  },
  {
   "cell_type": "code",
   "execution_count": 204,
   "metadata": {},
   "outputs": [],
   "source": [
    "#isolating color channels\n",
    "red,green,blue = image.split()\n",
    "#getting pixel data for channels\n",
    "red_val = list(red.getdata())\n",
    "green_val = list(green.getdata())\n",
    "blue_val = list(blue.getdata())"
   ]
  },
  {
   "cell_type": "code",
   "execution_count": 205,
   "metadata": {},
   "outputs": [],
   "source": [
    "#getting top and bottom row of pixel values for filtering\n",
    "red_top,red_bottom = red_val[:image.width], red_val[-image.width:]\n",
    "green_top, green_bottom = green_val[:image.width], green_val[-image.width:]\n",
    "blue_top,blue_bottom = blue_val[:image.width], blue_val[-image.width:]\n",
    "\n",
    "#combine top and bottom row\n",
    "red_filter_pixels = red_top+red_bottom\n",
    "green_filter_pixels = green_top+green_bottom\n",
    "blue_filter_pixels = blue_top+blue_bottom"
   ]
  },
  {
   "cell_type": "code",
   "execution_count": 213,
   "metadata": {},
   "outputs": [
    {
     "data": {
      "application/vnd.jupyter.widget-view+json": {
       "model_id": "8659ebafb3ef402390b1e5c5c7d42343",
       "version_major": 2,
       "version_minor": 0
      },
      "text/plain": [
       "interactive(children=(FloatSlider(value=0.32, description='r', max=1.0, step=0.05), FloatSlider(value=0.0, des…"
      ]
     },
     "metadata": {},
     "output_type": "display_data"
    }
   ],
   "source": [
    "#calculate mode of red channel --> to determine water\n",
    "red_mode_range = 0.32\n",
    "green_mode_range = 0\n",
    "blue_mode_range = 0.22\n",
    "\n",
    "#calculate mode for the filters\n",
    "red_mode = statistics.mode(red_filter_pixels)\n",
    "green_mode = statistics.mode(green_filter_pixels)\n",
    "blue_mode = statistics.mode(blue_filter_pixels)\n",
    "\n",
    "\n",
    "#getting range for filter\n",
    "@interact(r=(0.0,1.0,0.05),g=(0.0,1.0,0.05),b=(0.0,1.0,0.05))\n",
    "def adj_range(r=red_mode_range,g=green_mode_range,b=blue_mode_range):\n",
    "    red_low, red_high = red_mode * (1-r), red_mode * (1+r)\n",
    "    green_low, green_high = green_mode * (1-g), green_mode * (1+g)\n",
    "    blue_low, blue_high = blue_mode * (1-b), blue_mode * (1+b)\n",
    "    \n",
    "    \n",
    "    #blacken out pixels if they are in red range determined to be water\n",
    "    pixels = image.load()\n",
    "    for i in range(image.width):\n",
    "        for j in range(image.height):\n",
    "            if pixels[i,j][0] >= red_low and pixels[i,j][0] <= red_high or \\\n",
    "               pixels[i,j][1] >= green_low and pixels[i,j][1] <= green_high or \\\n",
    "               pixels[i,j][2] >= blue_low and pixels[i,j][2] <= blue_high:\n",
    "                pixels[i,j] = (255,255,255)\n",
    "    display(image)\n"
   ]
  },
  {
   "cell_type": "code",
   "execution_count": null,
   "metadata": {},
   "outputs": [],
   "source": []
  },
  {
   "cell_type": "code",
   "execution_count": null,
   "metadata": {},
   "outputs": [],
   "source": []
  }
 ],
 "metadata": {
  "kernelspec": {
   "display_name": "Python 3",
   "language": "python",
   "name": "python3"
  },
  "language_info": {
   "codemirror_mode": {
    "name": "ipython",
    "version": 3
   },
   "file_extension": ".py",
   "mimetype": "text/x-python",
   "name": "python",
   "nbconvert_exporter": "python",
   "pygments_lexer": "ipython3",
   "version": "3.8.5"
  }
 },
 "nbformat": 4,
 "nbformat_minor": 4
}
